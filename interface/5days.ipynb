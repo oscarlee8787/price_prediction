{
 "cells": [
  {
   "cell_type": "code",
   "execution_count": null,
   "metadata": {},
   "outputs": [],
   "source": [
    "# Making predictions for the next 5 days\n",
    "predictions = []\n",
    "last_five_days_prices = df['Close'].tail(5).values.tolist()\n",
    "for i in range(5):\n",
    "    last_five_days_scaled = scaler.transform(np.array(last_five_days_prices).reshape(1, -1))\n",
    "    last_five_days_scaled_reshaped = np.reshape(last_five_days_scaled, (1, 5, 1))\n",
    "    prediction = model.predict(last_five_days_scaled_reshaped)\n",
    "    prediction = scaler.inverse_transform(prediction)\n",
    "    predictions.append(prediction)\n",
    "    last_five_days_prices.append(prediction[0, 0])\n",
    "\n",
    "# Printing the predicted closing prices for the next 5 days\n",
    "for i, prediction in enumerate(predictions):\n",
    "    print(f\"Day {i+1}: Predicted Closing Price = {prediction[0, 0]}\")\n"
   ]
  }
 ],
 "metadata": {
  "language_info": {
   "name": "python"
  }
 },
 "nbformat": 4,
 "nbformat_minor": 2
}
