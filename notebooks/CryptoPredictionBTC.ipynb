{
 "cells": [
  {
   "cell_type": "markdown",
   "metadata": {},
   "source": [
    "# 1. Download Training Data"
   ]
  },
  {
   "cell_type": "code",
   "execution_count": 1,
   "metadata": {},
   "outputs": [],
   "source": [
    "# import libraries\n",
    "import numpy as np\n",
    "import pandas as pd\n",
    "import requests"
   ]
  },
  {
   "cell_type": "code",
   "execution_count": 38,
   "metadata": {
    "tags": []
   },
   "outputs": [],
   "source": [
    "# Connect to Binance api to download training data, no need for keys or authentication, \n",
    "# but only accessible from physical machines(does not work on Google Cloud)\n",
    "\n",
    "root_url = 'https://api.binance.com/api/v3/'\n",
    "\n",
    "check_url = root_url + 'ping'\n",
    "\n",
    "if requests.get(check_url).ok != True:\n",
    "    print('!= 200')\n"
   ]
  },
  {
   "cell_type": "code",
   "execution_count": 39,
   "metadata": {},
   "outputs": [],
   "source": [
    "# set api parameters including trading pairs, intervals, and desired timeframes\n",
    "\n",
    "symbol = 'BTCUSDT' # 'BTCUSDT', 'ETHUSDT', etc.\n",
    "\n",
    "interval = '1m' # '1m', '1h', '1d'\n",
    "\n",
    "kline_url = root_url + 'klines'\n",
    "\n",
    "params = {'interval':interval,\n",
    "          'symbol':symbol,\n",
    "          'endTime':1698796800000,\n",
    "          #'limit':5 # Binance default: 500, max: 1000\n",
    "         }"
   ]
  },
  {
   "cell_type": "code",
   "execution_count": 40,
   "metadata": {
    "tags": []
   },
   "outputs": [],
   "source": [
    "# get api data as json\n",
    "\n",
    "if requests.get(url=kline_url, params=params).ok != True:\n",
    "    print('Issue with Binance kline API connectivity, did not fetch data')\n",
    "\n",
    "api_data = requests.get(url=kline_url, params=params).json()"
   ]
  },
  {
   "cell_type": "code",
   "execution_count": 41,
   "metadata": {
    "tags": []
   },
   "outputs": [],
   "source": [
    "# save json to dataframe\n",
    "\n",
    "df = pd.DataFrame(api_data)\n",
    "df.columns = ['Date', 'Open', 'High', 'Low', 'Close', 'Volume',\n",
    "          'k_close_time', 'quote_asset_volume', 'num_trades',\n",
    "          'taker_base_vol', 'taker_quote_vol', 'ignore']"
   ]
  },
  {
   "cell_type": "code",
   "execution_count": 42,
   "metadata": {
    "tags": []
   },
   "outputs": [],
   "source": [
    "# use for loop to overcome Binance api max limit of 1000 rows per call\n",
    "\n",
    "for i in range(1):\n",
    "    prev = df['Date'][0]\n",
    "    # url_next = url + '&endTime=' + str(prev)\n",
    "    params['endTime'] = str(prev)\n",
    "    next_data = requests.get(url=kline_url, params=params).json()\n",
    "    df_next = pd.DataFrame(next_data)\n",
    "    df_next.columns = ['Date', 'Open', 'High', 'Low', 'Close', 'Volume',\n",
    "          'k_close_time', 'quote_asset_volume', 'num_trades',\n",
    "          'taker_base_vol', 'taker_quote_vol', 'ignore']\n",
    "    df = pd.concat([df_next, df]).drop_duplicates()\n"
   ]
  },
  {
   "cell_type": "code",
   "execution_count": 43,
   "metadata": {},
   "outputs": [],
   "source": [
    "for col in ['Open', 'High', 'Low', 'Close', 'Volume',\n",
    "            'quote_asset_volume', 'num_trades',\n",
    "            'taker_base_vol', 'taker_quote_vol', 'ignore']:\n",
    "    df[col] = df[col].astype(float)\n",
    "    \n",
    "df['Date'] = pd.to_datetime(df['Date'],unit='ms')"
   ]
  },
  {
   "cell_type": "code",
   "execution_count": 44,
   "metadata": {},
   "outputs": [
    {
     "data": {
      "text/html": [
       "<div>\n",
       "<style scoped>\n",
       "    .dataframe tbody tr th:only-of-type {\n",
       "        vertical-align: middle;\n",
       "    }\n",
       "\n",
       "    .dataframe tbody tr th {\n",
       "        vertical-align: top;\n",
       "    }\n",
       "\n",
       "    .dataframe thead th {\n",
       "        text-align: right;\n",
       "    }\n",
       "</style>\n",
       "<table border=\"1\" class=\"dataframe\">\n",
       "  <thead>\n",
       "    <tr style=\"text-align: right;\">\n",
       "      <th></th>\n",
       "      <th>Date</th>\n",
       "      <th>Open</th>\n",
       "      <th>High</th>\n",
       "      <th>Low</th>\n",
       "      <th>Close</th>\n",
       "      <th>Volume</th>\n",
       "      <th>k_close_time</th>\n",
       "      <th>quote_asset_volume</th>\n",
       "      <th>num_trades</th>\n",
       "      <th>taker_base_vol</th>\n",
       "      <th>taker_quote_vol</th>\n",
       "      <th>ignore</th>\n",
       "    </tr>\n",
       "  </thead>\n",
       "  <tbody>\n",
       "    <tr>\n",
       "      <th>0</th>\n",
       "      <td>2023-10-31 07:22:00</td>\n",
       "      <td>34251.98</td>\n",
       "      <td>34251.99</td>\n",
       "      <td>34240.57</td>\n",
       "      <td>34240.58</td>\n",
       "      <td>8.09643</td>\n",
       "      <td>1698736979999</td>\n",
       "      <td>2.773084e+05</td>\n",
       "      <td>468.0</td>\n",
       "      <td>1.84564</td>\n",
       "      <td>63212.847501</td>\n",
       "      <td>0.0</td>\n",
       "    </tr>\n",
       "    <tr>\n",
       "      <th>1</th>\n",
       "      <td>2023-10-31 07:23:00</td>\n",
       "      <td>34240.57</td>\n",
       "      <td>34243.99</td>\n",
       "      <td>34166.67</td>\n",
       "      <td>34179.26</td>\n",
       "      <td>63.16500</td>\n",
       "      <td>1698737039999</td>\n",
       "      <td>2.160254e+06</td>\n",
       "      <td>2142.0</td>\n",
       "      <td>16.01178</td>\n",
       "      <td>547505.884313</td>\n",
       "      <td>0.0</td>\n",
       "    </tr>\n",
       "    <tr>\n",
       "      <th>2</th>\n",
       "      <td>2023-10-31 07:24:00</td>\n",
       "      <td>34179.26</td>\n",
       "      <td>34199.65</td>\n",
       "      <td>34179.25</td>\n",
       "      <td>34197.08</td>\n",
       "      <td>23.44053</td>\n",
       "      <td>1698737099999</td>\n",
       "      <td>8.014693e+05</td>\n",
       "      <td>1201.0</td>\n",
       "      <td>13.29687</td>\n",
       "      <td>454617.512692</td>\n",
       "      <td>0.0</td>\n",
       "    </tr>\n",
       "    <tr>\n",
       "      <th>3</th>\n",
       "      <td>2023-10-31 07:25:00</td>\n",
       "      <td>34197.08</td>\n",
       "      <td>34213.57</td>\n",
       "      <td>34180.46</td>\n",
       "      <td>34213.56</td>\n",
       "      <td>21.11683</td>\n",
       "      <td>1698737159999</td>\n",
       "      <td>7.220398e+05</td>\n",
       "      <td>1396.0</td>\n",
       "      <td>11.28853</td>\n",
       "      <td>385968.060392</td>\n",
       "      <td>0.0</td>\n",
       "    </tr>\n",
       "    <tr>\n",
       "      <th>4</th>\n",
       "      <td>2023-10-31 07:26:00</td>\n",
       "      <td>34213.56</td>\n",
       "      <td>34213.57</td>\n",
       "      <td>34159.71</td>\n",
       "      <td>34175.97</td>\n",
       "      <td>97.01270</td>\n",
       "      <td>1698737219999</td>\n",
       "      <td>3.315378e+06</td>\n",
       "      <td>1846.0</td>\n",
       "      <td>25.78075</td>\n",
       "      <td>880944.891193</td>\n",
       "      <td>0.0</td>\n",
       "    </tr>\n",
       "    <tr>\n",
       "      <th>...</th>\n",
       "      <td>...</td>\n",
       "      <td>...</td>\n",
       "      <td>...</td>\n",
       "      <td>...</td>\n",
       "      <td>...</td>\n",
       "      <td>...</td>\n",
       "      <td>...</td>\n",
       "      <td>...</td>\n",
       "      <td>...</td>\n",
       "      <td>...</td>\n",
       "      <td>...</td>\n",
       "      <td>...</td>\n",
       "    </tr>\n",
       "    <tr>\n",
       "      <th>495</th>\n",
       "      <td>2023-10-31 23:56:00</td>\n",
       "      <td>34647.33</td>\n",
       "      <td>34647.33</td>\n",
       "      <td>34632.64</td>\n",
       "      <td>34642.58</td>\n",
       "      <td>19.42605</td>\n",
       "      <td>1698796619999</td>\n",
       "      <td>6.729687e+05</td>\n",
       "      <td>801.0</td>\n",
       "      <td>8.26838</td>\n",
       "      <td>286419.908757</td>\n",
       "      <td>0.0</td>\n",
       "    </tr>\n",
       "    <tr>\n",
       "      <th>496</th>\n",
       "      <td>2023-10-31 23:57:00</td>\n",
       "      <td>34642.57</td>\n",
       "      <td>34658.35</td>\n",
       "      <td>34642.57</td>\n",
       "      <td>34658.34</td>\n",
       "      <td>31.23002</td>\n",
       "      <td>1698796679999</td>\n",
       "      <td>1.082139e+06</td>\n",
       "      <td>817.0</td>\n",
       "      <td>28.41668</td>\n",
       "      <td>984658.040357</td>\n",
       "      <td>0.0</td>\n",
       "    </tr>\n",
       "    <tr>\n",
       "      <th>497</th>\n",
       "      <td>2023-10-31 23:58:00</td>\n",
       "      <td>34658.34</td>\n",
       "      <td>34658.35</td>\n",
       "      <td>34658.34</td>\n",
       "      <td>34658.34</td>\n",
       "      <td>13.16276</td>\n",
       "      <td>1698796739999</td>\n",
       "      <td>4.561995e+05</td>\n",
       "      <td>359.0</td>\n",
       "      <td>10.06236</td>\n",
       "      <td>348744.794706</td>\n",
       "      <td>0.0</td>\n",
       "    </tr>\n",
       "    <tr>\n",
       "      <th>498</th>\n",
       "      <td>2023-10-31 23:59:00</td>\n",
       "      <td>34658.35</td>\n",
       "      <td>34658.35</td>\n",
       "      <td>34639.77</td>\n",
       "      <td>34639.77</td>\n",
       "      <td>18.62235</td>\n",
       "      <td>1698796799999</td>\n",
       "      <td>6.452150e+05</td>\n",
       "      <td>718.0</td>\n",
       "      <td>6.22231</td>\n",
       "      <td>215549.487531</td>\n",
       "      <td>0.0</td>\n",
       "    </tr>\n",
       "    <tr>\n",
       "      <th>499</th>\n",
       "      <td>2023-11-01 00:00:00</td>\n",
       "      <td>34639.78</td>\n",
       "      <td>34656.65</td>\n",
       "      <td>34636.13</td>\n",
       "      <td>34654.62</td>\n",
       "      <td>27.01885</td>\n",
       "      <td>1698796859999</td>\n",
       "      <td>9.361249e+05</td>\n",
       "      <td>979.0</td>\n",
       "      <td>8.84087</td>\n",
       "      <td>306310.531063</td>\n",
       "      <td>0.0</td>\n",
       "    </tr>\n",
       "  </tbody>\n",
       "</table>\n",
       "<p>999 rows × 12 columns</p>\n",
       "</div>"
      ],
      "text/plain": [
       "                   Date      Open      High       Low     Close    Volume  \\\n",
       "0   2023-10-31 07:22:00  34251.98  34251.99  34240.57  34240.58   8.09643   \n",
       "1   2023-10-31 07:23:00  34240.57  34243.99  34166.67  34179.26  63.16500   \n",
       "2   2023-10-31 07:24:00  34179.26  34199.65  34179.25  34197.08  23.44053   \n",
       "3   2023-10-31 07:25:00  34197.08  34213.57  34180.46  34213.56  21.11683   \n",
       "4   2023-10-31 07:26:00  34213.56  34213.57  34159.71  34175.97  97.01270   \n",
       "..                  ...       ...       ...       ...       ...       ...   \n",
       "495 2023-10-31 23:56:00  34647.33  34647.33  34632.64  34642.58  19.42605   \n",
       "496 2023-10-31 23:57:00  34642.57  34658.35  34642.57  34658.34  31.23002   \n",
       "497 2023-10-31 23:58:00  34658.34  34658.35  34658.34  34658.34  13.16276   \n",
       "498 2023-10-31 23:59:00  34658.35  34658.35  34639.77  34639.77  18.62235   \n",
       "499 2023-11-01 00:00:00  34639.78  34656.65  34636.13  34654.62  27.01885   \n",
       "\n",
       "      k_close_time  quote_asset_volume  num_trades  taker_base_vol  \\\n",
       "0    1698736979999        2.773084e+05       468.0         1.84564   \n",
       "1    1698737039999        2.160254e+06      2142.0        16.01178   \n",
       "2    1698737099999        8.014693e+05      1201.0        13.29687   \n",
       "3    1698737159999        7.220398e+05      1396.0        11.28853   \n",
       "4    1698737219999        3.315378e+06      1846.0        25.78075   \n",
       "..             ...                 ...         ...             ...   \n",
       "495  1698796619999        6.729687e+05       801.0         8.26838   \n",
       "496  1698796679999        1.082139e+06       817.0        28.41668   \n",
       "497  1698796739999        4.561995e+05       359.0        10.06236   \n",
       "498  1698796799999        6.452150e+05       718.0         6.22231   \n",
       "499  1698796859999        9.361249e+05       979.0         8.84087   \n",
       "\n",
       "     taker_quote_vol  ignore  \n",
       "0       63212.847501     0.0  \n",
       "1      547505.884313     0.0  \n",
       "2      454617.512692     0.0  \n",
       "3      385968.060392     0.0  \n",
       "4      880944.891193     0.0  \n",
       "..               ...     ...  \n",
       "495    286419.908757     0.0  \n",
       "496    984658.040357     0.0  \n",
       "497    348744.794706     0.0  \n",
       "498    215549.487531     0.0  \n",
       "499    306310.531063     0.0  \n",
       "\n",
       "[999 rows x 12 columns]"
      ]
     },
     "execution_count": 44,
     "metadata": {},
     "output_type": "execute_result"
    }
   ],
   "source": [
    "df"
   ]
  },
  {
   "cell_type": "code",
   "execution_count": 45,
   "metadata": {},
   "outputs": [],
   "source": [
    "# saving to csv\n",
    "\n",
    "filename = f'{symbol}_{interval}.csv'\n",
    "df.to_csv(f'../raw_data/{filename}')"
   ]
  },
  {
   "cell_type": "code",
   "execution_count": null,
   "metadata": {},
   "outputs": [],
   "source": []
  },
  {
   "cell_type": "markdown",
   "metadata": {},
   "source": [
    "# 2. Load Data & Packages"
   ]
  },
  {
   "cell_type": "code",
   "execution_count": 46,
   "metadata": {
    "id": "Bk2m_4TChMIS"
   },
   "outputs": [],
   "source": [
    "# Import libraries\n",
    "from tensorflow.keras.models import Sequential\n",
    "from tensorflow.keras.layers import Activation, Dense, Dropout, LSTM\n",
    "import matplotlib.pyplot as plt\n",
    "import numpy as np\n",
    "import pandas as pd\n",
    "from sklearn.metrics import mean_absolute_error, mean_squared_error,  r2_score, accuracy_score\n",
    "from sklearn.model_selection import train_test_split\n"
   ]
  },
  {
   "cell_type": "code",
   "execution_count": 47,
   "metadata": {
    "colab": {
     "base_uri": "https://localhost:8080/"
    },
    "id": "rqsutzJBwjS_",
    "outputId": "e7c3f28d-b281-4e29-da14-493ed67e5da3"
   },
   "outputs": [
    {
     "name": "stdout",
     "output_type": "stream",
     "text": [
      "Empty DataFrame\n",
      "Columns: [Unnamed: 0, Date, Open, High, Low, Close, Volume, k_close_time, quote_asset_volume, num_trades, taker_base_vol, taker_quote_vol, ignore]\n",
      "Index: []\n"
     ]
    }
   ],
   "source": [
    "# Read data from the CSV file into a DataFrame\n",
    "data = pd.read_csv(\"../raw_data/BTCUSDT_1m.csv\")\n",
    "print(data.head(0))\n",
    "\n",
    "# Select specific columns from the DataFrame\n",
    "data = data.loc[:,['Date','Open','High','Low','Close','Volume']]"
   ]
  },
  {
   "cell_type": "code",
   "execution_count": 48,
   "metadata": {
    "colab": {
     "base_uri": "https://localhost:8080/"
    },
    "id": "HCWV-p6b-xmS",
    "outputId": "47fbcadf-5964-47cc-f26d-a9fb5ccd140f"
   },
   "outputs": [
    {
     "data": {
      "text/html": [
       "<div>\n",
       "<style scoped>\n",
       "    .dataframe tbody tr th:only-of-type {\n",
       "        vertical-align: middle;\n",
       "    }\n",
       "\n",
       "    .dataframe tbody tr th {\n",
       "        vertical-align: top;\n",
       "    }\n",
       "\n",
       "    .dataframe thead th {\n",
       "        text-align: right;\n",
       "    }\n",
       "</style>\n",
       "<table border=\"1\" class=\"dataframe\">\n",
       "  <thead>\n",
       "    <tr style=\"text-align: right;\">\n",
       "      <th></th>\n",
       "      <th>Open</th>\n",
       "      <th>High</th>\n",
       "      <th>Low</th>\n",
       "      <th>Close</th>\n",
       "      <th>Volume</th>\n",
       "    </tr>\n",
       "    <tr>\n",
       "      <th>Date</th>\n",
       "      <th></th>\n",
       "      <th></th>\n",
       "      <th></th>\n",
       "      <th></th>\n",
       "      <th></th>\n",
       "    </tr>\n",
       "  </thead>\n",
       "  <tbody>\n",
       "    <tr>\n",
       "      <th>2023-10-31 07:22:00</th>\n",
       "      <td>34251.98</td>\n",
       "      <td>34251.99</td>\n",
       "      <td>34240.57</td>\n",
       "      <td>34240.58</td>\n",
       "      <td>8.09643</td>\n",
       "    </tr>\n",
       "    <tr>\n",
       "      <th>2023-10-31 07:23:00</th>\n",
       "      <td>34240.57</td>\n",
       "      <td>34243.99</td>\n",
       "      <td>34166.67</td>\n",
       "      <td>34179.26</td>\n",
       "      <td>63.16500</td>\n",
       "    </tr>\n",
       "    <tr>\n",
       "      <th>2023-10-31 07:24:00</th>\n",
       "      <td>34179.26</td>\n",
       "      <td>34199.65</td>\n",
       "      <td>34179.25</td>\n",
       "      <td>34197.08</td>\n",
       "      <td>23.44053</td>\n",
       "    </tr>\n",
       "    <tr>\n",
       "      <th>2023-10-31 07:25:00</th>\n",
       "      <td>34197.08</td>\n",
       "      <td>34213.57</td>\n",
       "      <td>34180.46</td>\n",
       "      <td>34213.56</td>\n",
       "      <td>21.11683</td>\n",
       "    </tr>\n",
       "    <tr>\n",
       "      <th>2023-10-31 07:26:00</th>\n",
       "      <td>34213.56</td>\n",
       "      <td>34213.57</td>\n",
       "      <td>34159.71</td>\n",
       "      <td>34175.97</td>\n",
       "      <td>97.01270</td>\n",
       "    </tr>\n",
       "    <tr>\n",
       "      <th>...</th>\n",
       "      <td>...</td>\n",
       "      <td>...</td>\n",
       "      <td>...</td>\n",
       "      <td>...</td>\n",
       "      <td>...</td>\n",
       "    </tr>\n",
       "    <tr>\n",
       "      <th>2023-10-31 23:56:00</th>\n",
       "      <td>34647.33</td>\n",
       "      <td>34647.33</td>\n",
       "      <td>34632.64</td>\n",
       "      <td>34642.58</td>\n",
       "      <td>19.42605</td>\n",
       "    </tr>\n",
       "    <tr>\n",
       "      <th>2023-10-31 23:57:00</th>\n",
       "      <td>34642.57</td>\n",
       "      <td>34658.35</td>\n",
       "      <td>34642.57</td>\n",
       "      <td>34658.34</td>\n",
       "      <td>31.23002</td>\n",
       "    </tr>\n",
       "    <tr>\n",
       "      <th>2023-10-31 23:58:00</th>\n",
       "      <td>34658.34</td>\n",
       "      <td>34658.35</td>\n",
       "      <td>34658.34</td>\n",
       "      <td>34658.34</td>\n",
       "      <td>13.16276</td>\n",
       "    </tr>\n",
       "    <tr>\n",
       "      <th>2023-10-31 23:59:00</th>\n",
       "      <td>34658.35</td>\n",
       "      <td>34658.35</td>\n",
       "      <td>34639.77</td>\n",
       "      <td>34639.77</td>\n",
       "      <td>18.62235</td>\n",
       "    </tr>\n",
       "    <tr>\n",
       "      <th>2023-11-01 00:00:00</th>\n",
       "      <td>34639.78</td>\n",
       "      <td>34656.65</td>\n",
       "      <td>34636.13</td>\n",
       "      <td>34654.62</td>\n",
       "      <td>27.01885</td>\n",
       "    </tr>\n",
       "  </tbody>\n",
       "</table>\n",
       "<p>999 rows × 5 columns</p>\n",
       "</div>"
      ],
      "text/plain": [
       "                         Open      High       Low     Close    Volume\n",
       "Date                                                                 \n",
       "2023-10-31 07:22:00  34251.98  34251.99  34240.57  34240.58   8.09643\n",
       "2023-10-31 07:23:00  34240.57  34243.99  34166.67  34179.26  63.16500\n",
       "2023-10-31 07:24:00  34179.26  34199.65  34179.25  34197.08  23.44053\n",
       "2023-10-31 07:25:00  34197.08  34213.57  34180.46  34213.56  21.11683\n",
       "2023-10-31 07:26:00  34213.56  34213.57  34159.71  34175.97  97.01270\n",
       "...                       ...       ...       ...       ...       ...\n",
       "2023-10-31 23:56:00  34647.33  34647.33  34632.64  34642.58  19.42605\n",
       "2023-10-31 23:57:00  34642.57  34658.35  34642.57  34658.34  31.23002\n",
       "2023-10-31 23:58:00  34658.34  34658.35  34658.34  34658.34  13.16276\n",
       "2023-10-31 23:59:00  34658.35  34658.35  34639.77  34639.77  18.62235\n",
       "2023-11-01 00:00:00  34639.78  34656.65  34636.13  34654.62  27.01885\n",
       "\n",
       "[999 rows x 5 columns]"
      ]
     },
     "execution_count": 48,
     "metadata": {},
     "output_type": "execute_result"
    }
   ],
   "source": [
    "# Set the 'Date' column as the index of the DataFrame\n",
    "\n",
    "data = data.set_index('Date')\n",
    "\n",
    "data"
   ]
  },
  {
   "cell_type": "markdown",
   "metadata": {},
   "source": [
    "# 3. Preprocess Data"
   ]
  },
  {
   "cell_type": "code",
   "execution_count": 49,
   "metadata": {
    "id": "fExReGBJz_qo"
   },
   "outputs": [],
   "source": [
    "#Set the Target column\n",
    "aim = 'Close'"
   ]
  },
  {
   "cell_type": "code",
   "execution_count": 70,
   "metadata": {
    "id": "TBA-1zdMztBG"
   },
   "outputs": [],
   "source": [
    "# 90-10 validation split\n",
    "val_split_index = int(len(data) * 0.9)\n",
    "val_data = data.iloc[val_split_index:]\n",
    "available_data = data.iloc[:val_split_index]\n",
    "\n",
    "# 80-20 validation split\n",
    "split_index = int(len(available_data) * 0.8)\n",
    "train_data = available_data.iloc[:split_index]\n",
    "test_data = available_data.iloc[split_index:]\n",
    "\n",
    "\n",
    "def line_plot(line1, line2, label1=None, label2=None, title='', lw=2):\n",
    "    \"\"\"\n",
    "    Create a line plot with two lines.\n",
    "    Parameters:\n",
    "    - line1 (array-like): Data for the first line.\n",
    "    - line2 (array-like): Data for the second line.\n",
    "    - label1 (str, optional): Label for the first line (default is None).\n",
    "    - label2 (str, optional): Label for the second line (default is None).\n",
    "    - title (str, optional): Title of the plot (default is an empty string).\n",
    "    - lw (int, optional): Line width for both lines (default is 2).\n",
    "    \"\"\"\n",
    "    # Create a subplot with specified size\n",
    "    fig, ax = plt.subplots(1, figsize=(13, 7))\n",
    "\n",
    "    # Plot the first line with its label\n",
    "    ax.plot(line1, label=label1, linewidth=lw)\n",
    "\n",
    "    # Plot the second line with its label\n",
    "    ax.plot(line2, label=label2, linewidth=lw)\n",
    "\n",
    "    # Set y-axis label\n",
    "    ax.set_ylabel('BTC/USDT', fontsize=14)\n",
    "\n",
    "    # Set the title\n",
    "    ax.set_title(title, fontsize=16)\n",
    "\n",
    "    # Add a legend at the best location with the specified font size\n",
    "    ax.legend(loc='best', fontsize=16)\n",
    "\n",
    "    # Display the plot\n",
    "    plt.show()\n"
   ]
  },
  {
   "cell_type": "code",
   "execution_count": 61,
   "metadata": {},
   "outputs": [
    {
     "data": {
      "image/png": "[encoded data removed]",
      "text/plain": [
       "<Figure size 1300x700 with 1 Axes>"
      ]
     },
     "metadata": {},
     "output_type": "display_data"
    }
   ],
   "source": [
    "# Plotting the training and testing data for the 'Close' column\n",
    "line_plot(train_data[aim], test_data[aim], label1='Train', label2='Test', title='Data Split')\n"
   ]
  },
  {
   "cell_type": "code",
   "execution_count": 52,
   "metadata": {
    "id": "lQi8Ho8g0V7E"
   },
   "outputs": [],
   "source": [
    "# Function to normalize a continuous variable to a zero-base scale\n",
    "def normalise_zero_base(continuous):\n",
    "    \"\"\"\n",
    "    Normalize a continuous variable to a zero-base scale.\n",
    "    Parameters:\n",
    "    - continuous (pandas.Series): The continuous variable to be normalized.\n",
    "    Returns:\n",
    "    - pandas.Series: The normalized continuous variable.\n",
    "    \"\"\"\n",
    "    # Normalize by dividing each value by the first value and subtracting 1\n",
    "    return continuous / continuous.iloc[0] - 1\n",
    "\n",
    "\n",
    "# Function to normalize a continuous variable to a min-max scale\n",
    "def normalise_min_max(continuous):\n",
    "    \"\"\"\n",
    "    Normalize a continuous variable to a min-max scale.\n",
    "    Parameters:\n",
    "    - continuous (pandas.Series): The continuous variable to be normalized.\n",
    "    Returns:\n",
    "    - pandas.Series: The normalized continuous variable.\n",
    "    \"\"\"\n",
    "    # Normalize using min-max scaling formula\n",
    "    return (continuous - continuous.min()) / (continuous.max() - continuous.min())\n"
   ]
  },
  {
   "cell_type": "code",
   "execution_count": 53,
   "metadata": {
    "id": "4knpG9Nn0vV1"
   },
   "outputs": [],
   "source": [
    "# Function to extract windowed data from a continuous variable\n",
    "def extract_window_data(continuous, window_len=5, zero_base=True):\n",
    "    \"\"\"\n",
    "    Extract windowed data from a continuous variable.\n",
    "    Parameters:\n",
    "    - continuous (pandas.Series): The continuous variable to extract windows from.\n",
    "    - window_len (int, optional): The length of each window (default is 5).\n",
    "    - zero_base (bool, optional): Whether to normalize each window to a zero-base scale (default is True).\n",
    "    Returns:\n",
    "    - numpy.ndarray: Array of windowed data.\n",
    "    Example:\n",
    "    >>> windowed_data = extract_window_data(data['Close'], window_len=10, zero_base=True)\n",
    "    \"\"\"\n",
    "    # Initialize an empty list to store windowed data\n",
    "    window_data = []\n",
    "\n",
    "    # Iterate over the continuous variable to extract windows\n",
    "    for idx in range(len(continuous) - window_len):\n",
    "        # Extract a window of data\n",
    "        tmp = continuous[idx: (idx + window_len)].copy()\n",
    "\n",
    "        # Normalize the window to a zero-base scale if specified\n",
    "        if zero_base:\n",
    "            tmp = normalise_zero_base(tmp)\n",
    "\n",
    "        # Append the window data to the list\n",
    "        window_data.append(tmp.values)\n",
    "\n",
    "    # Convert the list of windowed data to a numpy array\n",
    "    return np.array(window_data)\n"
   ]
  },
  {
   "cell_type": "code",
   "execution_count": 54,
   "metadata": {},
   "outputs": [],
   "source": [
    "# Function to prepare data for time series analysis\n",
    "def prepare_data(continuous, aim, window_len=10, zero_base=True, test_size=0.2):\n",
    "    \"\"\"\n",
    "    Prepare data for time series analysis.\n",
    "    Parameters:\n",
    "    - continuous (pandas.Series): The continuous variable for time series analysis.\n",
    "    - aim (str): The target variable to predict.\n",
    "    - window_len (int, optional): The length of each window (default is 10).\n",
    "    - zero_base (bool, optional): Whether to normalize each window to a zero-base scale (default is True).\n",
    "    - test_size (float, optional): The proportion of data to be used as the test set (default is 0.2).\n",
    "    Returns:\n",
    "    - tuple: A tuple containing train_data, test_data, X_train, X_test, y_train, y_test.\n",
    "    \"\"\"\n",
    "    # Extract windowed data for training and testing sets\n",
    "    X_train = extract_window_data(train_data, window_len, zero_base)\n",
    "    X_test = extract_window_data(test_data, window_len, zero_base)\n",
    "\n",
    "    # Extract target variable for training and testing sets\n",
    "    y_train = train_data[aim][window_len:].values\n",
    "    y_test = test_data[aim][window_len:].values\n",
    "\n",
    "    # Normalize the target variable to a zero-base scale if specified\n",
    "    if zero_base:\n",
    "        y_train = y_train / train_data[aim][:-window_len].values - 1\n",
    "        y_test = y_test / test_data[aim][:-window_len].values - 1\n",
    "\n",
    "    # Return the prepared data\n",
    "    return train_data, test_data, X_train, X_test, y_train, y_test\n"
   ]
  },
  {
   "cell_type": "markdown",
   "metadata": {},
   "source": [
    "# 4. LSTM Model"
   ]
  },
  {
   "cell_type": "code",
   "execution_count": 55,
   "metadata": {},
   "outputs": [],
   "source": [
    "# Function to build an LSTM (Long Short-Term Memory) model# Function to build an LSTM (Long Short-Term Memory) model\n",
    "def build_lstm_model(input_data, output_size, neurons, activ_func='linear',\n",
    "                     dropout=0.2, loss='mse', optimizer='adam'):\n",
    "    \"\"\"\n",
    "    Build an LSTM (Long Short-Term Memory) model.\n",
    "    Parameters:\n",
    "    - input_data (numpy.ndarray): The input data for the model.\n",
    "    - output_size (int): The size of the output layer.\n",
    "    - neurons (int): The number of neurons in the LSTM layer.\n",
    "    - activ_func (str, optional): Activation function for the output layer (default is 'linear').\n",
    "    - dropout (float, optional): Dropout rate to prevent overfitting (default is 0.2).\n",
    "    - loss (str, optional): Loss function for model training (default is 'mse' - Mean Squared Error).\n",
    "    - optimizer (str, optional): Optimization algorithm for model training (default is 'adam').\n",
    "    Returns:\n",
    "    - tensorflow.keras.models.Sequential: The constructed LSTM model.\n",
    "    \"\"\"\n",
    "    # Create a Sequential model\n",
    "    model = Sequential()\n",
    "\n",
    "    # Add an LSTM layer with the specified number of neurons and input shape\n",
    "    model.add(LSTM(neurons, input_shape=(input_data.shape[1], input_data.shape[2])))\n",
    "\n",
    "    # Add a Dropout layer to prevent overfitting\n",
    "    model.add(Dropout(dropout))\n",
    "\n",
    "    # Add a Dense layer with the specified number of units\n",
    "    model.add(Dense(units=output_size))\n",
    "\n",
    "    # Add an Activation layer with the specified activation function\n",
    "    model.add(Activation(activ_func))\n",
    "\n",
    "    # Compile the model with the specified loss function and optimizer\n",
    "    model.compile(loss=loss, optimizer=optimizer)\n",
    "\n",
    "    # Return the constructed LSTM model\n",
    "    return model\n"
   ]
  },
  {
   "cell_type": "code",
   "execution_count": 57,
   "metadata": {
    "id": "wdEmnpEz01dg"
   },
   "outputs": [],
   "source": [
    "# Define parameters for data preparation and LSTM model\n",
    "window_len = 5\n",
    "test_size = 0.2\n",
    "zero_base = True\n",
    "lstm_neurons = 50\n",
    "epochs = 20\n",
    "batch_size = 32\n",
    "loss = 'mse'\n",
    "dropout = 0.24\n",
    "optimizer = 'adam'\n",
    "output_size = 1\n",
    "\n",
    "# Prepare data for time series analysis\n",
    "train_data, test_data, X_train, X_test, y_train, y_test = prepare_data(\n",
    "    data, aim, window_len=window_len, zero_base=zero_base, test_size=test_size)\n"
   ]
  },
  {
   "cell_type": "code",
   "execution_count": 58,
   "metadata": {
    "colab": {
     "base_uri": "https://localhost:8080/"
    },
    "id": "JKgo07hGJy4S",
    "outputId": "38d99f7b-037c-4a80-f458-45dbe3170cfc"
   },
   "outputs": [
    {
     "name": "stdout",
     "output_type": "stream",
     "text": [
      "(794, 5, 5)\n"
     ]
    }
   ],
   "source": [
    "print(X_train.shape)\n"
   ]
  },
  {
   "cell_type": "code",
   "execution_count": 22,
   "metadata": {
    "colab": {
     "base_uri": "https://localhost:8080/"
    },
    "id": "d1TEOxBr1ALy",
    "outputId": "51104b89-80ab-47aa-9031-9cc12a5cd0a8"
   },
   "outputs": [
    {
     "name": "stderr",
     "output_type": "stream",
     "text": [
      "2023-12-29 09:12:37.743425: I tensorflow/core/platform/cpu_feature_guard.cc:193] This TensorFlow binary is optimized with oneAPI Deep Neural Network Library (oneDNN) to use the following CPU instructions in performance-critical operations:  AVX2 FMA\n",
      "To enable them in other operations, rebuild TensorFlow with the appropriate compiler flags.\n"
     ]
    },
    {
     "name": "stdout",
     "output_type": "stream",
     "text": [
      "Epoch 1/20\n",
      "38/38 [==============================] - 4s 21ms/step - loss: 0.0028 - val_loss: 6.9435e-04\n",
      "Epoch 2/20\n",
      "38/38 [==============================] - 0s 4ms/step - loss: 0.0025 - val_loss: 9.7750e-05\n",
      "Epoch 3/20\n",
      "38/38 [==============================] - 0s 4ms/step - loss: 0.0012 - val_loss: 1.8785e-04\n",
      "Epoch 4/20\n",
      "38/38 [==============================] - 0s 5ms/step - loss: 9.2582e-04 - val_loss: 5.1105e-05\n",
      "Epoch 5/20\n",
      "38/38 [==============================] - 0s 5ms/step - loss: 7.9104e-04 - val_loss: 5.8381e-05\n",
      "Epoch 6/20\n",
      "38/38 [==============================] - 0s 4ms/step - loss: 6.3751e-04 - val_loss: 1.6458e-04\n",
      "Epoch 7/20\n",
      "38/38 [==============================] - 0s 5ms/step - loss: 5.6562e-04 - val_loss: 5.9818e-05\n",
      "Epoch 8/20\n",
      "38/38 [==============================] - 0s 4ms/step - loss: 3.9418e-04 - val_loss: 1.5455e-05\n",
      "Epoch 9/20\n",
      "38/38 [==============================] - 0s 4ms/step - loss: 3.5520e-04 - val_loss: 1.6218e-05\n",
      "Epoch 10/20\n",
      "38/38 [==============================] - 0s 4ms/step - loss: 3.8022e-04 - val_loss: 4.9193e-05\n",
      "Epoch 11/20\n",
      "38/38 [==============================] - 0s 4ms/step - loss: 2.9274e-04 - val_loss: 3.6211e-05\n",
      "Epoch 12/20\n",
      "38/38 [==============================] - 0s 4ms/step - loss: 1.8739e-04 - val_loss: 4.1083e-05\n",
      "Epoch 13/20\n",
      "38/38 [==============================] - 0s 5ms/step - loss: 2.1341e-04 - val_loss: 2.6110e-05\n",
      "Epoch 14/20\n",
      "38/38 [==============================] - 0s 5ms/step - loss: 1.3807e-04 - val_loss: 1.3739e-05\n",
      "Epoch 15/20\n",
      "38/38 [==============================] - 0s 5ms/step - loss: 1.5325e-04 - val_loss: 1.2933e-05\n",
      "Epoch 16/20\n",
      "38/38 [==============================] - 0s 5ms/step - loss: 1.2222e-04 - val_loss: 9.3681e-06\n",
      "Epoch 17/20\n",
      "38/38 [==============================] - 0s 5ms/step - loss: 1.1288e-04 - val_loss: 2.7836e-05\n",
      "Epoch 18/20\n",
      "38/38 [==============================] - 0s 4ms/step - loss: 1.0615e-04 - val_loss: 5.1448e-05\n",
      "Epoch 19/20\n",
      "38/38 [==============================] - 0s 4ms/step - loss: 9.6965e-05 - val_loss: 2.3474e-05\n",
      "Epoch 20/20\n",
      "38/38 [==============================] - 0s 5ms/step - loss: 1.7358e-04 - val_loss: 4.4610e-05\n"
     ]
    }
   ],
   "source": [
    "# Build an LSTM model\n",
    "model = build_lstm_model(\n",
    "    X_train, output_size=output_size, neurons=lstm_neurons, dropout=dropout, loss=loss, optimizer=optimizer)\n",
    "\n",
    "# Train the LSTM model\n",
    "modelfit = model.fit(\n",
    "    X_train, y_train, validation_data=(X_test, y_test), epochs=epochs, batch_size=batch_size, verbose=1, shuffle=False)\n"
   ]
  },
  {
   "cell_type": "markdown",
   "metadata": {
    "tags": []
   },
   "source": [
    "# 5. Results"
   ]
  },
  {
   "cell_type": "code",
   "execution_count": 23,
   "metadata": {
    "colab": {
     "base_uri": "https://localhost:8080/",
     "height": 295
    },
    "id": "m5ilATOy1ZqE",
    "outputId": "e4f214de-dec9-4030-ff53-6677e7c18f87"
   },
   "outputs": [
    {
     "data": {
      "image/png": "[encoded data removed]",
      "text/plain": [
       "<Figure size 640x480 with 1 Axes>"
      ]
     },
     "metadata": {},
     "output_type": "display_data"
    }
   ],
   "source": [
    "# Plotting the training and validation loss during model training\n",
    "plt.plot(modelfit.history['loss'], 'r', linewidth=2, label='Training loss')\n",
    "plt.plot(modelfit.history['val_loss'], 'g', linewidth=2, label='Validation loss')\n",
    "\n",
    "# Set plot title and axis labels\n",
    "plt.title('LSTM Neural Networks - BTC Model')\n",
    "plt.xlabel('Epochs numbers')\n",
    "plt.ylabel('MSE numbers')\n",
    "\n",
    "# Display legend to distinguish between training and validation loss\n",
    "plt.legend()\n",
    "\n",
    "# Show the plot\n",
    "plt.show()\n"
   ]
  },
  {
   "cell_type": "code",
   "execution_count": 24,
   "metadata": {
    "colab": {
     "base_uri": "https://localhost:8080/"
    },
    "id": "MyfyB5SA1saZ",
    "outputId": "da16ff40-07cf-4357-8e5f-861ce75ac98e"
   },
   "outputs": [
    {
     "name": "stdout",
     "output_type": "stream",
     "text": [
      "10/10 [==============================] - 1s 2ms/step\n"
     ]
    },
    {
     "data": {
      "text/plain": [
       "Date\n",
       "2023-10-31 19:06:00    34494.0\n",
       "2023-10-31 19:07:00    34495.0\n",
       "2023-10-31 19:08:00    34485.0\n",
       "2023-10-31 19:09:00    34501.0\n",
       "2023-10-31 19:10:00    34530.0\n",
       "                        ...   \n",
       "2023-10-31 23:56:00    34643.0\n",
       "2023-10-31 23:57:00    34658.0\n",
       "2023-10-31 23:58:00    34658.0\n",
       "2023-10-31 23:59:00    34640.0\n",
       "2023-11-01 00:00:00    34655.0\n",
       "Name: Close, Length: 295, dtype: float64"
      ]
     },
     "execution_count": 24,
     "metadata": {},
     "output_type": "execute_result"
    }
   ],
   "source": [
    "# Extract the target values from the test dataset\n",
    "targets = test_data[aim][window_len:]\n",
    "\n",
    "# Make predictions using the trained LSTM model on the test data\n",
    "preds = model.predict(X_test).squeeze()\n",
    "\n",
    "# Calculate the Mean Absolute Error (MAE) between predictions and actual targets\n",
    "mae = mean_absolute_error(preds, y_test)\n",
    "\n",
    "# Display the actual target values\n",
    "targets.round()\n"
   ]
  },
  {
   "cell_type": "code",
   "execution_count": 25,
   "metadata": {
    "colab": {
     "base_uri": "https://localhost:8080/"
    },
    "id": "pJbbB0Ji1u3z",
    "outputId": "ececa6bb-84a9-4f39-ce98-c31d9a4bdc5f"
   },
   "outputs": [
    {
     "data": {
      "text/plain": [
       "4.4609709220138786e-05"
      ]
     },
     "execution_count": 25,
     "metadata": {},
     "output_type": "execute_result"
    }
   ],
   "source": [
    "# Calculate the Mean Squared Error (MSE) between predictions and actual targets\n",
    "SCORE_MSE = mean_squared_error(preds, y_test)\n",
    "\n",
    "# Display the calculated MSE score\n",
    "SCORE_MSE\n"
   ]
  },
  {
   "cell_type": "code",
   "execution_count": 26,
   "metadata": {
    "colab": {
     "base_uri": "https://localhost:8080/"
    },
    "id": "jYFWq3gI10a6",
    "outputId": "a9c0623e-b434-4962-8649-57a18d4efefb"
   },
   "outputs": [
    {
     "data": {
      "text/plain": [
       "-4263.336395207454"
      ]
     },
     "execution_count": 26,
     "metadata": {},
     "output_type": "execute_result"
    }
   ],
   "source": [
    "# Calculate the R-squared (R2) score between actual targets and predicted values\n",
    "r2_score = r2_score(y_test, preds)\n",
    "\n",
    "# Multiply the R2 score by 100 for percentage representation\n",
    "r2_score * 100\n"
   ]
  },
  {
   "cell_type": "code",
   "execution_count": 27,
   "metadata": {
    "colab": {
     "base_uri": "https://localhost:8080/",
     "height": 428
    },
    "id": "ICd7mlF_1861",
    "outputId": "7a04803a-8db1-4ec0-8300-088eb8f1b734"
   },
   "outputs": [
    {
     "data": {
      "image/png": "[encoded data removed]",
      "text/plain": [
       "<Figure size 1300x700 with 1 Axes>"
      ]
     },
     "metadata": {},
     "output_type": "display_data"
    }
   ],
   "source": [
    "# Generate final predictions by reversing the normalization process\n",
    "preds = test_data[aim].values[:-window_len] * (preds + 1)\n",
    "\n",
    "# Create a pandas Series with index and data for predictions\n",
    "preds = pd.Series(index=targets.index, data=preds)\n",
    "\n",
    "# Plotting the actual and predicted values\n",
    "line_plot(targets, preds, 'actual', 'prediction', lw=3)\n"
   ]
  },
  {
   "cell_type": "markdown",
   "metadata": {},
   "source": [
    "# 6. Preprocess Data for Binary Classification "
   ]
  },
  {
   "cell_type": "code",
   "execution_count": 28,
   "metadata": {},
   "outputs": [
    {
     "data": {
      "text/html": [
       "<div>\n",
       "<style scoped>\n",
       "    .dataframe tbody tr th:only-of-type {\n",
       "        vertical-align: middle;\n",
       "    }\n",
       "\n",
       "    .dataframe tbody tr th {\n",
       "        vertical-align: top;\n",
       "    }\n",
       "\n",
       "    .dataframe thead th {\n",
       "        text-align: right;\n",
       "    }\n",
       "</style>\n",
       "<table border=\"1\" class=\"dataframe\">\n",
       "  <thead>\n",
       "    <tr style=\"text-align: right;\">\n",
       "      <th></th>\n",
       "      <th>Open</th>\n",
       "      <th>High</th>\n",
       "      <th>Low</th>\n",
       "      <th>Close</th>\n",
       "      <th>Volume</th>\n",
       "      <th>aim_binary</th>\n",
       "    </tr>\n",
       "    <tr>\n",
       "      <th>Date</th>\n",
       "      <th></th>\n",
       "      <th></th>\n",
       "      <th></th>\n",
       "      <th></th>\n",
       "      <th></th>\n",
       "      <th></th>\n",
       "    </tr>\n",
       "  </thead>\n",
       "  <tbody>\n",
       "    <tr>\n",
       "      <th>2023-10-30 23:03:00</th>\n",
       "      <td>34468.03</td>\n",
       "      <td>34468.03</td>\n",
       "      <td>34458.57</td>\n",
       "      <td>34458.58</td>\n",
       "      <td>10.38695</td>\n",
       "      <td>0</td>\n",
       "    </tr>\n",
       "    <tr>\n",
       "      <th>2023-10-30 23:04:00</th>\n",
       "      <td>34458.57</td>\n",
       "      <td>34480.95</td>\n",
       "      <td>34458.57</td>\n",
       "      <td>34480.94</td>\n",
       "      <td>15.30814</td>\n",
       "      <td>1</td>\n",
       "    </tr>\n",
       "    <tr>\n",
       "      <th>2023-10-30 23:05:00</th>\n",
       "      <td>34480.94</td>\n",
       "      <td>34486.41</td>\n",
       "      <td>34478.05</td>\n",
       "      <td>34486.40</td>\n",
       "      <td>23.63713</td>\n",
       "      <td>1</td>\n",
       "    </tr>\n",
       "    <tr>\n",
       "      <th>2023-10-30 23:06:00</th>\n",
       "      <td>34486.40</td>\n",
       "      <td>34491.60</td>\n",
       "      <td>34480.45</td>\n",
       "      <td>34480.45</td>\n",
       "      <td>18.72958</td>\n",
       "      <td>0</td>\n",
       "    </tr>\n",
       "    <tr>\n",
       "      <th>2023-10-30 23:07:00</th>\n",
       "      <td>34480.46</td>\n",
       "      <td>34480.46</td>\n",
       "      <td>34480.45</td>\n",
       "      <td>34480.46</td>\n",
       "      <td>5.69870</td>\n",
       "      <td>1</td>\n",
       "    </tr>\n",
       "  </tbody>\n",
       "</table>\n",
       "</div>"
      ],
      "text/plain": [
       "                         Open      High       Low     Close    Volume  \\\n",
       "Date                                                                    \n",
       "2023-10-30 23:03:00  34468.03  34468.03  34458.57  34458.58  10.38695   \n",
       "2023-10-30 23:04:00  34458.57  34480.95  34458.57  34480.94  15.30814   \n",
       "2023-10-30 23:05:00  34480.94  34486.41  34478.05  34486.40  23.63713   \n",
       "2023-10-30 23:06:00  34486.40  34491.60  34480.45  34480.45  18.72958   \n",
       "2023-10-30 23:07:00  34480.46  34480.46  34480.45  34480.46   5.69870   \n",
       "\n",
       "                     aim_binary  \n",
       "Date                             \n",
       "2023-10-30 23:03:00           0  \n",
       "2023-10-30 23:04:00           1  \n",
       "2023-10-30 23:05:00           1  \n",
       "2023-10-30 23:06:00           0  \n",
       "2023-10-30 23:07:00           1  "
      ]
     },
     "execution_count": 28,
     "metadata": {},
     "output_type": "execute_result"
    }
   ],
   "source": [
    "# Assuming 'data' is the DataFrame containing time series data\n",
    "data['aim_binary'] = (data['Close'] > data['Close'].shift(1)).astype(int)\n",
    "\n",
    "# Drop NaN values introduced by the shift operation\n",
    "data = data.dropna()\n",
    "data.head()\n"
   ]
  },
  {
   "cell_type": "code",
   "execution_count": 29,
   "metadata": {},
   "outputs": [],
   "source": [
    "# def prepare_data_binary(continuous, aim, window_len=10, zero_base=True, test_size=0.2):\n",
    "#     X_train = extract_window_data(train_data[continuous.columns], window_len, zero_base)\n",
    "#     X_test = extract_window_data(test_data[continuous.columns], window_len, zero_base)\n",
    "#     y_train = train_data[aim][window_len:].values\n",
    "#     y_test = test_data[aim][window_len:].values\n",
    "#     if zero_base:\n",
    "#         y_train = y_train / train_data[aim][:-window_len].values - 1\n",
    "#         y_test = y_test / test_data[aim][:-window_len].values - 1\n",
    "\n",
    "#     return train_data, test_data, X_train, X_test, y_train, y_test\n"
   ]
  },
  {
   "cell_type": "code",
   "execution_count": 30,
   "metadata": {},
   "outputs": [],
   "source": [
    "# Prepare data for binary classification\n",
    "aim_binary = 'aim_binary'\n",
    "X_train, X_test, y_train, y_test = train_test_split(data.drop(columns=[aim_binary]), data[aim_binary], test_size=0.2, shuffle=False)\n"
   ]
  },
  {
   "cell_type": "markdown",
   "metadata": {},
   "source": [
    "# 7. Binary Classification Model"
   ]
  },
  {
   "cell_type": "code",
   "execution_count": 31,
   "metadata": {},
   "outputs": [],
   "source": [
    "# Function to build a binary classification model\n",
    "def build_binary_classification_model(input_data, output_size, neurons, activ_func='sigmoid', dropout=0.3, loss='binary_crossentropy', optimizer='adam'):\n",
    "    model2 = Sequential()\n",
    "    # Assuming your time series data has only one feature (e.g., 'Close' column)\n",
    "    model2.add(LSTM(neurons, input_shape=(X_train.shape[1], 1)))  # Adjust the input shape\n",
    "    model2.add(Dropout(dropout))\n",
    "    model2.add(Dense(units=output_size))\n",
    "    model2.add(Activation(activ_func))\n",
    "    model2.compile(loss=loss, optimizer=optimizer, metrics=['accuracy'])\n",
    "    return model2\n"
   ]
  },
  {
   "cell_type": "code",
   "execution_count": 32,
   "metadata": {},
   "outputs": [],
   "source": [
    "# Specify parameters for the binary classification model\n",
    "binary_lstm_neurons = 50\n",
    "binary_epochs = 20\n",
    "batch_size = 32\n"
   ]
  },
  {
   "cell_type": "code",
   "execution_count": 33,
   "metadata": {},
   "outputs": [
    {
     "name": "stdout",
     "output_type": "stream",
     "text": [
      "Epoch 1/20\n",
      "38/38 [==============================] - 3s 22ms/step - loss: 0.7187 - accuracy: 0.4992 - val_loss: 0.6947 - val_accuracy: 0.4900\n",
      "Epoch 2/20\n",
      "38/38 [==============================] - 0s 5ms/step - loss: 0.7080 - accuracy: 0.5109 - val_loss: 0.6961 - val_accuracy: 0.4933\n",
      "Epoch 3/20\n",
      "38/38 [==============================] - 0s 4ms/step - loss: 0.7098 - accuracy: 0.5058 - val_loss: 0.6949 - val_accuracy: 0.5000\n",
      "Epoch 4/20\n",
      "38/38 [==============================] - 0s 4ms/step - loss: 0.6970 - accuracy: 0.5259 - val_loss: 0.6944 - val_accuracy: 0.5167\n",
      "Epoch 5/20\n",
      "38/38 [==============================] - 0s 5ms/step - loss: 0.7064 - accuracy: 0.5159 - val_loss: 0.6939 - val_accuracy: 0.5033\n",
      "Epoch 6/20\n",
      "38/38 [==============================] - 0s 6ms/step - loss: 0.7017 - accuracy: 0.5042 - val_loss: 0.6937 - val_accuracy: 0.5033\n",
      "Epoch 7/20\n",
      "38/38 [==============================] - 0s 5ms/step - loss: 0.7070 - accuracy: 0.4900 - val_loss: 0.6929 - val_accuracy: 0.5100\n",
      "Epoch 8/20\n",
      "38/38 [==============================] - 0s 4ms/step - loss: 0.7026 - accuracy: 0.4967 - val_loss: 0.6934 - val_accuracy: 0.5133\n",
      "Epoch 9/20\n",
      "38/38 [==============================] - 0s 4ms/step - loss: 0.7072 - accuracy: 0.5033 - val_loss: 0.6937 - val_accuracy: 0.4967\n",
      "Epoch 10/20\n",
      "38/38 [==============================] - 0s 5ms/step - loss: 0.6966 - accuracy: 0.5142 - val_loss: 0.6939 - val_accuracy: 0.5000\n",
      "Epoch 11/20\n",
      "38/38 [==============================] - 0s 5ms/step - loss: 0.7000 - accuracy: 0.5033 - val_loss: 0.6938 - val_accuracy: 0.5133\n",
      "Epoch 12/20\n",
      "38/38 [==============================] - 0s 4ms/step - loss: 0.7000 - accuracy: 0.5083 - val_loss: 0.6937 - val_accuracy: 0.5133\n",
      "Epoch 13/20\n",
      "38/38 [==============================] - 0s 4ms/step - loss: 0.6965 - accuracy: 0.4917 - val_loss: 0.6942 - val_accuracy: 0.5133\n",
      "Epoch 14/20\n",
      "38/38 [==============================] - 0s 4ms/step - loss: 0.6987 - accuracy: 0.4975 - val_loss: 0.6940 - val_accuracy: 0.5133\n",
      "Epoch 15/20\n",
      "38/38 [==============================] - 0s 4ms/step - loss: 0.6969 - accuracy: 0.4967 - val_loss: 0.6938 - val_accuracy: 0.5200\n",
      "Epoch 16/20\n",
      "38/38 [==============================] - 0s 4ms/step - loss: 0.6960 - accuracy: 0.5209 - val_loss: 0.6935 - val_accuracy: 0.5200\n",
      "Epoch 17/20\n",
      "38/38 [==============================] - 0s 5ms/step - loss: 0.6963 - accuracy: 0.4833 - val_loss: 0.6944 - val_accuracy: 0.5167\n",
      "Epoch 18/20\n",
      "38/38 [==============================] - 0s 5ms/step - loss: 0.6974 - accuracy: 0.4875 - val_loss: 0.6938 - val_accuracy: 0.5133\n",
      "Epoch 19/20\n",
      "38/38 [==============================] - 0s 4ms/step - loss: 0.6947 - accuracy: 0.4958 - val_loss: 0.6936 - val_accuracy: 0.4967\n",
      "Epoch 20/20\n",
      "38/38 [==============================] - 0s 4ms/step - loss: 0.6955 - accuracy: 0.5042 - val_loss: 0.6936 - val_accuracy: 0.5100\n"
     ]
    }
   ],
   "source": [
    "# Build the binary classification model\n",
    "binary_model = build_binary_classification_model(X_train, output_size=1, neurons=binary_lstm_neurons)\n",
    "\n",
    "# Train the binary classification model\n",
    "binary_modelfit = binary_model.fit(X_train, y_train, validation_data=(X_test, y_test), epochs=binary_epochs, batch_size=batch_size, verbose=1, shuffle=False)\n"
   ]
  },
  {
   "cell_type": "markdown",
   "metadata": {},
   "source": [
    "# 8. Binary Classification "
   ]
  },
  {
   "cell_type": "code",
   "execution_count": 34,
   "metadata": {},
   "outputs": [
    {
     "data": {
      "image/png": "[encoded data removed]",
      "text/plain": [
       "<Figure size 640x480 with 1 Axes>"
      ]
     },
     "metadata": {},
     "output_type": "display_data"
    }
   ],
   "source": [
    "# Plotting the training and validation loss during model training\n",
    "plt.plot(binary_modelfit.history['loss'], 'r', linewidth=2, label='Training loss')\n",
    "plt.plot(binary_modelfit.history['val_loss'], 'g', linewidth=2, label='Validation loss')\n",
    "\n",
    "# Set plot title and axis labels\n",
    "plt.title('LSTM Neural Networks - BTC Model')\n",
    "plt.xlabel('Epochs numbers')\n",
    "plt.ylabel('MSE numbers')\n",
    "\n",
    "# Display legend to distinguish between training and validation loss\n",
    "plt.legend()\n",
    "\n",
    "# Show the plot\n",
    "plt.show()\n"
   ]
  },
  {
   "cell_type": "code",
   "execution_count": 35,
   "metadata": {
    "tags": []
   },
   "outputs": [
    {
     "name": "stdout",
     "output_type": "stream",
     "text": [
      "10/10 [==============================] - 1s 9ms/step\n",
      "Actual Binary Targets:\n",
      "Date\n",
      "2023-10-31 19:01:00    1\n",
      "2023-10-31 19:02:00    0\n",
      "2023-10-31 19:03:00    0\n",
      "2023-10-31 19:04:00    0\n",
      "2023-10-31 19:05:00    1\n",
      "                      ..\n",
      "2023-10-31 23:56:00    0\n",
      "2023-10-31 23:57:00    1\n",
      "2023-10-31 23:58:00    0\n",
      "2023-10-31 23:59:00    0\n",
      "2023-11-01 00:00:00    1\n",
      "Name: aim_binary, Length: 300, dtype: int64\n",
      "Predicted Binary Targets:\n",
      "[[1]\n",
      " [1]\n",
      " [1]\n",
      " [1]\n",
      " [1]\n",
      " [0]\n",
      " [0]\n",
      " [1]\n",
      " [0]\n",
      " [1]\n",
      " [0]\n",
      " [1]\n",
      " [0]\n",
      " [1]\n",
      " [1]\n",
      " [0]\n",
      " [0]\n",
      " [0]\n",
      " [0]\n",
      " [1]\n",
      " [1]\n",
      " [1]\n",
      " [1]\n",
      " [0]\n",
      " [0]\n",
      " [1]\n",
      " [1]\n",
      " [1]\n",
      " [0]\n",
      " [0]\n",
      " [0]\n",
      " [0]\n",
      " [0]\n",
      " [0]\n",
      " [0]\n",
      " [0]\n",
      " [0]\n",
      " [0]\n",
      " [0]\n",
      " [0]\n",
      " [0]\n",
      " [1]\n",
      " [1]\n",
      " [0]\n",
      " [0]\n",
      " [0]\n",
      " [0]\n",
      " [0]\n",
      " [0]\n",
      " [0]\n",
      " [0]\n",
      " [0]\n",
      " [0]\n",
      " [1]\n",
      " [0]\n",
      " [1]\n",
      " [0]\n",
      " [0]\n",
      " [1]\n",
      " [1]\n",
      " [1]\n",
      " [1]\n",
      " [1]\n",
      " [1]\n",
      " [1]\n",
      " [0]\n",
      " [1]\n",
      " [0]\n",
      " [1]\n",
      " [0]\n",
      " [0]\n",
      " [0]\n",
      " [1]\n",
      " [0]\n",
      " [1]\n",
      " [1]\n",
      " [1]\n",
      " [1]\n",
      " [0]\n",
      " [1]\n",
      " [0]\n",
      " [0]\n",
      " [0]\n",
      " [0]\n",
      " [1]\n",
      " [0]\n",
      " [0]\n",
      " [1]\n",
      " [0]\n",
      " [0]\n",
      " [1]\n",
      " [0]\n",
      " [0]\n",
      " [0]\n",
      " [0]\n",
      " [0]\n",
      " [0]\n",
      " [1]\n",
      " [0]\n",
      " [0]\n",
      " [0]\n",
      " [1]\n",
      " [1]\n",
      " [0]\n",
      " [0]\n",
      " [1]\n",
      " [1]\n",
      " [1]\n",
      " [0]\n",
      " [0]\n",
      " [0]\n",
      " [1]\n",
      " [1]\n",
      " [0]\n",
      " [1]\n",
      " [1]\n",
      " [1]\n",
      " [1]\n",
      " [1]\n",
      " [0]\n",
      " [0]\n",
      " [1]\n",
      " [0]\n",
      " [0]\n",
      " [0]\n",
      " [0]\n",
      " [0]\n",
      " [0]\n",
      " [0]\n",
      " [0]\n",
      " [0]\n",
      " [0]\n",
      " [0]\n",
      " [0]\n",
      " [0]\n",
      " [0]\n",
      " [0]\n",
      " [0]\n",
      " [1]\n",
      " [1]\n",
      " [0]\n",
      " [0]\n",
      " [1]\n",
      " [0]\n",
      " [1]\n",
      " [1]\n",
      " [1]\n",
      " [1]\n",
      " [1]\n",
      " [0]\n",
      " [1]\n",
      " [0]\n",
      " [1]\n",
      " [0]\n",
      " [0]\n",
      " [1]\n",
      " [0]\n",
      " [1]\n",
      " [1]\n",
      " [0]\n",
      " [0]\n",
      " [0]\n",
      " [0]\n",
      " [0]\n",
      " [0]\n",
      " [1]\n",
      " [0]\n",
      " [0]\n",
      " [0]\n",
      " [1]\n",
      " [0]\n",
      " [1]\n",
      " [0]\n",
      " [0]\n",
      " [0]\n",
      " [0]\n",
      " [0]\n",
      " [0]\n",
      " [0]\n",
      " [0]\n",
      " [0]\n",
      " [1]\n",
      " [1]\n",
      " [0]\n",
      " [1]\n",
      " [0]\n",
      " [0]\n",
      " [0]\n",
      " [1]\n",
      " [0]\n",
      " [1]\n",
      " [0]\n",
      " [0]\n",
      " [0]\n",
      " [0]\n",
      " [0]\n",
      " [0]\n",
      " [0]\n",
      " [0]\n",
      " [0]\n",
      " [0]\n",
      " [0]\n",
      " [0]\n",
      " [0]\n",
      " [0]\n",
      " [0]\n",
      " [0]\n",
      " [0]\n",
      " [0]\n",
      " [0]\n",
      " [0]\n",
      " [0]\n",
      " [0]\n",
      " [0]\n",
      " [0]\n",
      " [0]\n",
      " [0]\n",
      " [1]\n",
      " [1]\n",
      " [1]\n",
      " [1]\n",
      " [1]\n",
      " [1]\n",
      " [0]\n",
      " [0]\n",
      " [1]\n",
      " [0]\n",
      " [0]\n",
      " [0]\n",
      " [0]\n",
      " [0]\n",
      " [0]\n",
      " [1]\n",
      " [0]\n",
      " [0]\n",
      " [0]\n",
      " [0]\n",
      " [0]\n",
      " [1]\n",
      " [0]\n",
      " [0]\n",
      " [0]\n",
      " [0]\n",
      " [0]\n",
      " [1]\n",
      " [0]\n",
      " [1]\n",
      " [1]\n",
      " [0]\n",
      " [0]\n",
      " [1]\n",
      " [1]\n",
      " [0]\n",
      " [0]\n",
      " [0]\n",
      " [1]\n",
      " [0]\n",
      " [0]\n",
      " [0]\n",
      " [1]\n",
      " [0]\n",
      " [1]\n",
      " [0]\n",
      " [0]\n",
      " [0]\n",
      " [0]\n",
      " [0]\n",
      " [0]\n",
      " [0]\n",
      " [1]\n",
      " [0]\n",
      " [0]\n",
      " [0]\n",
      " [1]\n",
      " [0]\n",
      " [0]\n",
      " [0]\n",
      " [0]\n",
      " [1]\n",
      " [0]\n",
      " [0]\n",
      " [0]\n",
      " [1]\n",
      " [0]\n",
      " [0]\n",
      " [0]\n",
      " [0]\n",
      " [0]\n",
      " [1]\n",
      " [0]\n",
      " [1]\n",
      " [0]\n",
      " [0]\n",
      " [1]\n",
      " [0]\n",
      " [0]\n",
      " [1]\n",
      " [0]\n",
      " [0]\n",
      " [1]]\n"
     ]
    }
   ],
   "source": [
    "# Make predictions using the trained binary classification model on the test data\n",
    "binary_preds = (binary_model.predict(X_test) > 0.5).astype(int)\n",
    "\n",
    "# Extract the binary target values from the test dataset\n",
    "binary_targets = y_test.astype(int)\n",
    "\n",
    "# Display the actual binary target values\n",
    "print(\"Actual Binary Targets:\")\n",
    "print(binary_targets)\n",
    "\n",
    "# Display the predicted binary target values\n",
    "print(\"Predicted Binary Targets:\")\n",
    "print(binary_preds)\n"
   ]
  },
  {
   "cell_type": "code",
   "execution_count": 36,
   "metadata": {},
   "outputs": [
    {
     "name": "stdout",
     "output_type": "stream",
     "text": [
      "10/10 [==============================] - 0s 2ms/step\n",
      "Accuracy: 0.51\n"
     ]
    }
   ],
   "source": [
    "# Evaluate the binary classification model\n",
    "binary_preds = (binary_model.predict(X_test) > 0.5).astype(int)\n",
    "accuracy = accuracy_score(y_test, binary_preds)\n",
    "print(f'Accuracy: {accuracy}')\n"
   ]
  }
 ],
 "metadata": {
  "colab": {
   "name": "Untitled11.ipynb",
   "provenance": [],
   "toc_visible": true
  },
  "kernelspec": {
   "display_name": "Python 3 (ipykernel)",
   "language": "python",
   "name": "python3"
  },
  "language_info": {
   "codemirror_mode": {
    "name": "ipython",
    "version": 3
   },
   "file_extension": ".py",
   "mimetype": "text/x-python",
   "name": "python",
   "nbconvert_exporter": "python",
   "pygments_lexer": "ipython3",
   "version": "3.10.6"
  },
  "toc": {
   "base_numbering": 1,
   "nav_menu": {},
   "number_sections": true,
   "sideBar": true,
   "skip_h1_title": false,
   "title_cell": "Table of Contents",
   "title_sidebar": "Contents",
   "toc_cell": false,
   "toc_position": {},
   "toc_section_display": true,
   "toc_window_display": false
  }
 },
 "nbformat": 4,
 "nbformat_minor": 4
}
