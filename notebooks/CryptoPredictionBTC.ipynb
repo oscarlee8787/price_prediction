{
 "cells": [
  {
   "cell_type": "markdown",
   "metadata": {},
   "source": [
    "# 1. Download Training Data"
   ]
  },
  {
   "cell_type": "code",
   "execution_count": 1,
   "metadata": {},
   "outputs": [],
   "source": [
    "# import libraries\n",
    "import numpy as np\n",
    "import pandas as pd\n",
    "import requests"
   ]
  },
  {
   "cell_type": "code",
   "execution_count": 2,
   "metadata": {
    "tags": []
   },
   "outputs": [],
   "source": [
    "# Connect to Binance api to download training data, no need for keys or authentication, \n",
    "# but only accessible from physical machines(does not work on Google Cloud)\n",
    "\n",
    "root_url = 'https://api.binance.com/api/v3/'\n",
    "\n",
    "check_url = root_url + 'ping'\n",
    "\n",
    "if requests.get(check_url).ok != True:\n",
    "    print('!= 200')\n"
   ]
  },
  {
   "cell_type": "code",
   "execution_count": 3,
   "metadata": {},
   "outputs": [],
   "source": [
    "# set api parameters including trading pairs, intervals, and desired timeframes\n",
    "\n",
    "symbol = 'BTCUSDT' # 'BTCUSDT', 'ETHUSDT', etc.\n",
    "\n",
    "interval = '1d' # '1m', '1h', '1d'\n",
    "\n",
    "kline_url = root_url + 'klines'\n",
    "\n",
    "params = {'interval':interval,\n",
    "          'symbol':symbol,\n",
    "          'endTime':1698796800000,\n",
    "          #'limit':5 # Binance default: 500, max: 1000\n",
    "         }"
   ]
  },
  {
   "cell_type": "code",
   "execution_count": 4,
   "metadata": {
    "tags": []
   },
   "outputs": [],
   "source": [
    "# get api data as json\n",
    "\n",
    "if requests.get(url=kline_url, params=params).ok != True:\n",
    "    print('Issue with Binance kline API connectivity, did not fetch data')\n",
    "\n",
    "api_data = requests.get(url=kline_url, params=params).json()"
   ]
  },
  {
   "cell_type": "code",
   "execution_count": 5,
   "metadata": {
    "tags": []
   },
   "outputs": [],
   "source": [
    "# save json to dataframe\n",
    "\n",
    "df = pd.DataFrame(api_data)\n",
    "df.columns = ['Date', 'Open', 'High', 'Low', 'Close', 'Volume',\n",
    "          'k_close_time', 'quote_asset_volume', 'num_trades',\n",
    "          'taker_base_vol', 'taker_quote_vol', 'ignore']"
   ]
  },
  {
   "cell_type": "code",
   "execution_count": 6,
   "metadata": {
    "tags": []
   },
   "outputs": [],
   "source": [
    "# use for loop to overcome Binance api max limit of 1000 rows per call\n",
    "\n",
    "for i in range(1):\n",
    "    prev = df['Date'][0]\n",
    "    # url_next = url + '&endTime=' + str(prev)\n",
    "    params['endTime'] = str(prev)\n",
    "    next_data = requests.get(url=kline_url, params=params).json()\n",
    "    df_next = pd.DataFrame(next_data)\n",
    "    df_next.columns = ['Date', 'Open', 'High', 'Low', 'Close', 'Volume',\n",
    "          'k_close_time', 'quote_asset_volume', 'num_trades',\n",
    "          'taker_base_vol', 'taker_quote_vol', 'ignore']\n",
    "    df = pd.concat([df_next, df]).drop_duplicates()\n"
   ]
  },
  {
   "cell_type": "code",
   "execution_count": 7,
   "metadata": {},
   "outputs": [],
   "source": [
    "for col in ['Open', 'High', 'Low', 'Close', 'Volume',\n",
    "            'quote_asset_volume', 'num_trades',\n",
    "            'taker_base_vol', 'taker_quote_vol', 'ignore']:\n",
    "    df[col] = df[col].astype(float)\n",
    "    \n",
    "df['Date'] = pd.to_datetime(df['Date'],unit='ms')"
   ]
  },
  {
   "cell_type": "code",
   "execution_count": 8,
   "metadata": {},
   "outputs": [
    {
     "data": {
      "text/html": [
       "<div>\n",
       "<style scoped>\n",
       "    .dataframe tbody tr th:only-of-type {\n",
       "        vertical-align: middle;\n",
       "    }\n",
       "\n",
       "    .dataframe tbody tr th {\n",
       "        vertical-align: top;\n",
       "    }\n",
       "\n",
       "    .dataframe thead th {\n",
       "        text-align: right;\n",
       "    }\n",
       "</style>\n",
       "<table border=\"1\" class=\"dataframe\">\n",
       "  <thead>\n",
       "    <tr style=\"text-align: right;\">\n",
       "      <th></th>\n",
       "      <th>Date</th>\n",
       "      <th>Open</th>\n",
       "      <th>High</th>\n",
       "      <th>Low</th>\n",
       "      <th>Close</th>\n",
       "      <th>Volume</th>\n",
       "      <th>k_close_time</th>\n",
       "      <th>quote_asset_volume</th>\n",
       "      <th>num_trades</th>\n",
       "      <th>taker_base_vol</th>\n",
       "      <th>taker_quote_vol</th>\n",
       "      <th>ignore</th>\n",
       "    </tr>\n",
       "  </thead>\n",
       "  <tbody>\n",
       "    <tr>\n",
       "      <th>0</th>\n",
       "      <td>2021-02-06</td>\n",
       "      <td>38289.32</td>\n",
       "      <td>40955.51</td>\n",
       "      <td>38215.94</td>\n",
       "      <td>39186.94</td>\n",
       "      <td>98757.311183</td>\n",
       "      <td>1612655999999</td>\n",
       "      <td>3.922095e+09</td>\n",
       "      <td>2291646.0</td>\n",
       "      <td>52015.513362</td>\n",
       "      <td>2.065181e+09</td>\n",
       "      <td>0.0</td>\n",
       "    </tr>\n",
       "    <tr>\n",
       "      <th>1</th>\n",
       "      <td>2021-02-07</td>\n",
       "      <td>39181.01</td>\n",
       "      <td>39700.00</td>\n",
       "      <td>37351.00</td>\n",
       "      <td>38795.69</td>\n",
       "      <td>84363.679763</td>\n",
       "      <td>1612742399999</td>\n",
       "      <td>3.256521e+09</td>\n",
       "      <td>1976357.0</td>\n",
       "      <td>40764.388959</td>\n",
       "      <td>1.574483e+09</td>\n",
       "      <td>0.0</td>\n",
       "    </tr>\n",
       "    <tr>\n",
       "      <th>2</th>\n",
       "      <td>2021-02-08</td>\n",
       "      <td>38795.69</td>\n",
       "      <td>46794.45</td>\n",
       "      <td>37988.89</td>\n",
       "      <td>46374.87</td>\n",
       "      <td>138597.536914</td>\n",
       "      <td>1612828799999</td>\n",
       "      <td>5.881537e+09</td>\n",
       "      <td>3230961.0</td>\n",
       "      <td>72345.891568</td>\n",
       "      <td>3.069314e+09</td>\n",
       "      <td>0.0</td>\n",
       "    </tr>\n",
       "    <tr>\n",
       "      <th>3</th>\n",
       "      <td>2021-02-09</td>\n",
       "      <td>46374.86</td>\n",
       "      <td>48142.19</td>\n",
       "      <td>44961.09</td>\n",
       "      <td>46420.42</td>\n",
       "      <td>115499.861712</td>\n",
       "      <td>1612915199999</td>\n",
       "      <td>5.386255e+09</td>\n",
       "      <td>3119034.0</td>\n",
       "      <td>57429.564347</td>\n",
       "      <td>2.679451e+09</td>\n",
       "      <td>0.0</td>\n",
       "    </tr>\n",
       "    <tr>\n",
       "      <th>4</th>\n",
       "      <td>2021-02-10</td>\n",
       "      <td>46420.42</td>\n",
       "      <td>47310.00</td>\n",
       "      <td>43727.00</td>\n",
       "      <td>44807.58</td>\n",
       "      <td>97154.182200</td>\n",
       "      <td>1613001599999</td>\n",
       "      <td>4.431650e+09</td>\n",
       "      <td>2891592.0</td>\n",
       "      <td>47971.985731</td>\n",
       "      <td>2.190231e+09</td>\n",
       "      <td>0.0</td>\n",
       "    </tr>\n",
       "    <tr>\n",
       "      <th>...</th>\n",
       "      <td>...</td>\n",
       "      <td>...</td>\n",
       "      <td>...</td>\n",
       "      <td>...</td>\n",
       "      <td>...</td>\n",
       "      <td>...</td>\n",
       "      <td>...</td>\n",
       "      <td>...</td>\n",
       "      <td>...</td>\n",
       "      <td>...</td>\n",
       "      <td>...</td>\n",
       "      <td>...</td>\n",
       "    </tr>\n",
       "    <tr>\n",
       "      <th>495</th>\n",
       "      <td>2023-10-28</td>\n",
       "      <td>33892.01</td>\n",
       "      <td>34493.33</td>\n",
       "      <td>33860.00</td>\n",
       "      <td>34081.00</td>\n",
       "      <td>16880.131440</td>\n",
       "      <td>1698537599999</td>\n",
       "      <td>5.759365e+08</td>\n",
       "      <td>607438.0</td>\n",
       "      <td>8313.307590</td>\n",
       "      <td>2.836566e+08</td>\n",
       "      <td>0.0</td>\n",
       "    </tr>\n",
       "    <tr>\n",
       "      <th>496</th>\n",
       "      <td>2023-10-29</td>\n",
       "      <td>34081.01</td>\n",
       "      <td>34750.11</td>\n",
       "      <td>33930.00</td>\n",
       "      <td>34525.89</td>\n",
       "      <td>20685.521760</td>\n",
       "      <td>1698623999999</td>\n",
       "      <td>7.116530e+08</td>\n",
       "      <td>717480.0</td>\n",
       "      <td>10053.960960</td>\n",
       "      <td>3.459337e+08</td>\n",
       "      <td>0.0</td>\n",
       "    </tr>\n",
       "    <tr>\n",
       "      <th>497</th>\n",
       "      <td>2023-10-30</td>\n",
       "      <td>34525.88</td>\n",
       "      <td>34856.00</td>\n",
       "      <td>34062.84</td>\n",
       "      <td>34474.73</td>\n",
       "      <td>33657.959760</td>\n",
       "      <td>1698710399999</td>\n",
       "      <td>1.159772e+09</td>\n",
       "      <td>1117727.0</td>\n",
       "      <td>15237.567810</td>\n",
       "      <td>5.251622e+08</td>\n",
       "      <td>0.0</td>\n",
       "    </tr>\n",
       "    <tr>\n",
       "      <th>498</th>\n",
       "      <td>2023-10-31</td>\n",
       "      <td>34474.74</td>\n",
       "      <td>34720.49</td>\n",
       "      <td>34025.00</td>\n",
       "      <td>34639.77</td>\n",
       "      <td>32737.898220</td>\n",
       "      <td>1698796799999</td>\n",
       "      <td>1.125442e+09</td>\n",
       "      <td>1179053.0</td>\n",
       "      <td>15843.795000</td>\n",
       "      <td>5.447229e+08</td>\n",
       "      <td>0.0</td>\n",
       "    </tr>\n",
       "    <tr>\n",
       "      <th>499</th>\n",
       "      <td>2023-11-01</td>\n",
       "      <td>34639.78</td>\n",
       "      <td>35582.00</td>\n",
       "      <td>34097.39</td>\n",
       "      <td>35421.43</td>\n",
       "      <td>53473.281650</td>\n",
       "      <td>1698883199999</td>\n",
       "      <td>1.856349e+09</td>\n",
       "      <td>1624635.0</td>\n",
       "      <td>25779.002900</td>\n",
       "      <td>8.953879e+08</td>\n",
       "      <td>0.0</td>\n",
       "    </tr>\n",
       "  </tbody>\n",
       "</table>\n",
       "<p>999 rows × 12 columns</p>\n",
       "</div>"
      ],
      "text/plain": [
       "          Date      Open      High       Low     Close         Volume  \\\n",
       "0   2021-02-06  38289.32  40955.51  38215.94  39186.94   98757.311183   \n",
       "1   2021-02-07  39181.01  39700.00  37351.00  38795.69   84363.679763   \n",
       "2   2021-02-08  38795.69  46794.45  37988.89  46374.87  138597.536914   \n",
       "3   2021-02-09  46374.86  48142.19  44961.09  46420.42  115499.861712   \n",
       "4   2021-02-10  46420.42  47310.00  43727.00  44807.58   97154.182200   \n",
       "..         ...       ...       ...       ...       ...            ...   \n",
       "495 2023-10-28  33892.01  34493.33  33860.00  34081.00   16880.131440   \n",
       "496 2023-10-29  34081.01  34750.11  33930.00  34525.89   20685.521760   \n",
       "497 2023-10-30  34525.88  34856.00  34062.84  34474.73   33657.959760   \n",
       "498 2023-10-31  34474.74  34720.49  34025.00  34639.77   32737.898220   \n",
       "499 2023-11-01  34639.78  35582.00  34097.39  35421.43   53473.281650   \n",
       "\n",
       "      k_close_time  quote_asset_volume  num_trades  taker_base_vol  \\\n",
       "0    1612655999999        3.922095e+09   2291646.0    52015.513362   \n",
       "1    1612742399999        3.256521e+09   1976357.0    40764.388959   \n",
       "2    1612828799999        5.881537e+09   3230961.0    72345.891568   \n",
       "3    1612915199999        5.386255e+09   3119034.0    57429.564347   \n",
       "4    1613001599999        4.431650e+09   2891592.0    47971.985731   \n",
       "..             ...                 ...         ...             ...   \n",
       "495  1698537599999        5.759365e+08    607438.0     8313.307590   \n",
       "496  1698623999999        7.116530e+08    717480.0    10053.960960   \n",
       "497  1698710399999        1.159772e+09   1117727.0    15237.567810   \n",
       "498  1698796799999        1.125442e+09   1179053.0    15843.795000   \n",
       "499  1698883199999        1.856349e+09   1624635.0    25779.002900   \n",
       "\n",
       "     taker_quote_vol  ignore  \n",
       "0       2.065181e+09     0.0  \n",
       "1       1.574483e+09     0.0  \n",
       "2       3.069314e+09     0.0  \n",
       "3       2.679451e+09     0.0  \n",
       "4       2.190231e+09     0.0  \n",
       "..               ...     ...  \n",
       "495     2.836566e+08     0.0  \n",
       "496     3.459337e+08     0.0  \n",
       "497     5.251622e+08     0.0  \n",
       "498     5.447229e+08     0.0  \n",
       "499     8.953879e+08     0.0  \n",
       "\n",
       "[999 rows x 12 columns]"
      ]
     },
     "execution_count": 8,
     "metadata": {},
     "output_type": "execute_result"
    }
   ],
   "source": [
    "df"
   ]
  },
  {
   "cell_type": "code",
   "execution_count": 38,
   "metadata": {},
   "outputs": [],
   "source": [
    "# saving to csv\n",
    "\n",
    "filename = f'{symbol}_{interval}.csv'\n",
    "df.to_csv(f'../raw_data/{filename}')"
   ]
  },
  {
   "cell_type": "code",
   "execution_count": null,
   "metadata": {},
   "outputs": [],
   "source": []
  },
  {
   "cell_type": "markdown",
   "metadata": {},
   "source": [
    "# 2. Load Data & Packages"
   ]
  },
  {
   "cell_type": "code",
   "execution_count": 9,
   "metadata": {
    "id": "Bk2m_4TChMIS"
   },
   "outputs": [
    {
     "name": "stderr",
     "output_type": "stream",
     "text": [
      "2024-01-08 17:54:19.047780: I tensorflow/core/platform/cpu_feature_guard.cc:193] This TensorFlow binary is optimized with oneAPI Deep Neural Network Library (oneDNN) to use the following CPU instructions in performance-critical operations:  AVX2 FMA\n",
      "To enable them in other operations, rebuild TensorFlow with the appropriate compiler flags.\n"
     ]
    }
   ],
   "source": [
    "# Import libraries\n",
    "from tensorflow.keras.models import Sequential\n",
    "from tensorflow.keras.layers import Activation, Dense, Dropout, LSTM\n",
    "import matplotlib.pyplot as plt\n",
    "import numpy as np\n",
    "import pandas as pd\n",
    "from sklearn.metrics import mean_absolute_error, mean_squared_error,  r2_score, accuracy_score\n",
    "from sklearn.model_selection import train_test_split\n"
   ]
  },
  {
   "cell_type": "code",
   "execution_count": 10,
   "metadata": {
    "colab": {
     "base_uri": "https://localhost:8080/"
    },
    "id": "rqsutzJBwjS_",
    "outputId": "e7c3f28d-b281-4e29-da14-493ed67e5da3"
   },
   "outputs": [],
   "source": [
    "# Read data from the CSV file into a DataFrame\n",
    "data = pd.read_csv(\"../raw_data/BTCUSDT_1d.csv\")\n",
    "\n",
    "# Select specific columns from the DataFrame\n",
    "data = data.loc[:,['Date','Open','High','Low','Close','Volume']]"
   ]
  },
  {
   "cell_type": "code",
   "execution_count": 11,
   "metadata": {
    "colab": {
     "base_uri": "https://localhost:8080/"
    },
    "id": "HCWV-p6b-xmS",
    "outputId": "47fbcadf-5964-47cc-f26d-a9fb5ccd140f"
   },
   "outputs": [
    {
     "data": {
      "text/html": [
       "<div>\n",
       "<style scoped>\n",
       "    .dataframe tbody tr th:only-of-type {\n",
       "        vertical-align: middle;\n",
       "    }\n",
       "\n",
       "    .dataframe tbody tr th {\n",
       "        vertical-align: top;\n",
       "    }\n",
       "\n",
       "    .dataframe thead th {\n",
       "        text-align: right;\n",
       "    }\n",
       "</style>\n",
       "<table border=\"1\" class=\"dataframe\">\n",
       "  <thead>\n",
       "    <tr style=\"text-align: right;\">\n",
       "      <th></th>\n",
       "      <th>Open</th>\n",
       "      <th>High</th>\n",
       "      <th>Low</th>\n",
       "      <th>Close</th>\n",
       "      <th>Volume</th>\n",
       "    </tr>\n",
       "    <tr>\n",
       "      <th>Date</th>\n",
       "      <th></th>\n",
       "      <th></th>\n",
       "      <th></th>\n",
       "      <th></th>\n",
       "      <th></th>\n",
       "    </tr>\n",
       "  </thead>\n",
       "  <tbody>\n",
       "    <tr>\n",
       "      <th>2021-02-06</th>\n",
       "      <td>38289.32</td>\n",
       "      <td>40955.51</td>\n",
       "      <td>38215.94</td>\n",
       "      <td>39186.94</td>\n",
       "      <td>98757.311183</td>\n",
       "    </tr>\n",
       "    <tr>\n",
       "      <th>2021-02-07</th>\n",
       "      <td>39181.01</td>\n",
       "      <td>39700.00</td>\n",
       "      <td>37351.00</td>\n",
       "      <td>38795.69</td>\n",
       "      <td>84363.679763</td>\n",
       "    </tr>\n",
       "    <tr>\n",
       "      <th>2021-02-08</th>\n",
       "      <td>38795.69</td>\n",
       "      <td>46794.45</td>\n",
       "      <td>37988.89</td>\n",
       "      <td>46374.87</td>\n",
       "      <td>138597.536914</td>\n",
       "    </tr>\n",
       "    <tr>\n",
       "      <th>2021-02-09</th>\n",
       "      <td>46374.86</td>\n",
       "      <td>48142.19</td>\n",
       "      <td>44961.09</td>\n",
       "      <td>46420.42</td>\n",
       "      <td>115499.861712</td>\n",
       "    </tr>\n",
       "    <tr>\n",
       "      <th>2021-02-10</th>\n",
       "      <td>46420.42</td>\n",
       "      <td>47310.00</td>\n",
       "      <td>43727.00</td>\n",
       "      <td>44807.58</td>\n",
       "      <td>97154.182200</td>\n",
       "    </tr>\n",
       "    <tr>\n",
       "      <th>...</th>\n",
       "      <td>...</td>\n",
       "      <td>...</td>\n",
       "      <td>...</td>\n",
       "      <td>...</td>\n",
       "      <td>...</td>\n",
       "    </tr>\n",
       "    <tr>\n",
       "      <th>2023-10-28</th>\n",
       "      <td>33892.01</td>\n",
       "      <td>34493.33</td>\n",
       "      <td>33860.00</td>\n",
       "      <td>34081.00</td>\n",
       "      <td>16880.131440</td>\n",
       "    </tr>\n",
       "    <tr>\n",
       "      <th>2023-10-29</th>\n",
       "      <td>34081.01</td>\n",
       "      <td>34750.11</td>\n",
       "      <td>33930.00</td>\n",
       "      <td>34525.89</td>\n",
       "      <td>20685.521760</td>\n",
       "    </tr>\n",
       "    <tr>\n",
       "      <th>2023-10-30</th>\n",
       "      <td>34525.88</td>\n",
       "      <td>34856.00</td>\n",
       "      <td>34062.84</td>\n",
       "      <td>34474.73</td>\n",
       "      <td>33657.959760</td>\n",
       "    </tr>\n",
       "    <tr>\n",
       "      <th>2023-10-31</th>\n",
       "      <td>34474.74</td>\n",
       "      <td>34720.49</td>\n",
       "      <td>34025.00</td>\n",
       "      <td>34639.77</td>\n",
       "      <td>32737.898220</td>\n",
       "    </tr>\n",
       "    <tr>\n",
       "      <th>2023-11-01</th>\n",
       "      <td>34639.78</td>\n",
       "      <td>35582.00</td>\n",
       "      <td>34097.39</td>\n",
       "      <td>35421.43</td>\n",
       "      <td>53473.281650</td>\n",
       "    </tr>\n",
       "  </tbody>\n",
       "</table>\n",
       "<p>999 rows × 5 columns</p>\n",
       "</div>"
      ],
      "text/plain": [
       "                Open      High       Low     Close         Volume\n",
       "Date                                                             \n",
       "2021-02-06  38289.32  40955.51  38215.94  39186.94   98757.311183\n",
       "2021-02-07  39181.01  39700.00  37351.00  38795.69   84363.679763\n",
       "2021-02-08  38795.69  46794.45  37988.89  46374.87  138597.536914\n",
       "2021-02-09  46374.86  48142.19  44961.09  46420.42  115499.861712\n",
       "2021-02-10  46420.42  47310.00  43727.00  44807.58   97154.182200\n",
       "...              ...       ...       ...       ...            ...\n",
       "2023-10-28  33892.01  34493.33  33860.00  34081.00   16880.131440\n",
       "2023-10-29  34081.01  34750.11  33930.00  34525.89   20685.521760\n",
       "2023-10-30  34525.88  34856.00  34062.84  34474.73   33657.959760\n",
       "2023-10-31  34474.74  34720.49  34025.00  34639.77   32737.898220\n",
       "2023-11-01  34639.78  35582.00  34097.39  35421.43   53473.281650\n",
       "\n",
       "[999 rows x 5 columns]"
      ]
     },
     "execution_count": 11,
     "metadata": {},
     "output_type": "execute_result"
    }
   ],
   "source": [
    "# Set the 'Date' column as the index of the DataFrame\n",
    "data = data.set_index('Date')\n",
    "\n",
    "data"
   ]
  },
  {
   "cell_type": "markdown",
   "metadata": {},
   "source": [
    "# 3. Preprocess Data"
   ]
  },
  {
   "cell_type": "code",
   "execution_count": 12,
   "metadata": {
    "id": "fExReGBJz_qo"
   },
   "outputs": [],
   "source": [
    "#Set the Target column\n",
    "aim = 'Close'"
   ]
  },
  {
   "cell_type": "code",
   "execution_count": 61,
   "metadata": {
    "id": "TBA-1zdMztBG"
   },
   "outputs": [],
   "source": [
    "# 90-10 validation split\n",
    "val_split_index = int(len(data) * 0.9)\n",
    "val_data = data.iloc[val_split_index:]\n",
    "available_data = data.iloc[:val_split_index]\n",
    "\n",
    "# 80-20 train-test split\n",
    "split_index = int(len(available_data) * 0.8)\n",
    "train_data = available_data.iloc[:split_index]\n",
    "test_data = available_data.iloc[split_index:]\n",
    "\n",
    "\n",
    "def line_plot(line1, line2, label1=None, label2=None, title='', lw=2):\n",
    "    \"\"\"\n",
    "    Create a line plot with two lines.\n",
    "    Parameters:\n",
    "    - line1 (array-like): Data for the first line.\n",
    "    - line2 (array-like): Data for the second line.\n",
    "    - label1 (str, optional): Label for the first line (default is None).\n",
    "    - label2 (str, optional): Label for the second line (default is None).\n",
    "    - title (str, optional): Title of the plot (default is an empty string).\n",
    "    - lw (int, optional): Line width for both lines (default is 2).\n",
    "    \"\"\"\n",
    "    # Create a subplot with specified size\n",
    "    fig, ax = plt.subplots(1, figsize=(13, 7))\n",
    "\n",
    "    # Plot the first line with its label\n",
    "    ax.plot(line1, label=label1, linewidth=lw)\n",
    "\n",
    "    # Plot the second line with its label\n",
    "    ax.plot(line2, label=label2, linewidth=lw)\n",
    "\n",
    "    # Set y-axis label\n",
    "    ax.set_ylabel('BTC/USDT', fontsize=14)\n",
    "\n",
    "    # Set the title\n",
    "    ax.set_title(title, fontsize=16)\n",
    "\n",
    "    # Add a legend at the best location with the specified font size\n",
    "    ax.legend(loc='best', fontsize=16)\n",
    "\n",
    "    # Display the plot\n",
    "    plt.show()\n"
   ]
  },
  {
   "cell_type": "code",
   "execution_count": 15,
   "metadata": {},
   "outputs": [
    {
     "data": {
      "image/png": "[encoded data removed]",
      "text/plain": [
       "<Figure size 1300x700 with 1 Axes>"
      ]
     },
     "metadata": {},
     "output_type": "display_data"
    }
   ],
   "source": [
    "# Plotting the training and testing data for the 'Close' column\n",
    "line_plot(train_data[aim], test_data[aim], label1='Train', label2='Test', title='Data Split')\n"
   ]
  },
  {
   "cell_type": "code",
   "execution_count": 16,
   "metadata": {
    "id": "lQi8Ho8g0V7E"
   },
   "outputs": [],
   "source": [
    "# Function to normalize a continuous variable to a zero-base scale\n",
    "def normalise_zero_base(continuous):\n",
    "    \"\"\"\n",
    "    Normalize a continuous variable to a zero-base scale.\n",
    "    Parameters:\n",
    "    - continuous (pandas.Series): The continuous variable to be normalized.\n",
    "    Returns:\n",
    "    - pandas.Series: The normalized continuous variable.\n",
    "    \"\"\"\n",
    "    # Normalize by dividing each value by the first value and subtracting 1\n",
    "    return continuous / continuous.iloc[0] - 1\n",
    "\n",
    "\n",
    "# Function to normalize a continuous variable to a min-max scale\n",
    "def normalise_min_max(continuous):\n",
    "    \"\"\"\n",
    "    Normalize a continuous variable to a min-max scale.\n",
    "    Parameters:\n",
    "    - continuous (pandas.Series): The continuous variable to be normalized.\n",
    "    Returns:\n",
    "    - pandas.Series: The normalized continuous variable.\n",
    "    \"\"\"\n",
    "    # Normalize using min-max scaling formula\n",
    "    return (continuous - continuous.min()) / (continuous.max() - continuous.min())\n"
   ]
  },
  {
   "cell_type": "code",
   "execution_count": 17,
   "metadata": {
    "id": "4knpG9Nn0vV1"
   },
   "outputs": [],
   "source": [
    "# Function to extract windowed data from a continuous variable\n",
    "def extract_window_data(continuous, window_len=5, zero_base=True):\n",
    "    \"\"\"\n",
    "    Extract windowed data from a continuous variable.\n",
    "    Parameters:\n",
    "    - continuous (pandas.Series): The continuous variable to extract windows from.\n",
    "    - window_len (int, optional): The length of each window (default is 5).\n",
    "    - zero_base (bool, optional): Whether to normalize each window to a zero-base scale (default is True).\n",
    "    Returns:\n",
    "    - numpy.ndarray: Array of windowed data.\n",
    "    Example:\n",
    "    >>> windowed_data = extract_window_data(data['Close'], window_len=10, zero_base=True)\n",
    "    \"\"\"\n",
    "    # Initialize an empty list to store windowed data\n",
    "    window_data = []\n",
    "\n",
    "    # Iterate over the continuous variable to extract windows\n",
    "    for idx in range(len(continuous) - window_len):\n",
    "        # Extract a window of data\n",
    "        tmp = continuous[idx: (idx + window_len)].copy()\n",
    "\n",
    "        # Normalize the window to a zero-base scale if specified\n",
    "        if zero_base:\n",
    "            tmp = normalise_zero_base(tmp)\n",
    "\n",
    "        # Append the window data to the list\n",
    "        window_data.append(tmp.values)\n",
    "\n",
    "    # Convert the list of windowed data to a numpy array\n",
    "    return np.array(window_data)\n"
   ]
  },
  {
   "cell_type": "code",
   "execution_count": 18,
   "metadata": {},
   "outputs": [],
   "source": [
    "# Function to prepare data for time series analysis\n",
    "def prepare_data(continuous, aim, window_len=10, zero_base=True, test_size=0.2):\n",
    "    \"\"\"\n",
    "    Prepare data for time series analysis.\n",
    "    Parameters:\n",
    "    - continuous (pandas.Series): The continuous variable for time series analysis.\n",
    "    - aim (str): The target variable to predict.\n",
    "    - window_len (int, optional): The length of each window (default is 10).\n",
    "    - zero_base (bool, optional): Whether to normalize each window to a zero-base scale (default is True).\n",
    "    - test_size (float, optional): The proportion of data to be used as the test set (default is 0.2).\n",
    "    Returns:\n",
    "    - tuple: A tuple containing train_data, test_data, X_train, X_test, y_train, y_test.\n",
    "    \"\"\"\n",
    "    # Extract windowed data for training and testing sets\n",
    "    X_train = extract_window_data(train_data, window_len, zero_base)\n",
    "    X_test = extract_window_data(test_data, window_len, zero_base)\n",
    "\n",
    "    # Extract target variable for training and testing sets\n",
    "    y_train = train_data[aim][window_len:].values\n",
    "    y_test = test_data[aim][window_len:].values\n",
    "\n",
    "    # Normalize the target variable to a zero-base scale if specified\n",
    "    if zero_base:\n",
    "        y_train = y_train / train_data[aim][:-window_len].values - 1\n",
    "        y_test = y_test / test_data[aim][:-window_len].values - 1\n",
    "\n",
    "    # Return the prepared data\n",
    "    return train_data, test_data, X_train, X_test, y_train, y_test\n"
   ]
  },
  {
   "cell_type": "code",
   "execution_count": 87,
   "metadata": {},
   "outputs": [],
   "source": [
    "# Function to prepare data for time series analysis\n",
    "def prepare_validation_data(continuous, aim, window_len=10):#, zero_base=True):\n",
    "    \"\"\"\n",
    "    Prepare data for time series analysis.\n",
    "    Parameters:\n",
    "    - continuous (pandas.Series): The continuous variable for time series analysis.\n",
    "    - aim (str): The target variable to predict.\n",
    "    - window_len (int, optional): The length of each window (default is 10).\n",
    "    - zero_base (bool, optional): Whether to normalize each window to a zero-base scale (default is True).\n",
    "    - test_size (float, optional): The proportion of data to be used as the test set (default is 0.2).\n",
    "    Returns:\n",
    "    - tuple: A tuple containing train_data, test_data, X_train, X_test, y_train, y_test.\n",
    "    \"\"\"\n",
    "    # Extract windowed data for validation set\n",
    "    X_val = extract_window_data(val_data, window_len, zero_base)\n",
    "\n",
    "    # Extract target variable for validation set\n",
    "    y_val = val_data[aim][window_len:].values\n",
    "\n",
    "    # Normalize the target variable to a zero-base scale if specified\n",
    "    # if zero_base:\n",
    "    #     y_train = y_train / train_data[aim][:-window_len].values - 1\n",
    "    #     y_test = y_test / test_data[aim][:-window_len].values - 1\n",
    "\n",
    "    # Return the prepared data\n",
    "    return val_data, X_val, y_val\n"
   ]
  },
  {
   "cell_type": "code",
   "execution_count": 88,
   "metadata": {},
   "outputs": [],
   "source": [
    "val_data, X_val, y_val = prepare_validation_data(val_data, aim=aim, window_len=window_len)"
   ]
  },
  {
   "cell_type": "code",
   "execution_count": 89,
   "metadata": {
    "tags": []
   },
   "outputs": [
    {
     "data": {
      "text/plain": [
       "(100, 5)"
      ]
     },
     "execution_count": 89,
     "metadata": {},
     "output_type": "execute_result"
    }
   ],
   "source": [
    "val_data.shape"
   ]
  },
  {
   "cell_type": "code",
   "execution_count": 90,
   "metadata": {},
   "outputs": [
    {
     "data": {
      "text/plain": [
       "(95, 5, 5)"
      ]
     },
     "execution_count": 90,
     "metadata": {},
     "output_type": "execute_result"
    }
   ],
   "source": [
    "X_val.shape"
   ]
  },
  {
   "cell_type": "code",
   "execution_count": 91,
   "metadata": {},
   "outputs": [
    {
     "data": {
      "text/plain": [
       "(95,)"
      ]
     },
     "execution_count": 91,
     "metadata": {},
     "output_type": "execute_result"
    }
   ],
   "source": [
    "y_val.shape"
   ]
  },
  {
   "cell_type": "code",
   "execution_count": 92,
   "metadata": {
    "collapsed": true,
    "jupyter": {
     "outputs_hidden": true
    },
    "tags": []
   },
   "outputs": [
    {
     "data": {
      "text/plain": [
       "array([[[ 0.00000000e+00,  0.00000000e+00,  0.00000000e+00,\n",
       "          0.00000000e+00,  0.00000000e+00],\n",
       "        [ 1.79630867e-03,  1.06889978e-02,  1.69686704e-03,\n",
       "          4.20987303e-03,  5.73403991e-01],\n",
       "        [ 6.01340120e-03,  6.51858660e-03,  1.24622818e-03,\n",
       "         -2.09723866e-04,  4.22303214e-02],\n",
       "        [ 1.58620808e-03,  5.65836057e-03,  2.59814477e-03,\n",
       "          2.91594863e-03,  1.12579842e-01],\n",
       "        [ 4.71749524e-03,  1.05255991e-03,  7.17889399e-03,\n",
       "          4.24203297e-03, -4.96823920e-01]],\n",
       "\n",
       "       [[ 0.00000000e+00,  0.00000000e+00,  0.00000000e+00,\n",
       "          0.00000000e+00,  0.00000000e+00],\n",
       "        [ 4.20953091e-03, -4.12630515e-03, -4.49875485e-04,\n",
       "         -4.40106896e-03, -3.37595222e-01],\n",
       "        [-2.09723866e-04, -4.97743348e-03,  8.99750970e-04,\n",
       "         -1.28849998e-03, -2.92883552e-01],\n",
       "        [ 2.91594863e-03, -9.53452341e-03,  5.47274043e-03,\n",
       "          3.20251186e-05, -6.80199057e-01],\n",
       "        [ 4.24203297e-03, -8.11721118e-03, -2.18923364e-03,\n",
       "         -2.41448953e-03, -5.37099376e-01]],\n",
       "\n",
       "       [[ 0.00000000e+00,  0.00000000e+00,  0.00000000e+00,\n",
       "          0.00000000e+00,  0.00000000e+00],\n",
       "        [-4.40072976e-03, -8.54654893e-04,  1.35023389e-03,\n",
       "          3.12632816e-03,  6.74990151e-02],\n",
       "        [-1.28815973e-03, -5.43062668e-03,  5.92528156e-03,\n",
       "          4.45269067e-03, -5.17212204e-01],\n",
       "        [ 3.23658224e-05, -4.00744196e-03, -1.74014101e-03,\n",
       "          1.99536115e-03, -3.01181634e-01],\n",
       "        [-2.41414966e-03, -1.26794665e-03,  6.17181013e-04,\n",
       "          3.24062256e-04,  5.73992909e-03]],\n",
       "\n",
       "       ...,\n",
       "\n",
       "       [[ 0.00000000e+00,  0.00000000e+00,  0.00000000e+00,\n",
       "          0.00000000e+00,  0.00000000e+00],\n",
       "        [ 1.69007624e-02, -8.78721766e-03,  2.13634292e-03,\n",
       "         -9.98346187e-03, -2.75882372e-01],\n",
       "        [ 6.74857242e-03, -2.52712205e-02, -8.55427929e-03,\n",
       "         -1.75101207e-02, -4.10964597e-01],\n",
       "        [-9.05587493e-04, -1.82029070e-02,  5.37277625e-03,\n",
       "         -1.20318123e-02, -6.92456799e-01],\n",
       "        [ 4.66589806e-03, -1.08940778e-02,  7.45121968e-03,\n",
       "          8.65026576e-04, -6.23125472e-01]],\n",
       "\n",
       "       [[ 0.00000000e+00,  0.00000000e+00,  0.00000000e+00,\n",
       "          0.00000000e+00,  0.00000000e+00],\n",
       "        [-9.98346187e-03, -1.66301355e-02, -1.06678321e-02,\n",
       "         -7.60255870e-03, -1.86547350e-01],\n",
       "        [-1.75104106e-02, -9.49916050e-03,  3.22953394e-03,\n",
       "         -2.06900631e-03, -5.75285577e-01],\n",
       "        [-1.20315224e-02, -2.12553767e-03,  5.30354656e-03,\n",
       "          1.09578861e-02, -4.79539630e-01],\n",
       "        [ 8.64736687e-04,  9.15170027e-04,  9.23942994e-03,\n",
       "          9.45986227e-03, -1.53145162e-01]],\n",
       "\n",
       "       [[ 0.00000000e+00,  0.00000000e+00,  0.00000000e+00,\n",
       "          0.00000000e+00,  0.00000000e+00],\n",
       "        [-7.60285152e-03,  7.25156957e-03,  1.40472194e-02,\n",
       "          5.57594384e-03, -4.77886729e-01],\n",
       "        [-2.06871350e-03,  1.47498905e-02,  1.61435958e-02,\n",
       "          1.87026327e-02, -3.60183571e-01],\n",
       "        [ 1.09575933e-02,  1.78420207e-02,  2.01219193e-02,\n",
       "          1.71931328e-02,  4.10622404e-02],\n",
       "        [ 9.46015508e-03,  1.38849467e-02,  1.89886781e-02,\n",
       "          2.20627156e-02,  1.26041480e-02]]])"
      ]
     },
     "execution_count": 92,
     "metadata": {},
     "output_type": "execute_result"
    }
   ],
   "source": [
    "X_val"
   ]
  },
  {
   "cell_type": "code",
   "execution_count": 76,
   "metadata": {
    "tags": []
   },
   "outputs": [
    {
     "data": {
      "text/plain": [
       "array([29281.09, 29232.25, 29705.99, 29186.01, 29193.64, 29113.99,\n",
       "       29072.13, 29088.42, 29211.06, 29770.42, 29581.99, 29455.75,\n",
       "       29426.03, 29430.17, 29303.84, 29430.93, 29200.  , 28730.51,\n",
       "       26623.41, 26054.  , 26100.01, 26189.99, 26126.92, 26056.  ,\n",
       "       26432.72, 26180.05, 26060.01, 26017.37, 26101.77, 26120.  ,\n",
       "       27716.34, 27299.99, 25940.78, 25805.05, 25869.51, 25971.21,\n",
       "       25826.02, 25792.1 , 25759.95, 26255.  , 25910.5 , 25901.61,\n",
       "       25841.61, 25162.52, 25840.1 , 26222.  , 26522.73, 26600.  ,\n",
       "       26559.67, 26527.51, 26762.51, 27210.26, 27125.  , 26568.08,\n",
       "       26580.14, 26575.96, 26248.38, 26304.81, 26221.67, 26372.99,\n",
       "       27021.39, 26906.96, 26962.56, 27992.57, 27494.51, 27426.46,\n",
       "       27778.57, 27410.39, 27931.09, 27956.67, 27917.05, 27590.12,\n",
       "       27390.12, 26875.52, 26759.63, 26862.  , 26852.48, 27154.15,\n",
       "       28500.78, 28395.91, 28320.  , 28713.71, 29669.04, 29909.8 ,\n",
       "       29992.46, 33069.99, 33922.73, 34496.05, 34151.66, 33892.02,\n",
       "       34081.  , 34525.89, 34474.73, 34639.77, 35421.43])"
      ]
     },
     "execution_count": 76,
     "metadata": {},
     "output_type": "execute_result"
    }
   ],
   "source": [
    "y_val"
   ]
  },
  {
   "cell_type": "code",
   "execution_count": 94,
   "metadata": {},
   "outputs": [
    {
     "data": {
      "text/html": [
       "<div>\n",
       "<style scoped>\n",
       "    .dataframe tbody tr th:only-of-type {\n",
       "        vertical-align: middle;\n",
       "    }\n",
       "\n",
       "    .dataframe tbody tr th {\n",
       "        vertical-align: top;\n",
       "    }\n",
       "\n",
       "    .dataframe thead th {\n",
       "        text-align: right;\n",
       "    }\n",
       "</style>\n",
       "<table border=\"1\" class=\"dataframe\">\n",
       "  <thead>\n",
       "    <tr style=\"text-align: right;\">\n",
       "      <th></th>\n",
       "      <th>Open</th>\n",
       "      <th>High</th>\n",
       "      <th>Low</th>\n",
       "      <th>Close</th>\n",
       "      <th>Volume</th>\n",
       "    </tr>\n",
       "    <tr>\n",
       "      <th>Date</th>\n",
       "      <th></th>\n",
       "      <th></th>\n",
       "      <th></th>\n",
       "      <th></th>\n",
       "      <th></th>\n",
       "    </tr>\n",
       "  </thead>\n",
       "  <tbody>\n",
       "    <tr>\n",
       "      <th>2023-07-25</th>\n",
       "      <td>29176.50</td>\n",
       "      <td>29376.00</td>\n",
       "      <td>29047.65</td>\n",
       "      <td>29228.91</td>\n",
       "      <td>21565.74780</td>\n",
       "    </tr>\n",
       "    <tr>\n",
       "      <th>2023-07-26</th>\n",
       "      <td>29228.91</td>\n",
       "      <td>29690.00</td>\n",
       "      <td>29096.94</td>\n",
       "      <td>29351.96</td>\n",
       "      <td>33931.63366</td>\n",
       "    </tr>\n",
       "    <tr>\n",
       "      <th>2023-07-27</th>\n",
       "      <td>29351.95</td>\n",
       "      <td>29567.49</td>\n",
       "      <td>29083.85</td>\n",
       "      <td>29222.78</td>\n",
       "      <td>22476.47626</td>\n",
       "    </tr>\n",
       "    <tr>\n",
       "      <th>2023-07-28</th>\n",
       "      <td>29222.78</td>\n",
       "      <td>29542.22</td>\n",
       "      <td>29123.12</td>\n",
       "      <td>29314.14</td>\n",
       "      <td>23993.61627</td>\n",
       "    </tr>\n",
       "    <tr>\n",
       "      <th>2023-07-29</th>\n",
       "      <td>29314.14</td>\n",
       "      <td>29406.92</td>\n",
       "      <td>29256.18</td>\n",
       "      <td>29352.90</td>\n",
       "      <td>10851.36844</td>\n",
       "    </tr>\n",
       "    <tr>\n",
       "      <th>2023-07-30</th>\n",
       "      <td>29352.90</td>\n",
       "      <td>29449.00</td>\n",
       "      <td>29033.24</td>\n",
       "      <td>29281.09</td>\n",
       "      <td>15706.97441</td>\n",
       "    </tr>\n",
       "    <tr>\n",
       "      <th>2023-07-31</th>\n",
       "      <td>29281.09</td>\n",
       "      <td>29530.00</td>\n",
       "      <td>29101.80</td>\n",
       "      <td>29232.25</td>\n",
       "      <td>22605.48964</td>\n",
       "    </tr>\n",
       "    <tr>\n",
       "      <th>2023-08-01</th>\n",
       "      <td>29232.26</td>\n",
       "      <td>29739.25</td>\n",
       "      <td>28585.70</td>\n",
       "      <td>29705.99</td>\n",
       "      <td>44719.65162</td>\n",
       "    </tr>\n",
       "    <tr>\n",
       "      <th>2023-08-02</th>\n",
       "      <td>29705.99</td>\n",
       "      <td>30047.50</td>\n",
       "      <td>28927.50</td>\n",
       "      <td>29186.01</td>\n",
       "      <td>48181.65141</td>\n",
       "    </tr>\n",
       "    <tr>\n",
       "      <th>2023-08-03</th>\n",
       "      <td>29186.00</td>\n",
       "      <td>29433.33</td>\n",
       "      <td>28968.00</td>\n",
       "      <td>29193.64</td>\n",
       "      <td>26476.91994</td>\n",
       "    </tr>\n",
       "  </tbody>\n",
       "</table>\n",
       "</div>"
      ],
      "text/plain": [
       "                Open      High       Low     Close       Volume\n",
       "Date                                                           \n",
       "2023-07-25  29176.50  29376.00  29047.65  29228.91  21565.74780\n",
       "2023-07-26  29228.91  29690.00  29096.94  29351.96  33931.63366\n",
       "2023-07-27  29351.95  29567.49  29083.85  29222.78  22476.47626\n",
       "2023-07-28  29222.78  29542.22  29123.12  29314.14  23993.61627\n",
       "2023-07-29  29314.14  29406.92  29256.18  29352.90  10851.36844\n",
       "2023-07-30  29352.90  29449.00  29033.24  29281.09  15706.97441\n",
       "2023-07-31  29281.09  29530.00  29101.80  29232.25  22605.48964\n",
       "2023-08-01  29232.26  29739.25  28585.70  29705.99  44719.65162\n",
       "2023-08-02  29705.99  30047.50  28927.50  29186.01  48181.65141\n",
       "2023-08-03  29186.00  29433.33  28968.00  29193.64  26476.91994"
      ]
     },
     "execution_count": 94,
     "metadata": {},
     "output_type": "execute_result"
    }
   ],
   "source": [
    "val_data.head(10)"
   ]
  },
  {
   "cell_type": "markdown",
   "metadata": {},
   "source": [
    "# 4. LSTM Model"
   ]
  },
  {
   "cell_type": "code",
   "execution_count": 112,
   "metadata": {},
   "outputs": [],
   "source": [
    "# Function to build an LSTM (Long Short-Term Memory) model# Function to build an LSTM (Long Short-Term Memory) model\n",
    "def build_lstm_model(input_data, output_size, neurons, activ_func='linear',\n",
    "                     dropout=0.2, loss='mse', optimizer='adam', metrics='mae'):\n",
    "    \"\"\"\n",
    "    Build an LSTM (Long Short-Term Memory) model.\n",
    "    Parameters:\n",
    "    - input_data (numpy.ndarray): The input data for the model.\n",
    "    - output_size (int): The size of the output layer.\n",
    "    - neurons (int): The number of neurons in the LSTM layer.\n",
    "    - activ_func (str, optional): Activation function for the output layer (default is 'linear').\n",
    "    - dropout (float, optional): Dropout rate to prevent overfitting (default is 0.2).\n",
    "    - loss (str, optional): Loss function for model training (default is 'mse' - Mean Squared Error).\n",
    "    - optimizer (str, optional): Optimization algorithm for model training (default is 'adam').\n",
    "    Returns:\n",
    "    - tensorflow.keras.models.Sequential: The constructed LSTM model.\n",
    "    \"\"\"\n",
    "    # Create a Sequential model\n",
    "    model = Sequential()\n",
    "\n",
    "    # Add an LSTM layer with the specified number of neurons and input shape\n",
    "    model.add(LSTM(neurons, input_shape=(input_data.shape[1], input_data.shape[2])))\n",
    "\n",
    "    # Add a Dropout layer to prevent overfitting\n",
    "    model.add(Dropout(dropout))\n",
    "\n",
    "    # Add a Dense layer with the specified number of units\n",
    "    model.add(Dense(units=output_size))\n",
    "\n",
    "    # Add an Activation layer with the specified activation function\n",
    "    model.add(Activation(activ_func))\n",
    "\n",
    "    # Compile the model with the specified loss function and optimizer\n",
    "    model.compile(loss=loss, optimizer=optimizer, metrics=metrics)\n",
    "\n",
    "    # Return the constructed LSTM model\n",
    "    return model\n"
   ]
  },
  {
   "cell_type": "code",
   "execution_count": 113,
   "metadata": {
    "id": "wdEmnpEz01dg"
   },
   "outputs": [],
   "source": [
    "# Define parameters for data preparation and LSTM model\n",
    "window_len = 5\n",
    "test_size = 0.2\n",
    "zero_base = True\n",
    "lstm_neurons = 50\n",
    "epochs = 20\n",
    "batch_size = 32\n",
    "loss = 'mse'\n",
    "dropout = 0.24\n",
    "optimizer = 'adam'\n",
    "output_size = 1\n",
    "\n",
    "# Prepare data for time series analysis\n",
    "train_data, test_data, X_train, X_test, y_train, y_test = prepare_data(\n",
    "    available_data, aim, window_len=window_len, zero_base=zero_base, test_size=test_size)\n"
   ]
  },
  {
   "cell_type": "code",
   "execution_count": 114,
   "metadata": {},
   "outputs": [
    {
     "data": {
      "text/plain": [
       "(899, 5)"
      ]
     },
     "execution_count": 114,
     "metadata": {},
     "output_type": "execute_result"
    }
   ],
   "source": [
    "available_data.shape"
   ]
  },
  {
   "cell_type": "code",
   "execution_count": 115,
   "metadata": {},
   "outputs": [
    {
     "data": {
      "text/plain": [
       "(100, 5)"
      ]
     },
     "execution_count": 115,
     "metadata": {},
     "output_type": "execute_result"
    }
   ],
   "source": [
    "val_data.shape"
   ]
  },
  {
   "cell_type": "code",
   "execution_count": 116,
   "metadata": {},
   "outputs": [],
   "source": [
    "train_data, test_data, X_train_val, X_test_val, y_train_val, y_test_val = prepare_data(\n",
    "    val_data, aim, window_len=window_len, zero_base=True, test_size=0)"
   ]
  },
  {
   "cell_type": "code",
   "execution_count": 117,
   "metadata": {
    "colab": {
     "base_uri": "https://localhost:8080/"
    },
    "id": "d1TEOxBr1ALy",
    "outputId": "51104b89-80ab-47aa-9031-9cc12a5cd0a8",
    "tags": []
   },
   "outputs": [
    {
     "name": "stdout",
     "output_type": "stream",
     "text": [
      "Epoch 1/20\n",
      "23/23 [==============================] - 4s 32ms/step - loss: 0.0069 - mae: 0.0626 - val_loss: 0.0029 - val_mae: 0.0374\n",
      "Epoch 2/20\n",
      "23/23 [==============================] - 0s 6ms/step - loss: 0.0042 - mae: 0.0496 - val_loss: 0.0022 - val_mae: 0.0326\n",
      "Epoch 3/20\n",
      "23/23 [==============================] - 0s 8ms/step - loss: 0.0034 - mae: 0.0458 - val_loss: 0.0018 - val_mae: 0.0291\n",
      "Epoch 4/20\n",
      "23/23 [==============================] - 0s 8ms/step - loss: 0.0030 - mae: 0.0416 - val_loss: 0.0014 - val_mae: 0.0261\n",
      "Epoch 5/20\n",
      "23/23 [==============================] - 0s 6ms/step - loss: 0.0030 - mae: 0.0421 - val_loss: 0.0018 - val_mae: 0.0292\n",
      "Epoch 6/20\n",
      "23/23 [==============================] - 0s 5ms/step - loss: 0.0027 - mae: 0.0396 - val_loss: 0.0014 - val_mae: 0.0253\n",
      "Epoch 7/20\n",
      "23/23 [==============================] - 0s 5ms/step - loss: 0.0026 - mae: 0.0389 - val_loss: 0.0012 - val_mae: 0.0236\n",
      "Epoch 8/20\n",
      "23/23 [==============================] - 0s 6ms/step - loss: 0.0025 - mae: 0.0388 - val_loss: 0.0012 - val_mae: 0.0236\n",
      "Epoch 9/20\n",
      "23/23 [==============================] - 0s 5ms/step - loss: 0.0024 - mae: 0.0374 - val_loss: 0.0012 - val_mae: 0.0231\n",
      "Epoch 10/20\n",
      "23/23 [==============================] - 0s 7ms/step - loss: 0.0021 - mae: 0.0348 - val_loss: 0.0011 - val_mae: 0.0216\n",
      "Epoch 11/20\n",
      "23/23 [==============================] - 0s 6ms/step - loss: 0.0021 - mae: 0.0348 - val_loss: 0.0011 - val_mae: 0.0220\n",
      "Epoch 12/20\n",
      "23/23 [==============================] - 0s 6ms/step - loss: 0.0021 - mae: 0.0353 - val_loss: 9.6879e-04 - val_mae: 0.0201\n",
      "Epoch 13/20\n",
      "23/23 [==============================] - 0s 7ms/step - loss: 0.0021 - mae: 0.0342 - val_loss: 0.0011 - val_mae: 0.0218\n",
      "Epoch 14/20\n",
      "23/23 [==============================] - 0s 7ms/step - loss: 0.0019 - mae: 0.0333 - val_loss: 9.1961e-04 - val_mae: 0.0196\n",
      "Epoch 15/20\n",
      "23/23 [==============================] - 0s 7ms/step - loss: 0.0019 - mae: 0.0331 - val_loss: 8.6274e-04 - val_mae: 0.0189\n",
      "Epoch 16/20\n",
      "23/23 [==============================] - 0s 7ms/step - loss: 0.0019 - mae: 0.0330 - val_loss: 0.0010 - val_mae: 0.0215\n",
      "Epoch 17/20\n",
      "23/23 [==============================] - 0s 7ms/step - loss: 0.0018 - mae: 0.0323 - val_loss: 9.4094e-04 - val_mae: 0.0203\n",
      "Epoch 18/20\n",
      "23/23 [==============================] - 0s 7ms/step - loss: 0.0018 - mae: 0.0318 - val_loss: 8.8847e-04 - val_mae: 0.0197\n",
      "Epoch 19/20\n",
      "23/23 [==============================] - 0s 6ms/step - loss: 0.0017 - mae: 0.0315 - val_loss: 8.4372e-04 - val_mae: 0.0189\n",
      "Epoch 20/20\n",
      "23/23 [==============================] - 0s 7ms/step - loss: 0.0018 - mae: 0.0317 - val_loss: 8.5529e-04 - val_mae: 0.0193\n"
     ]
    }
   ],
   "source": [
    "# Build an LSTM model\n",
    "model = build_lstm_model(\n",
    "    X_train, output_size=output_size, neurons=lstm_neurons, dropout=dropout, loss=loss, optimizer=optimizer)\n",
    "\n",
    "# Train the LSTM model\n",
    "modelfit = model.fit(\n",
    "    X_train, y_train, validation_data=(X_test, y_test), epochs=epochs, batch_size=batch_size, verbose=1, shuffle=False)\n"
   ]
  },
  {
   "cell_type": "code",
   "execution_count": 118,
   "metadata": {},
   "outputs": [
    {
     "data": {
      "text/plain": [
       "{'loss': [0.006871810648590326,\n",
       "  0.004177630878984928,\n",
       "  0.0034317122772336006,\n",
       "  0.00296067725867033,\n",
       "  0.0030004330910742283,\n",
       "  0.002652781317010522,\n",
       "  0.0025859882589429617,\n",
       "  0.0025419993326067924,\n",
       "  0.0023727102670818567,\n",
       "  0.002095676027238369,\n",
       "  0.0020753219723701477,\n",
       "  0.0021481721196323633,\n",
       "  0.0020763203501701355,\n",
       "  0.001910584163852036,\n",
       "  0.0018730064621195197,\n",
       "  0.0019149831496179104,\n",
       "  0.0017884115222841501,\n",
       "  0.0017852294258773327,\n",
       "  0.0017354104202240705,\n",
       "  0.0017851917073130608],\n",
       " 'mae': [0.06263003498315811,\n",
       "  0.04958684742450714,\n",
       "  0.04578384757041931,\n",
       "  0.04163540154695511,\n",
       "  0.042133431881666183,\n",
       "  0.03955124691128731,\n",
       "  0.03894282504916191,\n",
       "  0.03883535414934158,\n",
       "  0.037446796894073486,\n",
       "  0.03483404591679573,\n",
       "  0.034795019775629044,\n",
       "  0.035286564379930496,\n",
       "  0.03418561443686485,\n",
       "  0.03325794264674187,\n",
       "  0.033075932413339615,\n",
       "  0.033040035516023636,\n",
       "  0.03226239234209061,\n",
       "  0.0318317785859108,\n",
       "  0.03150483965873718,\n",
       "  0.03173718973994255],\n",
       " 'val_loss': [0.00291433441452682,\n",
       "  0.0021817446686327457,\n",
       "  0.0017715601716190577,\n",
       "  0.00141813769005239,\n",
       "  0.0018087364733219147,\n",
       "  0.0013890856644138694,\n",
       "  0.001227129134349525,\n",
       "  0.0012300513917580247,\n",
       "  0.0012090442469343543,\n",
       "  0.0010586926946416497,\n",
       "  0.001117686158977449,\n",
       "  0.0009687934652902186,\n",
       "  0.0010748790809884667,\n",
       "  0.0009196081082336605,\n",
       "  0.0008627385832369328,\n",
       "  0.0010180629324167967,\n",
       "  0.0009409423219040036,\n",
       "  0.0008884682902134955,\n",
       "  0.000843724119476974,\n",
       "  0.0008552944054827094],\n",
       " 'val_mae': [0.03736749663949013,\n",
       "  0.03257870301604271,\n",
       "  0.029115278273820877,\n",
       "  0.02608545497059822,\n",
       "  0.02920355461537838,\n",
       "  0.02526952512562275,\n",
       "  0.02359684556722641,\n",
       "  0.023595580831170082,\n",
       "  0.023095807060599327,\n",
       "  0.0215594619512558,\n",
       "  0.02204165607690811,\n",
       "  0.020141426473855972,\n",
       "  0.021757833659648895,\n",
       "  0.019567761570215225,\n",
       "  0.018871674314141273,\n",
       "  0.021480217576026917,\n",
       "  0.020254436880350113,\n",
       "  0.019692761823534966,\n",
       "  0.018942994996905327,\n",
       "  0.01929129846394062]}"
      ]
     },
     "execution_count": 118,
     "metadata": {},
     "output_type": "execute_result"
    }
   ],
   "source": [
    "modelfit.history"
   ]
  },
  {
   "cell_type": "markdown",
   "metadata": {
    "tags": []
   },
   "source": [
    "# 5. Results"
   ]
  },
  {
   "cell_type": "code",
   "execution_count": 119,
   "metadata": {},
   "outputs": [],
   "source": [
    "def plot_loss_accuracy(history, title=None):\n",
    "    fig, ax = plt.subplots(1,2, figsize=(20,7))\n",
    "\n",
    "    # --- LOSS --- \n",
    "\n",
    "    ax[0].plot(history.history['loss'])\n",
    "    ax[0].plot(history.history['val_loss'])\n",
    "\n",
    "    ax[0].set_title('Model loss')\n",
    "    ax[0].set_ylabel('Loss')\n",
    "    ax[0].set_xlabel('Epoch')\n",
    "\n",
    "    # ax[0].set_ylim((0,3))\n",
    "\n",
    "    ax[0].legend(['Train', 'Test'], loc='best')\n",
    "\n",
    "    ax[0].grid(axis=\"x\",linewidth=0.5)\n",
    "    ax[0].grid(axis=\"y\",linewidth=0.5)\n",
    "\n",
    "    # --- ACCURACY\n",
    "\n",
    "    ax[1].plot(history.history['mae'])\n",
    "    ax[1].plot(history.history['val_mae'])\n",
    "\n",
    "    ax[1].set_title('Model Accuracy')\n",
    "    ax[1].set_ylabel('MAE')\n",
    "    ax[1].set_xlabel('Epoch')\n",
    "\n",
    "    ax[1].legend(['Train', 'Test'], loc='best')\n",
    "\n",
    "    # ax[1].set_ylim((0,1))\n",
    "\n",
    "    ax[1].grid(axis=\"x\",linewidth=0.5)\n",
    "    ax[1].grid(axis=\"y\",linewidth=0.5)\n",
    "\n",
    "    if title:\n",
    "        fig.suptitle(title)"
   ]
  },
  {
   "cell_type": "code",
   "execution_count": 120,
   "metadata": {},
   "outputs": [
    {
     "data": {
      "image/png": "[encoded data removed]",
      "text/plain": [
       "<Figure size 2000x700 with 2 Axes>"
      ]
     },
     "metadata": {},
     "output_type": "display_data"
    }
   ],
   "source": [
    "plot_loss_accuracy(modelfit)"
   ]
  },
  {
   "cell_type": "code",
   "execution_count": 38,
   "metadata": {
    "colab": {
     "base_uri": "https://localhost:8080/",
     "height": 295
    },
    "id": "m5ilATOy1ZqE",
    "outputId": "e4f214de-dec9-4030-ff53-6677e7c18f87"
   },
   "outputs": [
    {
     "data": {
      "image/png": "[encoded data removed]",
      "text/plain": [
       "<Figure size 640x480 with 1 Axes>"
      ]
     },
     "metadata": {},
     "output_type": "display_data"
    }
   ],
   "source": [
    "# Plotting the training and validation loss during model training\n",
    "plt.plot(modelfit.history['loss'], 'r', linewidth=2, label='Training loss')\n",
    "plt.plot(modelfit.history['val_loss'], 'g', linewidth=2, label='Validation loss')\n",
    "\n",
    "# Set plot title and axis labels\n",
    "plt.title('LSTM Neural Networks - BTC Model')\n",
    "plt.xlabel('Epochs numbers')\n",
    "plt.ylabel('MSE numbers')\n",
    "\n",
    "# Display legend to distinguish between training and validation loss\n",
    "plt.legend()\n",
    "\n",
    "# Show the plot\n",
    "plt.show()\n"
   ]
  },
  {
   "cell_type": "code",
   "execution_count": 80,
   "metadata": {},
   "outputs": [
    {
     "data": {
      "text/plain": [
       "(175, 5, 5)"
      ]
     },
     "execution_count": 80,
     "metadata": {},
     "output_type": "execute_result"
    }
   ],
   "source": [
    "X_test.shape"
   ]
  },
  {
   "cell_type": "code",
   "execution_count": 95,
   "metadata": {},
   "outputs": [
    {
     "data": {
      "text/plain": [
       "Date\n",
       "2023-07-30    29281.09\n",
       "2023-07-31    29232.25\n",
       "2023-08-01    29705.99\n",
       "2023-08-02    29186.01\n",
       "2023-08-03    29193.64\n",
       "                ...   \n",
       "2023-10-28    34081.00\n",
       "2023-10-29    34525.89\n",
       "2023-10-30    34474.73\n",
       "2023-10-31    34639.77\n",
       "2023-11-01    35421.43\n",
       "Name: Close, Length: 95, dtype: float64"
      ]
     },
     "execution_count": 95,
     "metadata": {},
     "output_type": "execute_result"
    }
   ],
   "source": [
    "val_data[aim][window_len:]"
   ]
  },
  {
   "cell_type": "code",
   "execution_count": 96,
   "metadata": {
    "colab": {
     "base_uri": "https://localhost:8080/"
    },
    "id": "MyfyB5SA1saZ",
    "outputId": "da16ff40-07cf-4357-8e5f-861ce75ac98e"
   },
   "outputs": [
    {
     "name": "stdout",
     "output_type": "stream",
     "text": [
      "3/3 [==============================] - 0s 3ms/step\n"
     ]
    },
    {
     "data": {
      "text/plain": [
       "Date\n",
       "2023-07-30    29281.0\n",
       "2023-07-31    29232.0\n",
       "2023-08-01    29706.0\n",
       "2023-08-02    29186.0\n",
       "2023-08-03    29194.0\n",
       "               ...   \n",
       "2023-10-28    34081.0\n",
       "2023-10-29    34526.0\n",
       "2023-10-30    34475.0\n",
       "2023-10-31    34640.0\n",
       "2023-11-01    35421.0\n",
       "Name: Close, Length: 95, dtype: float64"
      ]
     },
     "execution_count": 96,
     "metadata": {},
     "output_type": "execute_result"
    }
   ],
   "source": [
    "# Extract the target values from the validation dataset\n",
    "targets = val_data[aim][window_len:]\n",
    "\n",
    "# Make predictions using the trained LSTM model on the validation data\n",
    "preds = model.predict(X_val).squeeze()\n",
    "\n",
    "# Calculate the Mean Absolute Error (MAE) between predictions and actual targets\n",
    "mae = mean_absolute_error(preds, y_val)\n",
    "\n",
    "# Display the actual target values\n",
    "targets.round()\n"
   ]
  },
  {
   "cell_type": "code",
   "execution_count": 100,
   "metadata": {
    "colab": {
     "base_uri": "https://localhost:8080/"
    },
    "id": "pJbbB0Ji1u3z",
    "outputId": "ececa6bb-84a9-4f39-ce98-c31d9a4bdc5f"
   },
   "outputs": [
    {
     "data": {
      "text/plain": [
       "795596957.1004397"
      ]
     },
     "execution_count": 100,
     "metadata": {},
     "output_type": "execute_result"
    }
   ],
   "source": [
    "# Calculate the Mean Squared Error (MSE) between predictions and actual targets\n",
    "SCORE_MSE = mean_squared_error(preds, y_val)\n",
    "\n",
    "# Display the calculated MSE score\n",
    "SCORE_MSE\n"
   ]
  },
  {
   "cell_type": "code",
   "execution_count": 101,
   "metadata": {
    "colab": {
     "base_uri": "https://localhost:8080/"
    },
    "id": "jYFWq3gI10a6",
    "outputId": "a9c0623e-b434-4962-8649-57a18d4efefb"
   },
   "outputs": [
    {
     "data": {
      "text/plain": [
       "-12842.675971350876"
      ]
     },
     "execution_count": 101,
     "metadata": {},
     "output_type": "execute_result"
    }
   ],
   "source": [
    "# Calculate the R-squared (R2) score between actual targets and predicted values\n",
    "r2_score = r2_score(y_val, preds)\n",
    "\n",
    "# Multiply the R2 score by 100 for percentage representation\n",
    "r2_score * 100\n"
   ]
  },
  {
   "cell_type": "code",
   "execution_count": 103,
   "metadata": {
    "colab": {
     "base_uri": "https://localhost:8080/",
     "height": 428
    },
    "id": "ICd7mlF_1861",
    "outputId": "7a04803a-8db1-4ec0-8300-088eb8f1b734"
   },
   "outputs": [
    {
     "data": {
      "image/png": "[encoded data removed]",
      "text/plain": [
       "<Figure size 1300x700 with 1 Axes>"
      ]
     },
     "metadata": {},
     "output_type": "display_data"
    }
   ],
   "source": [
    "# Generate final predictions by reversing the normalization process\n",
    "preds = val_data[aim].values[:-window_len] * (preds + 1)\n",
    "\n",
    "# Create a pandas Series with index and data for predictions\n",
    "preds = pd.Series(index=targets.index, data=preds)\n",
    "\n",
    "# Plotting the actual and predicted values\n",
    "line_plot(targets, preds, 'actual', 'prediction', lw=3)\n"
   ]
  },
  {
   "cell_type": "markdown",
   "metadata": {
    "jp-MarkdownHeadingCollapsed": true,
    "tags": []
   },
   "source": [
    "# 6. Preprocess Data for Binary Classification "
   ]
  },
  {
   "cell_type": "code",
   "execution_count": null,
   "metadata": {},
   "outputs": [],
   "source": [
    "# Assuming 'data' is the DataFrame containing time series data\n",
    "data['aim_binary'] = (data['Close'] > data['Close'].shift(1)).astype(int)\n",
    "\n",
    "# Drop NaN values introduced by the shift operation\n",
    "data = data.dropna()\n",
    "data.head()\n"
   ]
  },
  {
   "cell_type": "code",
   "execution_count": null,
   "metadata": {},
   "outputs": [],
   "source": [
    "# def prepare_data_binary(continuous, aim, window_len=10, zero_base=True, test_size=0.2):\n",
    "#     X_train = extract_window_data(train_data[continuous.columns], window_len, zero_base)\n",
    "#     X_test = extract_window_data(test_data[continuous.columns], window_len, zero_base)\n",
    "#     y_train = train_data[aim][window_len:].values\n",
    "#     y_test = test_data[aim][window_len:].values\n",
    "#     if zero_base:\n",
    "#         y_train = y_train / train_data[aim][:-window_len].values - 1\n",
    "#         y_test = y_test / test_data[aim][:-window_len].values - 1\n",
    "\n",
    "#     return train_data, test_data, X_train, X_test, y_train, y_test\n"
   ]
  },
  {
   "cell_type": "code",
   "execution_count": null,
   "metadata": {},
   "outputs": [],
   "source": [
    "# Prepare data for binary classification\n",
    "aim_binary = 'aim_binary'\n",
    "X_train, X_test, y_train, y_test = train_test_split(data.drop(columns=[aim_binary]), data[aim_binary], test_size=0.2, shuffle=False)\n"
   ]
  },
  {
   "cell_type": "markdown",
   "metadata": {
    "jp-MarkdownHeadingCollapsed": true,
    "tags": []
   },
   "source": [
    "# 7. Binary Classification Model"
   ]
  },
  {
   "cell_type": "code",
   "execution_count": null,
   "metadata": {},
   "outputs": [],
   "source": [
    "# Function to build a binary classification model\n",
    "def build_binary_classification_model(input_data, output_size, neurons, activ_func='sigmoid', dropout=0.3, loss='binary_crossentropy', optimizer='adam'):\n",
    "    model2 = Sequential()\n",
    "    # Assuming your time series data has only one feature (e.g., 'Close' column)\n",
    "    model2.add(LSTM(neurons, input_shape=(X_train.shape[1], 1)))  # Adjust the input shape\n",
    "    model2.add(Dropout(dropout))\n",
    "    model2.add(Dense(units=output_size))\n",
    "    model2.add(Activation(activ_func))\n",
    "    model2.compile(loss=loss, optimizer=optimizer, metrics=['accuracy'])\n",
    "    return model2\n"
   ]
  },
  {
   "cell_type": "code",
   "execution_count": null,
   "metadata": {},
   "outputs": [],
   "source": [
    "# Specify parameters for the binary classification model\n",
    "binary_lstm_neurons = 50\n",
    "binary_epochs = 20\n",
    "batch_size = 32\n"
   ]
  },
  {
   "cell_type": "code",
   "execution_count": null,
   "metadata": {},
   "outputs": [],
   "source": [
    "# Build the binary classification model\n",
    "binary_model = build_binary_classification_model(X_train, output_size=1, neurons=binary_lstm_neurons)\n",
    "\n",
    "# Train the binary classification model\n",
    "binary_modelfit = binary_model.fit(X_train, y_train, validation_data=(X_test, y_test), epochs=binary_epochs, batch_size=batch_size, verbose=1, shuffle=False)\n"
   ]
  },
  {
   "cell_type": "markdown",
   "metadata": {
    "jp-MarkdownHeadingCollapsed": true,
    "tags": []
   },
   "source": [
    "# 8. Binary Classification "
   ]
  },
  {
   "cell_type": "code",
   "execution_count": null,
   "metadata": {},
   "outputs": [],
   "source": [
    "# Plotting the training and validation loss during model training\n",
    "plt.plot(binary_modelfit.history['loss'], 'r', linewidth=2, label='Training loss')\n",
    "plt.plot(binary_modelfit.history['val_loss'], 'g', linewidth=2, label='Validation loss')\n",
    "\n",
    "# Set plot title and axis labels\n",
    "plt.title('LSTM Neural Networks - BTC Model')\n",
    "plt.xlabel('Epochs numbers')\n",
    "plt.ylabel('MSE numbers')\n",
    "\n",
    "# Display legend to distinguish between training and validation loss\n",
    "plt.legend()\n",
    "\n",
    "# Show the plot\n",
    "plt.show()\n"
   ]
  },
  {
   "cell_type": "code",
   "execution_count": null,
   "metadata": {
    "tags": []
   },
   "outputs": [],
   "source": [
    "# Make predictions using the trained binary classification model on the test data\n",
    "binary_preds = (binary_model.predict(X_test) > 0.5).astype(int)\n",
    "\n",
    "# Extract the binary target values from the test dataset\n",
    "binary_targets = y_test.astype(int)\n",
    "\n",
    "# Display the actual binary target values\n",
    "print(\"Actual Binary Targets:\")\n",
    "print(binary_targets)\n",
    "\n",
    "# Display the predicted binary target values\n",
    "print(\"Predicted Binary Targets:\")\n",
    "print(binary_preds)\n"
   ]
  },
  {
   "cell_type": "code",
   "execution_count": null,
   "metadata": {},
   "outputs": [],
   "source": [
    "# Evaluate the binary classification model\n",
    "binary_preds = (binary_model.predict(X_test) > 0.5).astype(int)\n",
    "accuracy = accuracy_score(y_test, binary_preds)\n",
    "print(f'Accuracy: {accuracy}')\n"
   ]
  }
 ],
 "metadata": {
  "colab": {
   "name": "Untitled11.ipynb",
   "provenance": [],
   "toc_visible": true
  },
  "kernelspec": {
   "display_name": "Python 3 (ipykernel)",
   "language": "python",
   "name": "python3"
  },
  "language_info": {
   "codemirror_mode": {
    "name": "ipython",
    "version": 3
   },
   "file_extension": ".py",
   "mimetype": "text/x-python",
   "name": "python",
   "nbconvert_exporter": "python",
   "pygments_lexer": "ipython3",
   "version": "3.10.6"
  },
  "toc": {
   "base_numbering": 1,
   "nav_menu": {},
   "number_sections": true,
   "sideBar": true,
   "skip_h1_title": false,
   "title_cell": "Table of Contents",
   "title_sidebar": "Contents",
   "toc_cell": false,
   "toc_position": {},
   "toc_section_display": true,
   "toc_window_display": false
  }
 },
 "nbformat": 4,
 "nbformat_minor": 4
}
