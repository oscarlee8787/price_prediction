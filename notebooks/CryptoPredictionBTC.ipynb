{
 "cells": [
  {
   "cell_type": "markdown",
   "metadata": {},
   "source": [
    "# 1. Download Training Data"
   ]
  },
  {
   "cell_type": "code",
   "execution_count": 1,
   "metadata": {},
   "outputs": [],
   "source": [
    "# import libraries\n",
    "import numpy as np\n",
    "import pandas as pd\n",
    "import requests"
   ]
  },
  {
   "cell_type": "code",
   "execution_count": 2,
   "metadata": {
    "tags": []
   },
   "outputs": [],
   "source": [
    "# Connect to Binance api to download training data, no need for keys or authentication, \n",
    "# but only accessible from physical machines(does not work on Google Cloud)\n",
    "\n",
    "root_url = 'https://api.binance.com/api/v3/'\n",
    "\n",
    "check_url = root_url + 'ping'\n",
    "\n",
    "if requests.get(check_url).ok != True:\n",
    "    print('!= 200')\n"
   ]
  },
  {
   "cell_type": "code",
   "execution_count": 32,
   "metadata": {},
   "outputs": [],
   "source": [
    "# set api parameters including trading pairs, intervals, and desired timeframes\n",
    "\n",
    "symbol = 'BTCUSDT' # 'BTCUSDT', 'ETHUSDT', etc.\n",
    "\n",
    "interval = '1d' # '1m', '1h', '1d'\n",
    "\n",
    "kline_url = root_url + 'klines'\n",
    "\n",
    "params = {'interval':interval,\n",
    "          'symbol':symbol,\n",
    "          'endTime':1698796800000,\n",
    "          #'limit':5 # Binance default: 500, max: 1000\n",
    "         }"
   ]
  },
  {
   "cell_type": "code",
   "execution_count": 33,
   "metadata": {
    "tags": []
   },
   "outputs": [],
   "source": [
    "# get api data as json\n",
    "\n",
    "if requests.get(url=kline_url, params=params).ok != True:\n",
    "    print('Issue with Binance kline API connectivity, did not fetch data')\n",
    "\n",
    "api_data = requests.get(url=kline_url, params=params).json()"
   ]
  },
  {
   "cell_type": "code",
   "execution_count": 34,
   "metadata": {
    "tags": []
   },
   "outputs": [],
   "source": [
    "# save json to dataframe\n",
    "\n",
    "df = pd.DataFrame(api_data)\n",
    "df.columns = ['Date', 'Open', 'High', 'Low', 'Close', 'Volume',\n",
    "          'k_close_time', 'quote_asset_volume', 'num_trades',\n",
    "          'taker_base_vol', 'taker_quote_vol', 'ignore']"
   ]
  },
  {
   "cell_type": "code",
   "execution_count": 35,
   "metadata": {
    "tags": []
   },
   "outputs": [],
   "source": [
    "# use for loop to overcome Binance api max limit of 1000 rows per call\n",
    "\n",
    "for i in range(1):\n",
    "    prev = df['Date'][0]\n",
    "    # url_next = url + '&endTime=' + str(prev)\n",
    "    params['endTime'] = str(prev)\n",
    "    next_data = requests.get(url=kline_url, params=params).json()\n",
    "    df_next = pd.DataFrame(next_data)\n",
    "    df_next.columns = ['Date', 'Open', 'High', 'Low', 'Close', 'Volume',\n",
    "          'k_close_time', 'quote_asset_volume', 'num_trades',\n",
    "          'taker_base_vol', 'taker_quote_vol', 'ignore']\n",
    "    df = pd.concat([df_next, df]).drop_duplicates()\n"
   ]
  },
  {
   "cell_type": "code",
   "execution_count": 36,
   "metadata": {},
   "outputs": [],
   "source": [
    "for col in ['Open', 'High', 'Low', 'Close', 'Volume',\n",
    "            'quote_asset_volume', 'num_trades',\n",
    "            'taker_base_vol', 'taker_quote_vol', 'ignore']:\n",
    "    df[col] = df[col].astype(float)\n",
    "    \n",
    "df['Date'] = pd.to_datetime(df['Date'],unit='ms')"
   ]
  },
  {
   "cell_type": "code",
   "execution_count": 37,
   "metadata": {},
   "outputs": [
    {
     "data": {
      "text/html": [
       "<div>\n",
       "<style scoped>\n",
       "    .dataframe tbody tr th:only-of-type {\n",
       "        vertical-align: middle;\n",
       "    }\n",
       "\n",
       "    .dataframe tbody tr th {\n",
       "        vertical-align: top;\n",
       "    }\n",
       "\n",
       "    .dataframe thead th {\n",
       "        text-align: right;\n",
       "    }\n",
       "</style>\n",
       "<table border=\"1\" class=\"dataframe\">\n",
       "  <thead>\n",
       "    <tr style=\"text-align: right;\">\n",
       "      <th></th>\n",
       "      <th>Date</th>\n",
       "      <th>Open</th>\n",
       "      <th>High</th>\n",
       "      <th>Low</th>\n",
       "      <th>Close</th>\n",
       "      <th>Volume</th>\n",
       "      <th>k_close_time</th>\n",
       "      <th>quote_asset_volume</th>\n",
       "      <th>num_trades</th>\n",
       "      <th>taker_base_vol</th>\n",
       "      <th>taker_quote_vol</th>\n",
       "      <th>ignore</th>\n",
       "    </tr>\n",
       "  </thead>\n",
       "  <tbody>\n",
       "    <tr>\n",
       "      <th>0</th>\n",
       "      <td>2021-02-06</td>\n",
       "      <td>38289.32</td>\n",
       "      <td>40955.51</td>\n",
       "      <td>38215.94</td>\n",
       "      <td>39186.94</td>\n",
       "      <td>98757.311183</td>\n",
       "      <td>1612655999999</td>\n",
       "      <td>3.922095e+09</td>\n",
       "      <td>2291646.0</td>\n",
       "      <td>52015.513362</td>\n",
       "      <td>2.065181e+09</td>\n",
       "      <td>0.0</td>\n",
       "    </tr>\n",
       "    <tr>\n",
       "      <th>1</th>\n",
       "      <td>2021-02-07</td>\n",
       "      <td>39181.01</td>\n",
       "      <td>39700.00</td>\n",
       "      <td>37351.00</td>\n",
       "      <td>38795.69</td>\n",
       "      <td>84363.679763</td>\n",
       "      <td>1612742399999</td>\n",
       "      <td>3.256521e+09</td>\n",
       "      <td>1976357.0</td>\n",
       "      <td>40764.388959</td>\n",
       "      <td>1.574483e+09</td>\n",
       "      <td>0.0</td>\n",
       "    </tr>\n",
       "    <tr>\n",
       "      <th>2</th>\n",
       "      <td>2021-02-08</td>\n",
       "      <td>38795.69</td>\n",
       "      <td>46794.45</td>\n",
       "      <td>37988.89</td>\n",
       "      <td>46374.87</td>\n",
       "      <td>138597.536914</td>\n",
       "      <td>1612828799999</td>\n",
       "      <td>5.881537e+09</td>\n",
       "      <td>3230961.0</td>\n",
       "      <td>72345.891568</td>\n",
       "      <td>3.069314e+09</td>\n",
       "      <td>0.0</td>\n",
       "    </tr>\n",
       "    <tr>\n",
       "      <th>3</th>\n",
       "      <td>2021-02-09</td>\n",
       "      <td>46374.86</td>\n",
       "      <td>48142.19</td>\n",
       "      <td>44961.09</td>\n",
       "      <td>46420.42</td>\n",
       "      <td>115499.861712</td>\n",
       "      <td>1612915199999</td>\n",
       "      <td>5.386255e+09</td>\n",
       "      <td>3119034.0</td>\n",
       "      <td>57429.564347</td>\n",
       "      <td>2.679451e+09</td>\n",
       "      <td>0.0</td>\n",
       "    </tr>\n",
       "    <tr>\n",
       "      <th>4</th>\n",
       "      <td>2021-02-10</td>\n",
       "      <td>46420.42</td>\n",
       "      <td>47310.00</td>\n",
       "      <td>43727.00</td>\n",
       "      <td>44807.58</td>\n",
       "      <td>97154.182200</td>\n",
       "      <td>1613001599999</td>\n",
       "      <td>4.431650e+09</td>\n",
       "      <td>2891592.0</td>\n",
       "      <td>47971.985731</td>\n",
       "      <td>2.190231e+09</td>\n",
       "      <td>0.0</td>\n",
       "    </tr>\n",
       "    <tr>\n",
       "      <th>...</th>\n",
       "      <td>...</td>\n",
       "      <td>...</td>\n",
       "      <td>...</td>\n",
       "      <td>...</td>\n",
       "      <td>...</td>\n",
       "      <td>...</td>\n",
       "      <td>...</td>\n",
       "      <td>...</td>\n",
       "      <td>...</td>\n",
       "      <td>...</td>\n",
       "      <td>...</td>\n",
       "      <td>...</td>\n",
       "    </tr>\n",
       "    <tr>\n",
       "      <th>495</th>\n",
       "      <td>2023-10-28</td>\n",
       "      <td>33892.01</td>\n",
       "      <td>34493.33</td>\n",
       "      <td>33860.00</td>\n",
       "      <td>34081.00</td>\n",
       "      <td>16880.131440</td>\n",
       "      <td>1698537599999</td>\n",
       "      <td>5.759365e+08</td>\n",
       "      <td>607438.0</td>\n",
       "      <td>8313.307590</td>\n",
       "      <td>2.836566e+08</td>\n",
       "      <td>0.0</td>\n",
       "    </tr>\n",
       "    <tr>\n",
       "      <th>496</th>\n",
       "      <td>2023-10-29</td>\n",
       "      <td>34081.01</td>\n",
       "      <td>34750.11</td>\n",
       "      <td>33930.00</td>\n",
       "      <td>34525.89</td>\n",
       "      <td>20685.521760</td>\n",
       "      <td>1698623999999</td>\n",
       "      <td>7.116530e+08</td>\n",
       "      <td>717480.0</td>\n",
       "      <td>10053.960960</td>\n",
       "      <td>3.459337e+08</td>\n",
       "      <td>0.0</td>\n",
       "    </tr>\n",
       "    <tr>\n",
       "      <th>497</th>\n",
       "      <td>2023-10-30</td>\n",
       "      <td>34525.88</td>\n",
       "      <td>34856.00</td>\n",
       "      <td>34062.84</td>\n",
       "      <td>34474.73</td>\n",
       "      <td>33657.959760</td>\n",
       "      <td>1698710399999</td>\n",
       "      <td>1.159772e+09</td>\n",
       "      <td>1117727.0</td>\n",
       "      <td>15237.567810</td>\n",
       "      <td>5.251622e+08</td>\n",
       "      <td>0.0</td>\n",
       "    </tr>\n",
       "    <tr>\n",
       "      <th>498</th>\n",
       "      <td>2023-10-31</td>\n",
       "      <td>34474.74</td>\n",
       "      <td>34720.49</td>\n",
       "      <td>34025.00</td>\n",
       "      <td>34639.77</td>\n",
       "      <td>32737.898220</td>\n",
       "      <td>1698796799999</td>\n",
       "      <td>1.125442e+09</td>\n",
       "      <td>1179053.0</td>\n",
       "      <td>15843.795000</td>\n",
       "      <td>5.447229e+08</td>\n",
       "      <td>0.0</td>\n",
       "    </tr>\n",
       "    <tr>\n",
       "      <th>499</th>\n",
       "      <td>2023-11-01</td>\n",
       "      <td>34639.78</td>\n",
       "      <td>35582.00</td>\n",
       "      <td>34097.39</td>\n",
       "      <td>35421.43</td>\n",
       "      <td>53473.281650</td>\n",
       "      <td>1698883199999</td>\n",
       "      <td>1.856349e+09</td>\n",
       "      <td>1624635.0</td>\n",
       "      <td>25779.002900</td>\n",
       "      <td>8.953879e+08</td>\n",
       "      <td>0.0</td>\n",
       "    </tr>\n",
       "  </tbody>\n",
       "</table>\n",
       "<p>999 rows × 12 columns</p>\n",
       "</div>"
      ],
      "text/plain": [
       "          Date      Open      High       Low     Close         Volume  \\\n",
       "0   2021-02-06  38289.32  40955.51  38215.94  39186.94   98757.311183   \n",
       "1   2021-02-07  39181.01  39700.00  37351.00  38795.69   84363.679763   \n",
       "2   2021-02-08  38795.69  46794.45  37988.89  46374.87  138597.536914   \n",
       "3   2021-02-09  46374.86  48142.19  44961.09  46420.42  115499.861712   \n",
       "4   2021-02-10  46420.42  47310.00  43727.00  44807.58   97154.182200   \n",
       "..         ...       ...       ...       ...       ...            ...   \n",
       "495 2023-10-28  33892.01  34493.33  33860.00  34081.00   16880.131440   \n",
       "496 2023-10-29  34081.01  34750.11  33930.00  34525.89   20685.521760   \n",
       "497 2023-10-30  34525.88  34856.00  34062.84  34474.73   33657.959760   \n",
       "498 2023-10-31  34474.74  34720.49  34025.00  34639.77   32737.898220   \n",
       "499 2023-11-01  34639.78  35582.00  34097.39  35421.43   53473.281650   \n",
       "\n",
       "      k_close_time  quote_asset_volume  num_trades  taker_base_vol  \\\n",
       "0    1612655999999        3.922095e+09   2291646.0    52015.513362   \n",
       "1    1612742399999        3.256521e+09   1976357.0    40764.388959   \n",
       "2    1612828799999        5.881537e+09   3230961.0    72345.891568   \n",
       "3    1612915199999        5.386255e+09   3119034.0    57429.564347   \n",
       "4    1613001599999        4.431650e+09   2891592.0    47971.985731   \n",
       "..             ...                 ...         ...             ...   \n",
       "495  1698537599999        5.759365e+08    607438.0     8313.307590   \n",
       "496  1698623999999        7.116530e+08    717480.0    10053.960960   \n",
       "497  1698710399999        1.159772e+09   1117727.0    15237.567810   \n",
       "498  1698796799999        1.125442e+09   1179053.0    15843.795000   \n",
       "499  1698883199999        1.856349e+09   1624635.0    25779.002900   \n",
       "\n",
       "     taker_quote_vol  ignore  \n",
       "0       2.065181e+09     0.0  \n",
       "1       1.574483e+09     0.0  \n",
       "2       3.069314e+09     0.0  \n",
       "3       2.679451e+09     0.0  \n",
       "4       2.190231e+09     0.0  \n",
       "..               ...     ...  \n",
       "495     2.836566e+08     0.0  \n",
       "496     3.459337e+08     0.0  \n",
       "497     5.251622e+08     0.0  \n",
       "498     5.447229e+08     0.0  \n",
       "499     8.953879e+08     0.0  \n",
       "\n",
       "[999 rows x 12 columns]"
      ]
     },
     "execution_count": 37,
     "metadata": {},
     "output_type": "execute_result"
    }
   ],
   "source": [
    "df"
   ]
  },
  {
   "cell_type": "code",
   "execution_count": 38,
   "metadata": {},
   "outputs": [],
   "source": [
    "# saving to csv\n",
    "\n",
    "filename = f'{symbol}_{interval}.csv'\n",
    "df.to_csv(f'../raw_data/{filename}')"
   ]
  },
  {
   "cell_type": "code",
   "execution_count": null,
   "metadata": {},
   "outputs": [],
   "source": []
  },
  {
   "cell_type": "markdown",
   "metadata": {},
   "source": [
    "# 2. Load Data & Packages"
   ]
  },
  {
   "cell_type": "code",
   "execution_count": 39,
   "metadata": {
    "id": "Bk2m_4TChMIS"
   },
   "outputs": [],
   "source": [
    "# Import libraries\n",
    "from tensorflow.keras.models import Sequential\n",
    "from tensorflow.keras.layers import Activation, Dense, Dropout, LSTM\n",
    "import matplotlib.pyplot as plt\n",
    "import numpy as np\n",
    "import pandas as pd\n",
    "from sklearn.metrics import mean_absolute_error, mean_squared_error,  r2_score, accuracy_score\n",
    "from sklearn.model_selection import train_test_split\n"
   ]
  },
  {
   "cell_type": "code",
   "execution_count": 46,
   "metadata": {
    "colab": {
     "base_uri": "https://localhost:8080/"
    },
    "id": "rqsutzJBwjS_",
    "outputId": "e7c3f28d-b281-4e29-da14-493ed67e5da3"
   },
   "outputs": [],
   "source": [
    "# Read data from the CSV file into a DataFrame\n",
    "data = pd.read_csv(\"../raw_data/BTCUSDT_1d.csv\")\n",
    "\n",
    "# Select specific columns from the DataFrame\n",
    "data = data.loc[:,['Date','Open','High','Low','Close','Volume']]"
   ]
  },
  {
   "cell_type": "code",
   "execution_count": 47,
   "metadata": {
    "colab": {
     "base_uri": "https://localhost:8080/"
    },
    "id": "HCWV-p6b-xmS",
    "outputId": "47fbcadf-5964-47cc-f26d-a9fb5ccd140f"
   },
   "outputs": [
    {
     "data": {
      "text/html": [
       "<div>\n",
       "<style scoped>\n",
       "    .dataframe tbody tr th:only-of-type {\n",
       "        vertical-align: middle;\n",
       "    }\n",
       "\n",
       "    .dataframe tbody tr th {\n",
       "        vertical-align: top;\n",
       "    }\n",
       "\n",
       "    .dataframe thead th {\n",
       "        text-align: right;\n",
       "    }\n",
       "</style>\n",
       "<table border=\"1\" class=\"dataframe\">\n",
       "  <thead>\n",
       "    <tr style=\"text-align: right;\">\n",
       "      <th></th>\n",
       "      <th>Open</th>\n",
       "      <th>High</th>\n",
       "      <th>Low</th>\n",
       "      <th>Close</th>\n",
       "      <th>Volume</th>\n",
       "    </tr>\n",
       "    <tr>\n",
       "      <th>Date</th>\n",
       "      <th></th>\n",
       "      <th></th>\n",
       "      <th></th>\n",
       "      <th></th>\n",
       "      <th></th>\n",
       "    </tr>\n",
       "  </thead>\n",
       "  <tbody>\n",
       "    <tr>\n",
       "      <th>2021-02-06</th>\n",
       "      <td>38289.32</td>\n",
       "      <td>40955.51</td>\n",
       "      <td>38215.94</td>\n",
       "      <td>39186.94</td>\n",
       "      <td>98757.311183</td>\n",
       "    </tr>\n",
       "    <tr>\n",
       "      <th>2021-02-07</th>\n",
       "      <td>39181.01</td>\n",
       "      <td>39700.00</td>\n",
       "      <td>37351.00</td>\n",
       "      <td>38795.69</td>\n",
       "      <td>84363.679763</td>\n",
       "    </tr>\n",
       "    <tr>\n",
       "      <th>2021-02-08</th>\n",
       "      <td>38795.69</td>\n",
       "      <td>46794.45</td>\n",
       "      <td>37988.89</td>\n",
       "      <td>46374.87</td>\n",
       "      <td>138597.536914</td>\n",
       "    </tr>\n",
       "    <tr>\n",
       "      <th>2021-02-09</th>\n",
       "      <td>46374.86</td>\n",
       "      <td>48142.19</td>\n",
       "      <td>44961.09</td>\n",
       "      <td>46420.42</td>\n",
       "      <td>115499.861712</td>\n",
       "    </tr>\n",
       "    <tr>\n",
       "      <th>2021-02-10</th>\n",
       "      <td>46420.42</td>\n",
       "      <td>47310.00</td>\n",
       "      <td>43727.00</td>\n",
       "      <td>44807.58</td>\n",
       "      <td>97154.182200</td>\n",
       "    </tr>\n",
       "    <tr>\n",
       "      <th>...</th>\n",
       "      <td>...</td>\n",
       "      <td>...</td>\n",
       "      <td>...</td>\n",
       "      <td>...</td>\n",
       "      <td>...</td>\n",
       "    </tr>\n",
       "    <tr>\n",
       "      <th>2023-10-28</th>\n",
       "      <td>33892.01</td>\n",
       "      <td>34493.33</td>\n",
       "      <td>33860.00</td>\n",
       "      <td>34081.00</td>\n",
       "      <td>16880.131440</td>\n",
       "    </tr>\n",
       "    <tr>\n",
       "      <th>2023-10-29</th>\n",
       "      <td>34081.01</td>\n",
       "      <td>34750.11</td>\n",
       "      <td>33930.00</td>\n",
       "      <td>34525.89</td>\n",
       "      <td>20685.521760</td>\n",
       "    </tr>\n",
       "    <tr>\n",
       "      <th>2023-10-30</th>\n",
       "      <td>34525.88</td>\n",
       "      <td>34856.00</td>\n",
       "      <td>34062.84</td>\n",
       "      <td>34474.73</td>\n",
       "      <td>33657.959760</td>\n",
       "    </tr>\n",
       "    <tr>\n",
       "      <th>2023-10-31</th>\n",
       "      <td>34474.74</td>\n",
       "      <td>34720.49</td>\n",
       "      <td>34025.00</td>\n",
       "      <td>34639.77</td>\n",
       "      <td>32737.898220</td>\n",
       "    </tr>\n",
       "    <tr>\n",
       "      <th>2023-11-01</th>\n",
       "      <td>34639.78</td>\n",
       "      <td>35582.00</td>\n",
       "      <td>34097.39</td>\n",
       "      <td>35421.43</td>\n",
       "      <td>53473.281650</td>\n",
       "    </tr>\n",
       "  </tbody>\n",
       "</table>\n",
       "<p>999 rows × 5 columns</p>\n",
       "</div>"
      ],
      "text/plain": [
       "                Open      High       Low     Close         Volume\n",
       "Date                                                             \n",
       "2021-02-06  38289.32  40955.51  38215.94  39186.94   98757.311183\n",
       "2021-02-07  39181.01  39700.00  37351.00  38795.69   84363.679763\n",
       "2021-02-08  38795.69  46794.45  37988.89  46374.87  138597.536914\n",
       "2021-02-09  46374.86  48142.19  44961.09  46420.42  115499.861712\n",
       "2021-02-10  46420.42  47310.00  43727.00  44807.58   97154.182200\n",
       "...              ...       ...       ...       ...            ...\n",
       "2023-10-28  33892.01  34493.33  33860.00  34081.00   16880.131440\n",
       "2023-10-29  34081.01  34750.11  33930.00  34525.89   20685.521760\n",
       "2023-10-30  34525.88  34856.00  34062.84  34474.73   33657.959760\n",
       "2023-10-31  34474.74  34720.49  34025.00  34639.77   32737.898220\n",
       "2023-11-01  34639.78  35582.00  34097.39  35421.43   53473.281650\n",
       "\n",
       "[999 rows x 5 columns]"
      ]
     },
     "execution_count": 47,
     "metadata": {},
     "output_type": "execute_result"
    }
   ],
   "source": [
    "# Set the 'Date' column as the index of the DataFrame\n",
    "data = data.set_index('Date')\n",
    "\n",
    "data"
   ]
  },
  {
   "cell_type": "markdown",
   "metadata": {},
   "source": [
    "# 3. Preprocess Data"
   ]
  },
  {
   "cell_type": "code",
   "execution_count": 48,
   "metadata": {
    "id": "fExReGBJz_qo"
   },
   "outputs": [],
   "source": [
    "#Set the Target column\n",
    "aim = 'Close'"
   ]
  },
  {
   "cell_type": "code",
   "execution_count": 49,
   "metadata": {
    "id": "TBA-1zdMztBG"
   },
   "outputs": [],
   "source": [
    "# 90-10 validation split\n",
    "val_split_index = int(len(data) * 0.9)\n",
    "val_data = data.iloc[val_split_index:]\n",
    "available_data = data.iloc[:val_split_index]\n",
    "\n",
    "# 80-20 validation split\n",
    "split_index = int(len(available_data) * 0.8)\n",
    "train_data = available_data.iloc[:split_index]\n",
    "test_data = available_data.iloc[split_index:]\n",
    "\n",
    "\n",
    "def line_plot(line1, line2, label1=None, label2=None, title='', lw=2):\n",
    "    \"\"\"\n",
    "    Create a line plot with two lines.\n",
    "    Parameters:\n",
    "    - line1 (array-like): Data for the first line.\n",
    "    - line2 (array-like): Data for the second line.\n",
    "    - label1 (str, optional): Label for the first line (default is None).\n",
    "    - label2 (str, optional): Label for the second line (default is None).\n",
    "    - title (str, optional): Title of the plot (default is an empty string).\n",
    "    - lw (int, optional): Line width for both lines (default is 2).\n",
    "    \"\"\"\n",
    "    # Create a subplot with specified size\n",
    "    fig, ax = plt.subplots(1, figsize=(13, 7))\n",
    "\n",
    "    # Plot the first line with its label\n",
    "    ax.plot(line1, label=label1, linewidth=lw)\n",
    "\n",
    "    # Plot the second line with its label\n",
    "    ax.plot(line2, label=label2, linewidth=lw)\n",
    "\n",
    "    # Set y-axis label\n",
    "    ax.set_ylabel('BTC/USDT', fontsize=14)\n",
    "\n",
    "    # Set the title\n",
    "    ax.set_title(title, fontsize=16)\n",
    "\n",
    "    # Add a legend at the best location with the specified font size\n",
    "    ax.legend(loc='best', fontsize=16)\n",
    "\n",
    "    # Display the plot\n",
    "    plt.show()\n"
   ]
  },
  {
   "cell_type": "code",
   "execution_count": 50,
   "metadata": {},
   "outputs": [
    {
     "data": {
      "image/png": "[encoded data removed]",
      "text/plain": [
       "<Figure size 1300x700 with 1 Axes>"
      ]
     },
     "metadata": {},
     "output_type": "display_data"
    }
   ],
   "source": [
    "# Plotting the training and testing data for the 'Close' column\n",
    "line_plot(train_data[aim], test_data[aim], label1='Train', label2='Test', title='Data Split')\n"
   ]
  },
  {
   "cell_type": "code",
   "execution_count": 51,
   "metadata": {
    "id": "lQi8Ho8g0V7E"
   },
   "outputs": [],
   "source": [
    "# Function to normalize a continuous variable to a zero-base scale\n",
    "def normalise_zero_base(continuous):\n",
    "    \"\"\"\n",
    "    Normalize a continuous variable to a zero-base scale.\n",
    "    Parameters:\n",
    "    - continuous (pandas.Series): The continuous variable to be normalized.\n",
    "    Returns:\n",
    "    - pandas.Series: The normalized continuous variable.\n",
    "    \"\"\"\n",
    "    # Normalize by dividing each value by the first value and subtracting 1\n",
    "    return continuous / continuous.iloc[0] - 1\n",
    "\n",
    "\n",
    "# Function to normalize a continuous variable to a min-max scale\n",
    "def normalise_min_max(continuous):\n",
    "    \"\"\"\n",
    "    Normalize a continuous variable to a min-max scale.\n",
    "    Parameters:\n",
    "    - continuous (pandas.Series): The continuous variable to be normalized.\n",
    "    Returns:\n",
    "    - pandas.Series: The normalized continuous variable.\n",
    "    \"\"\"\n",
    "    # Normalize using min-max scaling formula\n",
    "    return (continuous - continuous.min()) / (continuous.max() - continuous.min())\n"
   ]
  },
  {
   "cell_type": "code",
   "execution_count": 52,
   "metadata": {
    "id": "4knpG9Nn0vV1"
   },
   "outputs": [],
   "source": [
    "# Function to extract windowed data from a continuous variable\n",
    "def extract_window_data(continuous, window_len=5, zero_base=True):\n",
    "    \"\"\"\n",
    "    Extract windowed data from a continuous variable.\n",
    "    Parameters:\n",
    "    - continuous (pandas.Series): The continuous variable to extract windows from.\n",
    "    - window_len (int, optional): The length of each window (default is 5).\n",
    "    - zero_base (bool, optional): Whether to normalize each window to a zero-base scale (default is True).\n",
    "    Returns:\n",
    "    - numpy.ndarray: Array of windowed data.\n",
    "    Example:\n",
    "    >>> windowed_data = extract_window_data(data['Close'], window_len=10, zero_base=True)\n",
    "    \"\"\"\n",
    "    # Initialize an empty list to store windowed data\n",
    "    window_data = []\n",
    "\n",
    "    # Iterate over the continuous variable to extract windows\n",
    "    for idx in range(len(continuous) - window_len):\n",
    "        # Extract a window of data\n",
    "        tmp = continuous[idx: (idx + window_len)].copy()\n",
    "\n",
    "        # Normalize the window to a zero-base scale if specified\n",
    "        if zero_base:\n",
    "            tmp = normalise_zero_base(tmp)\n",
    "\n",
    "        # Append the window data to the list\n",
    "        window_data.append(tmp.values)\n",
    "\n",
    "    # Convert the list of windowed data to a numpy array\n",
    "    return np.array(window_data)\n"
   ]
  },
  {
   "cell_type": "code",
   "execution_count": 53,
   "metadata": {},
   "outputs": [],
   "source": [
    "# Function to prepare data for time series analysis\n",
    "def prepare_data(continuous, aim, window_len=10, zero_base=True, test_size=0.2):\n",
    "    \"\"\"\n",
    "    Prepare data for time series analysis.\n",
    "    Parameters:\n",
    "    - continuous (pandas.Series): The continuous variable for time series analysis.\n",
    "    - aim (str): The target variable to predict.\n",
    "    - window_len (int, optional): The length of each window (default is 10).\n",
    "    - zero_base (bool, optional): Whether to normalize each window to a zero-base scale (default is True).\n",
    "    - test_size (float, optional): The proportion of data to be used as the test set (default is 0.2).\n",
    "    Returns:\n",
    "    - tuple: A tuple containing train_data, test_data, X_train, X_test, y_train, y_test.\n",
    "    \"\"\"\n",
    "    # Extract windowed data for training and testing sets\n",
    "    X_train = extract_window_data(train_data, window_len, zero_base)\n",
    "    X_test = extract_window_data(test_data, window_len, zero_base)\n",
    "\n",
    "    # Extract target variable for training and testing sets\n",
    "    y_train = train_data[aim][window_len:].values\n",
    "    y_test = test_data[aim][window_len:].values\n",
    "\n",
    "    # Normalize the target variable to a zero-base scale if specified\n",
    "    if zero_base:\n",
    "        y_train = y_train / train_data[aim][:-window_len].values - 1\n",
    "        y_test = y_test / test_data[aim][:-window_len].values - 1\n",
    "\n",
    "    # Return the prepared data\n",
    "    return train_data, test_data, X_train, X_test, y_train, y_test\n"
   ]
  },
  {
   "cell_type": "markdown",
   "metadata": {},
   "source": [
    "# 4. LSTM Model"
   ]
  },
  {
   "cell_type": "code",
   "execution_count": 54,
   "metadata": {},
   "outputs": [],
   "source": [
    "# Function to build an LSTM (Long Short-Term Memory) model# Function to build an LSTM (Long Short-Term Memory) model\n",
    "def build_lstm_model(input_data, output_size, neurons, activ_func='linear',\n",
    "                     dropout=0.2, loss='mse', optimizer='adam'):\n",
    "    \"\"\"\n",
    "    Build an LSTM (Long Short-Term Memory) model.\n",
    "    Parameters:\n",
    "    - input_data (numpy.ndarray): The input data for the model.\n",
    "    - output_size (int): The size of the output layer.\n",
    "    - neurons (int): The number of neurons in the LSTM layer.\n",
    "    - activ_func (str, optional): Activation function for the output layer (default is 'linear').\n",
    "    - dropout (float, optional): Dropout rate to prevent overfitting (default is 0.2).\n",
    "    - loss (str, optional): Loss function for model training (default is 'mse' - Mean Squared Error).\n",
    "    - optimizer (str, optional): Optimization algorithm for model training (default is 'adam').\n",
    "    Returns:\n",
    "    - tensorflow.keras.models.Sequential: The constructed LSTM model.\n",
    "    \"\"\"\n",
    "    # Create a Sequential model\n",
    "    model = Sequential()\n",
    "\n",
    "    # Add an LSTM layer with the specified number of neurons and input shape\n",
    "    model.add(LSTM(neurons, input_shape=(input_data.shape[1], input_data.shape[2])))\n",
    "\n",
    "    # Add a Dropout layer to prevent overfitting\n",
    "    model.add(Dropout(dropout))\n",
    "\n",
    "    # Add a Dense layer with the specified number of units\n",
    "    model.add(Dense(units=output_size))\n",
    "\n",
    "    # Add an Activation layer with the specified activation function\n",
    "    model.add(Activation(activ_func))\n",
    "\n",
    "    # Compile the model with the specified loss function and optimizer\n",
    "    model.compile(loss=loss, optimizer=optimizer)\n",
    "\n",
    "    # Return the constructed LSTM model\n",
    "    return model\n"
   ]
  },
  {
   "cell_type": "code",
   "execution_count": 55,
   "metadata": {
    "id": "wdEmnpEz01dg"
   },
   "outputs": [],
   "source": [
    "# Define parameters for data preparation and LSTM model\n",
    "window_len = 5\n",
    "test_size = 0.2\n",
    "zero_base = True\n",
    "lstm_neurons = 50\n",
    "epochs = 20\n",
    "batch_size = 32\n",
    "loss = 'mse'\n",
    "dropout = 0.24\n",
    "optimizer = 'adam'\n",
    "output_size = 1\n",
    "\n",
    "# Prepare data for time series analysis\n",
    "train_data, test_data, X_train, X_test, y_train, y_test = prepare_data(\n",
    "    available_data, aim, window_len=window_len, zero_base=zero_base, test_size=test_size)\n"
   ]
  },
  {
   "cell_type": "code",
   "execution_count": 83,
   "metadata": {},
   "outputs": [
    {
     "data": {
      "text/plain": [
       "(899, 5)"
      ]
     },
     "execution_count": 83,
     "metadata": {},
     "output_type": "execute_result"
    }
   ],
   "source": [
    "available_data.shape"
   ]
  },
  {
   "cell_type": "code",
   "execution_count": 82,
   "metadata": {},
   "outputs": [
    {
     "data": {
      "text/plain": [
       "(100, 5)"
      ]
     },
     "execution_count": 82,
     "metadata": {},
     "output_type": "execute_result"
    }
   ],
   "source": [
    "val_data.shape"
   ]
  },
  {
   "cell_type": "code",
   "execution_count": 84,
   "metadata": {},
   "outputs": [],
   "source": [
    "tr_data, tst_data, X_t, X_tst, y_t, y_tst = prepare_data(val_data, aim, window_len=window_len, zero_base=True, test_size=0)"
   ]
  },
  {
   "cell_type": "code",
   "execution_count": 85,
   "metadata": {
    "collapsed": true,
    "jupyter": {
     "outputs_hidden": true
    },
    "tags": []
   },
   "outputs": [
    {
     "data": {
      "text/plain": [
       "array([ 5.01876387e-03,  2.85384170e-02,  2.02557487e-02, -1.30737123e-02,\n",
       "        2.19349299e-02, -8.31216949e-03, -4.08778451e-02, -1.05785957e-02,\n",
       "       -2.00111813e-02, -6.56106871e-02, -5.70237270e-02, -3.95373623e-02,\n",
       "       -6.26889485e-02, -5.17802552e-02,  1.85118151e-02,  1.24801678e-01,\n",
       "        7.57080030e-02,  1.27914471e-01,  1.31256725e-01,  9.33304024e-02,\n",
       "        2.13019625e-02,  3.97334435e-02, -1.57818671e-02, -2.80834445e-02,\n",
       "       -4.47627201e-02, -6.78333642e-02, -3.66965536e-02, -2.85383346e-02,\n",
       "       -3.33593704e-02,  1.91362713e-02,  1.33112695e-02, -5.09665738e-02,\n",
       "       -4.87619450e-02, -3.07381911e-02, -5.15879448e-02, -5.40099176e-02,\n",
       "       -2.90279203e-02, -8.87988626e-02, -1.01628427e-01, -8.72052655e-02,\n",
       "       -9.04812875e-03,  1.10941773e-01,  2.11577618e-01,  2.05202402e-01,\n",
       "        2.22091805e-01,  2.45396782e-01,  1.15869215e-01,  1.33863199e-01,\n",
       "        1.41291198e-01,  1.24273665e-01, -5.26224917e-03,  5.15811768e-02,\n",
       "       -1.85322421e-02, -9.16621237e-03, -4.88943967e-03, -4.62589038e-03,\n",
       "       -3.65550455e-02,  3.25677385e-02,  2.05942916e-02,  1.77813612e-02,\n",
       "        4.89520518e-02,  3.34102807e-02, -1.93519257e-02,  4.88573607e-03,\n",
       "       -1.03757690e-02, -1.47230160e-02, -9.42571437e-03,  4.97769784e-03,\n",
       "        5.62000208e-03,  5.20883734e-02,  7.72852219e-02,  7.10139957e-02,\n",
       "        8.71725562e-02,  7.56668606e-02,  2.21932873e-02,  3.45127651e-03,\n",
       "       -1.53171483e-02,  2.03135330e-04, -5.48079508e-02, -6.77152634e-02,\n",
       "       -1.00374365e-01, -5.48217872e-02, -9.18172838e-02, -4.46631779e-02,\n",
       "        2.02310962e-03,  4.22718249e-02,  5.95293860e-02,  6.23799410e-02,\n",
       "        6.25031578e-02,  3.29467835e-02, -1.22127911e-02, -2.72424343e-02,\n",
       "       -9.74150254e-03, -1.34205939e-02,  9.31816930e-03,  2.77872586e-02,\n",
       "       -8.36278935e-03, -4.67636780e-02, -4.19544798e-02, -6.46270319e-02,\n",
       "       -6.51541517e-02, -5.75126363e-02, -3.22930638e-02, -2.57218422e-02,\n",
       "       -1.58199194e-02,  2.41836623e-03,  2.27878250e-02,  1.71800258e-03,\n",
       "       -1.38793846e-03, -2.19828040e-03, -1.05815526e-02, -2.03002232e-02,\n",
       "        1.48512674e-02, -2.05076141e-02, -2.31949681e-02, -1.56498969e-03,\n",
       "        1.86224802e-04,  3.10581232e-02,  5.34539658e-02,  4.61063565e-02,\n",
       "        1.88883214e-02, -1.35322986e-03, -2.93037591e-02, -2.40543113e-02,\n",
       "       -2.09136143e-02, -5.44700822e-02,  1.53684494e-02, -3.31558049e-02,\n",
       "       -2.10796617e-02, -2.35071017e-02,  4.39245653e-03, -4.79076815e-02,\n",
       "       -1.64829491e-02, -2.12977209e-02, -5.09562536e-02, -9.39274902e-03,\n",
       "        1.61790203e-02,  2.36168891e-02,  1.56441771e-02,  6.82787740e-02,\n",
       "        1.05846087e-01,  1.38504080e-01,  1.27010268e-01,  1.65092443e-01,\n",
       "        1.37201311e-01,  7.61152593e-02,  9.13852788e-03,  2.70209858e-02,\n",
       "       -1.99126709e-02, -2.62452489e-03,  3.06604873e-04,  1.05031751e-02,\n",
       "       -2.45695683e-03,  3.58671175e-02,  1.04836848e-02,  1.07672617e-03,\n",
       "       -2.25747812e-02, -8.89472297e-03, -2.79742074e-02, -1.96902411e-02,\n",
       "       -3.05656714e-03,  2.43070596e-02,  1.16330035e-03,  3.86202506e-02,\n",
       "        5.01646016e-03, -4.01327521e-03, -1.27394921e-02, -7.96576695e-03,\n",
       "       -5.07117803e-02, -1.32884622e-02, -1.61613654e-02, -1.09245207e-02,\n",
       "       -1.14141615e-02,  7.52265722e-03, -2.44978052e-02])"
      ]
     },
     "execution_count": 85,
     "metadata": {},
     "output_type": "execute_result"
    }
   ],
   "source": [
    "y_tst"
   ]
  },
  {
   "cell_type": "code",
   "execution_count": 79,
   "metadata": {
    "collapsed": true,
    "jupyter": {
     "outputs_hidden": true
    },
    "tags": []
   },
   "outputs": [
    {
     "data": {
      "text/plain": [
       "array([ 5.01876387e-03,  2.85384170e-02,  2.02557487e-02, -1.30737123e-02,\n",
       "        2.19349299e-02, -8.31216949e-03, -4.08778451e-02, -1.05785957e-02,\n",
       "       -2.00111813e-02, -6.56106871e-02, -5.70237270e-02, -3.95373623e-02,\n",
       "       -6.26889485e-02, -5.17802552e-02,  1.85118151e-02,  1.24801678e-01,\n",
       "        7.57080030e-02,  1.27914471e-01,  1.31256725e-01,  9.33304024e-02,\n",
       "        2.13019625e-02,  3.97334435e-02, -1.57818671e-02, -2.80834445e-02,\n",
       "       -4.47627201e-02, -6.78333642e-02, -3.66965536e-02, -2.85383346e-02,\n",
       "       -3.33593704e-02,  1.91362713e-02,  1.33112695e-02, -5.09665738e-02,\n",
       "       -4.87619450e-02, -3.07381911e-02, -5.15879448e-02, -5.40099176e-02,\n",
       "       -2.90279203e-02, -8.87988626e-02, -1.01628427e-01, -8.72052655e-02,\n",
       "       -9.04812875e-03,  1.10941773e-01,  2.11577618e-01,  2.05202402e-01,\n",
       "        2.22091805e-01,  2.45396782e-01,  1.15869215e-01,  1.33863199e-01,\n",
       "        1.41291198e-01,  1.24273665e-01, -5.26224917e-03,  5.15811768e-02,\n",
       "       -1.85322421e-02, -9.16621237e-03, -4.88943967e-03, -4.62589038e-03,\n",
       "       -3.65550455e-02,  3.25677385e-02,  2.05942916e-02,  1.77813612e-02,\n",
       "        4.89520518e-02,  3.34102807e-02, -1.93519257e-02,  4.88573607e-03,\n",
       "       -1.03757690e-02, -1.47230160e-02, -9.42571437e-03,  4.97769784e-03,\n",
       "        5.62000208e-03,  5.20883734e-02,  7.72852219e-02,  7.10139957e-02,\n",
       "        8.71725562e-02,  7.56668606e-02,  2.21932873e-02,  3.45127651e-03,\n",
       "       -1.53171483e-02,  2.03135330e-04, -5.48079508e-02, -6.77152634e-02,\n",
       "       -1.00374365e-01, -5.48217872e-02, -9.18172838e-02, -4.46631779e-02,\n",
       "        2.02310962e-03,  4.22718249e-02,  5.95293860e-02,  6.23799410e-02,\n",
       "        6.25031578e-02,  3.29467835e-02, -1.22127911e-02, -2.72424343e-02,\n",
       "       -9.74150254e-03, -1.34205939e-02,  9.31816930e-03,  2.77872586e-02,\n",
       "       -8.36278935e-03, -4.67636780e-02, -4.19544798e-02, -6.46270319e-02,\n",
       "       -6.51541517e-02, -5.75126363e-02, -3.22930638e-02, -2.57218422e-02,\n",
       "       -1.58199194e-02,  2.41836623e-03,  2.27878250e-02,  1.71800258e-03,\n",
       "       -1.38793846e-03, -2.19828040e-03, -1.05815526e-02, -2.03002232e-02,\n",
       "        1.48512674e-02, -2.05076141e-02, -2.31949681e-02, -1.56498969e-03,\n",
       "        1.86224802e-04,  3.10581232e-02,  5.34539658e-02,  4.61063565e-02,\n",
       "        1.88883214e-02, -1.35322986e-03, -2.93037591e-02, -2.40543113e-02,\n",
       "       -2.09136143e-02, -5.44700822e-02,  1.53684494e-02, -3.31558049e-02,\n",
       "       -2.10796617e-02, -2.35071017e-02,  4.39245653e-03, -4.79076815e-02,\n",
       "       -1.64829491e-02, -2.12977209e-02, -5.09562536e-02, -9.39274902e-03,\n",
       "        1.61790203e-02,  2.36168891e-02,  1.56441771e-02,  6.82787740e-02,\n",
       "        1.05846087e-01,  1.38504080e-01,  1.27010268e-01,  1.65092443e-01,\n",
       "        1.37201311e-01,  7.61152593e-02,  9.13852788e-03,  2.70209858e-02,\n",
       "       -1.99126709e-02, -2.62452489e-03,  3.06604873e-04,  1.05031751e-02,\n",
       "       -2.45695683e-03,  3.58671175e-02,  1.04836848e-02,  1.07672617e-03,\n",
       "       -2.25747812e-02, -8.89472297e-03, -2.79742074e-02, -1.96902411e-02,\n",
       "       -3.05656714e-03,  2.43070596e-02,  1.16330035e-03,  3.86202506e-02,\n",
       "        5.01646016e-03, -4.01327521e-03, -1.27394921e-02, -7.96576695e-03,\n",
       "       -5.07117803e-02, -1.32884622e-02, -1.61613654e-02, -1.09245207e-02,\n",
       "       -1.14141615e-02,  7.52265722e-03, -2.44978052e-02])"
      ]
     },
     "execution_count": 79,
     "metadata": {},
     "output_type": "execute_result"
    }
   ],
   "source": [
    "y_test"
   ]
  },
  {
   "cell_type": "code",
   "execution_count": 77,
   "metadata": {
    "colab": {
     "base_uri": "https://localhost:8080/"
    },
    "id": "JKgo07hGJy4S",
    "outputId": "38d99f7b-037c-4a80-f458-45dbe3170cfc"
   },
   "outputs": [
    {
     "name": "stdout",
     "output_type": "stream",
     "text": [
      "(714, 5, 5)\n"
     ]
    }
   ],
   "source": [
    "print(X_train.shape)\n"
   ]
  },
  {
   "cell_type": "code",
   "execution_count": 57,
   "metadata": {
    "colab": {
     "base_uri": "https://localhost:8080/"
    },
    "id": "d1TEOxBr1ALy",
    "outputId": "51104b89-80ab-47aa-9031-9cc12a5cd0a8",
    "tags": []
   },
   "outputs": [
    {
     "name": "stdout",
     "output_type": "stream",
     "text": [
      "Epoch 1/20\n",
      "23/23 [==============================] - 3s 29ms/step - loss: 0.0057 - val_loss: 0.0021\n",
      "Epoch 2/20\n",
      "23/23 [==============================] - 0s 5ms/step - loss: 0.0041 - val_loss: 0.0018\n",
      "Epoch 3/20\n",
      "23/23 [==============================] - 0s 6ms/step - loss: 0.0032 - val_loss: 0.0015\n",
      "Epoch 4/20\n",
      "23/23 [==============================] - 0s 5ms/step - loss: 0.0032 - val_loss: 0.0015\n",
      "Epoch 5/20\n",
      "23/23 [==============================] - 0s 5ms/step - loss: 0.0029 - val_loss: 0.0015\n",
      "Epoch 6/20\n",
      "23/23 [==============================] - 0s 5ms/step - loss: 0.0027 - val_loss: 0.0013\n",
      "Epoch 7/20\n",
      "23/23 [==============================] - 0s 5ms/step - loss: 0.0025 - val_loss: 0.0012\n",
      "Epoch 8/20\n",
      "23/23 [==============================] - 0s 5ms/step - loss: 0.0026 - val_loss: 0.0013\n",
      "Epoch 9/20\n",
      "23/23 [==============================] - 0s 6ms/step - loss: 0.0022 - val_loss: 0.0011\n",
      "Epoch 10/20\n",
      "23/23 [==============================] - 0s 5ms/step - loss: 0.0023 - val_loss: 9.8107e-04\n",
      "Epoch 11/20\n",
      "23/23 [==============================] - 0s 6ms/step - loss: 0.0022 - val_loss: 0.0013\n",
      "Epoch 12/20\n",
      "23/23 [==============================] - 0s 6ms/step - loss: 0.0022 - val_loss: 0.0011\n",
      "Epoch 13/20\n",
      "23/23 [==============================] - 0s 5ms/step - loss: 0.0021 - val_loss: 9.9807e-04\n",
      "Epoch 14/20\n",
      "23/23 [==============================] - 0s 5ms/step - loss: 0.0019 - val_loss: 9.4975e-04\n",
      "Epoch 15/20\n",
      "23/23 [==============================] - 0s 6ms/step - loss: 0.0020 - val_loss: 9.0192e-04\n",
      "Epoch 16/20\n",
      "23/23 [==============================] - 0s 6ms/step - loss: 0.0019 - val_loss: 9.1027e-04\n",
      "Epoch 17/20\n",
      "23/23 [==============================] - 0s 5ms/step - loss: 0.0019 - val_loss: 9.3166e-04\n",
      "Epoch 18/20\n",
      "23/23 [==============================] - 0s 5ms/step - loss: 0.0018 - val_loss: 8.3624e-04\n",
      "Epoch 19/20\n",
      "23/23 [==============================] - 0s 5ms/step - loss: 0.0018 - val_loss: 8.7915e-04\n",
      "Epoch 20/20\n",
      "23/23 [==============================] - 0s 6ms/step - loss: 0.0017 - val_loss: 8.3482e-04\n"
     ]
    }
   ],
   "source": [
    "# Build an LSTM model\n",
    "model = build_lstm_model(\n",
    "    X_train, output_size=output_size, neurons=lstm_neurons, dropout=dropout, loss=loss, optimizer=optimizer)\n",
    "\n",
    "# Train the LSTM model\n",
    "modelfit = model.fit(\n",
    "    X_train, y_train, validation_data=(X_test, y_test), epochs=epochs, batch_size=batch_size, verbose=1, shuffle=False)\n"
   ]
  },
  {
   "cell_type": "markdown",
   "metadata": {
    "tags": []
   },
   "source": [
    "# 5. Results"
   ]
  },
  {
   "cell_type": "code",
   "execution_count": 58,
   "metadata": {
    "colab": {
     "base_uri": "https://localhost:8080/",
     "height": 295
    },
    "id": "m5ilATOy1ZqE",
    "outputId": "e4f214de-dec9-4030-ff53-6677e7c18f87"
   },
   "outputs": [
    {
     "data": {
      "image/png": "[encoded data removed]",
      "text/plain": [
       "<Figure size 640x480 with 1 Axes>"
      ]
     },
     "metadata": {},
     "output_type": "display_data"
    }
   ],
   "source": [
    "# Plotting the training and validation loss during model training\n",
    "plt.plot(modelfit.history['loss'], 'r', linewidth=2, label='Training loss')\n",
    "plt.plot(modelfit.history['val_loss'], 'g', linewidth=2, label='Validation loss')\n",
    "\n",
    "# Set plot title and axis labels\n",
    "plt.title('LSTM Neural Networks - BTC Model')\n",
    "plt.xlabel('Epochs numbers')\n",
    "plt.ylabel('MSE numbers')\n",
    "\n",
    "# Display legend to distinguish between training and validation loss\n",
    "plt.legend()\n",
    "\n",
    "# Show the plot\n",
    "plt.show()\n"
   ]
  },
  {
   "cell_type": "code",
   "execution_count": 63,
   "metadata": {
    "colab": {
     "base_uri": "https://localhost:8080/"
    },
    "id": "MyfyB5SA1saZ",
    "outputId": "da16ff40-07cf-4357-8e5f-861ce75ac98e"
   },
   "outputs": [
    {
     "name": "stdout",
     "output_type": "stream",
     "text": [
      "6/6 [==============================] - 1s 2ms/step\n"
     ]
    },
    {
     "data": {
      "text/plain": [
       "Date\n",
       "2023-01-31    23125.0\n",
       "2023-02-01    23733.0\n",
       "2023-02-02    23489.0\n",
       "2023-02-03    23432.0\n",
       "2023-02-04    23327.0\n",
       "               ...   \n",
       "2023-07-20    29800.0\n",
       "2023-07-21    29902.0\n",
       "2023-07-22    29794.0\n",
       "2023-07-23    30084.0\n",
       "2023-07-24    29176.0\n",
       "Name: Close, Length: 175, dtype: float64"
      ]
     },
     "execution_count": 63,
     "metadata": {},
     "output_type": "execute_result"
    }
   ],
   "source": [
    "# Extract the target values from the test dataset\n",
    "targets = test_data[aim][window_len:]\n",
    "\n",
    "# Make predictions using the trained LSTM model on the test data\n",
    "preds = model.predict(X_test).squeeze()\n",
    "\n",
    "# Calculate the Mean Absolute Error (MAE) between predictions and actual targets\n",
    "mae = mean_absolute_error(preds, y_test)\n",
    "\n",
    "# Display the actual target values\n",
    "targets.round()\n"
   ]
  },
  {
   "cell_type": "code",
   "execution_count": 64,
   "metadata": {
    "colab": {
     "base_uri": "https://localhost:8080/"
    },
    "id": "pJbbB0Ji1u3z",
    "outputId": "ececa6bb-84a9-4f39-ce98-c31d9a4bdc5f"
   },
   "outputs": [
    {
     "data": {
      "text/plain": [
       "0.0008348236159619269"
      ]
     },
     "execution_count": 64,
     "metadata": {},
     "output_type": "execute_result"
    }
   ],
   "source": [
    "# Calculate the Mean Squared Error (MSE) between predictions and actual targets\n",
    "SCORE_MSE = mean_squared_error(preds, y_test)\n",
    "\n",
    "# Display the calculated MSE score\n",
    "SCORE_MSE\n"
   ]
  },
  {
   "cell_type": "code",
   "execution_count": 65,
   "metadata": {
    "colab": {
     "base_uri": "https://localhost:8080/"
    },
    "id": "jYFWq3gI10a6",
    "outputId": "a9c0623e-b434-4962-8649-57a18d4efefb"
   },
   "outputs": [
    {
     "data": {
      "text/plain": [
       "77.06262447185257"
      ]
     },
     "execution_count": 65,
     "metadata": {},
     "output_type": "execute_result"
    }
   ],
   "source": [
    "# Calculate the R-squared (R2) score between actual targets and predicted values\n",
    "r2_score = r2_score(y_test, preds)\n",
    "\n",
    "# Multiply the R2 score by 100 for percentage representation\n",
    "r2_score * 100\n"
   ]
  },
  {
   "cell_type": "code",
   "execution_count": 66,
   "metadata": {
    "colab": {
     "base_uri": "https://localhost:8080/",
     "height": 428
    },
    "id": "ICd7mlF_1861",
    "outputId": "7a04803a-8db1-4ec0-8300-088eb8f1b734"
   },
   "outputs": [
    {
     "data": {
      "image/png": "[encoded data removed]",
      "text/plain": [
       "<Figure size 1300x700 with 1 Axes>"
      ]
     },
     "metadata": {},
     "output_type": "display_data"
    }
   ],
   "source": [
    "# Generate final predictions by reversing the normalization process\n",
    "preds = test_data[aim].values[:-window_len] * (preds + 1)\n",
    "\n",
    "# Create a pandas Series with index and data for predictions\n",
    "preds = pd.Series(index=targets.index, data=preds)\n",
    "\n",
    "# Plotting the actual and predicted values\n",
    "line_plot(targets, preds, 'actual', 'prediction', lw=3)\n"
   ]
  },
  {
   "cell_type": "markdown",
   "metadata": {
    "jp-MarkdownHeadingCollapsed": true,
    "tags": []
   },
   "source": [
    "# 6. Preprocess Data for Binary Classification "
   ]
  },
  {
   "cell_type": "code",
   "execution_count": null,
   "metadata": {},
   "outputs": [],
   "source": [
    "# Assuming 'data' is the DataFrame containing time series data\n",
    "data['aim_binary'] = (data['Close'] > data['Close'].shift(1)).astype(int)\n",
    "\n",
    "# Drop NaN values introduced by the shift operation\n",
    "data = data.dropna()\n",
    "data.head()\n"
   ]
  },
  {
   "cell_type": "code",
   "execution_count": null,
   "metadata": {},
   "outputs": [],
   "source": [
    "# def prepare_data_binary(continuous, aim, window_len=10, zero_base=True, test_size=0.2):\n",
    "#     X_train = extract_window_data(train_data[continuous.columns], window_len, zero_base)\n",
    "#     X_test = extract_window_data(test_data[continuous.columns], window_len, zero_base)\n",
    "#     y_train = train_data[aim][window_len:].values\n",
    "#     y_test = test_data[aim][window_len:].values\n",
    "#     if zero_base:\n",
    "#         y_train = y_train / train_data[aim][:-window_len].values - 1\n",
    "#         y_test = y_test / test_data[aim][:-window_len].values - 1\n",
    "\n",
    "#     return train_data, test_data, X_train, X_test, y_train, y_test\n"
   ]
  },
  {
   "cell_type": "code",
   "execution_count": null,
   "metadata": {},
   "outputs": [],
   "source": [
    "# Prepare data for binary classification\n",
    "aim_binary = 'aim_binary'\n",
    "X_train, X_test, y_train, y_test = train_test_split(data.drop(columns=[aim_binary]), data[aim_binary], test_size=0.2, shuffle=False)\n"
   ]
  },
  {
   "cell_type": "markdown",
   "metadata": {
    "jp-MarkdownHeadingCollapsed": true,
    "tags": []
   },
   "source": [
    "# 7. Binary Classification Model"
   ]
  },
  {
   "cell_type": "code",
   "execution_count": null,
   "metadata": {},
   "outputs": [],
   "source": [
    "# Function to build a binary classification model\n",
    "def build_binary_classification_model(input_data, output_size, neurons, activ_func='sigmoid', dropout=0.3, loss='binary_crossentropy', optimizer='adam'):\n",
    "    model2 = Sequential()\n",
    "    # Assuming your time series data has only one feature (e.g., 'Close' column)\n",
    "    model2.add(LSTM(neurons, input_shape=(X_train.shape[1], 1)))  # Adjust the input shape\n",
    "    model2.add(Dropout(dropout))\n",
    "    model2.add(Dense(units=output_size))\n",
    "    model2.add(Activation(activ_func))\n",
    "    model2.compile(loss=loss, optimizer=optimizer, metrics=['accuracy'])\n",
    "    return model2\n"
   ]
  },
  {
   "cell_type": "code",
   "execution_count": null,
   "metadata": {},
   "outputs": [],
   "source": [
    "# Specify parameters for the binary classification model\n",
    "binary_lstm_neurons = 50\n",
    "binary_epochs = 20\n",
    "batch_size = 32\n"
   ]
  },
  {
   "cell_type": "code",
   "execution_count": null,
   "metadata": {},
   "outputs": [],
   "source": [
    "# Build the binary classification model\n",
    "binary_model = build_binary_classification_model(X_train, output_size=1, neurons=binary_lstm_neurons)\n",
    "\n",
    "# Train the binary classification model\n",
    "binary_modelfit = binary_model.fit(X_train, y_train, validation_data=(X_test, y_test), epochs=binary_epochs, batch_size=batch_size, verbose=1, shuffle=False)\n"
   ]
  },
  {
   "cell_type": "markdown",
   "metadata": {
    "jp-MarkdownHeadingCollapsed": true,
    "tags": []
   },
   "source": [
    "# 8. Binary Classification "
   ]
  },
  {
   "cell_type": "code",
   "execution_count": null,
   "metadata": {},
   "outputs": [],
   "source": [
    "# Plotting the training and validation loss during model training\n",
    "plt.plot(binary_modelfit.history['loss'], 'r', linewidth=2, label='Training loss')\n",
    "plt.plot(binary_modelfit.history['val_loss'], 'g', linewidth=2, label='Validation loss')\n",
    "\n",
    "# Set plot title and axis labels\n",
    "plt.title('LSTM Neural Networks - BTC Model')\n",
    "plt.xlabel('Epochs numbers')\n",
    "plt.ylabel('MSE numbers')\n",
    "\n",
    "# Display legend to distinguish between training and validation loss\n",
    "plt.legend()\n",
    "\n",
    "# Show the plot\n",
    "plt.show()\n"
   ]
  },
  {
   "cell_type": "code",
   "execution_count": null,
   "metadata": {
    "tags": []
   },
   "outputs": [],
   "source": [
    "# Make predictions using the trained binary classification model on the test data\n",
    "binary_preds = (binary_model.predict(X_test) > 0.5).astype(int)\n",
    "\n",
    "# Extract the binary target values from the test dataset\n",
    "binary_targets = y_test.astype(int)\n",
    "\n",
    "# Display the actual binary target values\n",
    "print(\"Actual Binary Targets:\")\n",
    "print(binary_targets)\n",
    "\n",
    "# Display the predicted binary target values\n",
    "print(\"Predicted Binary Targets:\")\n",
    "print(binary_preds)\n"
   ]
  },
  {
   "cell_type": "code",
   "execution_count": null,
   "metadata": {},
   "outputs": [],
   "source": [
    "# Evaluate the binary classification model\n",
    "binary_preds = (binary_model.predict(X_test) > 0.5).astype(int)\n",
    "accuracy = accuracy_score(y_test, binary_preds)\n",
    "print(f'Accuracy: {accuracy}')\n"
   ]
  }
 ],
 "metadata": {
  "colab": {
   "name": "Untitled11.ipynb",
   "provenance": [],
   "toc_visible": true
  },
  "kernelspec": {
   "display_name": "Python 3 (ipykernel)",
   "language": "python",
   "name": "python3"
  },
  "language_info": {
   "codemirror_mode": {
    "name": "ipython",
    "version": 3
   },
   "file_extension": ".py",
   "mimetype": "text/x-python",
   "name": "python",
   "nbconvert_exporter": "python",
   "pygments_lexer": "ipython3",
   "version": "3.10.6"
  },
  "toc": {
   "base_numbering": 1,
   "nav_menu": {},
   "number_sections": true,
   "sideBar": true,
   "skip_h1_title": false,
   "title_cell": "Table of Contents",
   "title_sidebar": "Contents",
   "toc_cell": false,
   "toc_position": {},
   "toc_section_display": true,
   "toc_window_display": false
  }
 },
 "nbformat": 4,
 "nbformat_minor": 4
}
